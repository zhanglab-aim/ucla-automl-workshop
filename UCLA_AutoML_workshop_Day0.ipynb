{
  "cells": [
    {
      "cell_type": "markdown",
      "metadata": {
        "id": "view-in-github",
        "colab_type": "text"
      },
      "source": [
        "<a href=\"https://colab.research.google.com/github/zhanglab-aim/ucla-automl-workshop/blob/main/UCLA_AutoML_workshop_Day0.ipynb\" target=\"_parent\"><img src=\"https://colab.research.google.com/assets/colab-badge.svg\" alt=\"Open In Colab\"/></a>"
      ]
    },
    {
      "cell_type": "markdown",
      "metadata": {
        "id": "9Mi0r2RnpoRD"
      },
      "source": [
        "# Day 0. Data Simulation\n",
        "\n",
        "- use `simdna` python package to generate data\n",
        "- build a simple CNN to model it\n",
        "\n",
        "Reference:\n",
        "http://compbio.mit.edu/encode-motifs/\n"
      ]
    },
    {
      "cell_type": "markdown",
      "metadata": {
        "id": "w88_aRxrpwsj"
      },
      "source": [
        "## Installation"
      ]
    },
    {
      "cell_type": "code",
      "execution_count": 1,
      "metadata": {
        "id": "oCEhOHawUPPl"
      },
      "outputs": [],
      "source": [
        "%pip install -q simdna==0.4.3.2 amber-automl==0.1.5"
      ]
    },
    {
      "cell_type": "code",
      "execution_count": 2,
      "metadata": {
        "id": "rLCJzSGKCmPp",
        "scrolled": false
      },
      "outputs": [],
      "source": [
        "#!git clone https://github.com/zj-zhang/AMBER.git\n",
        "#!cd AMBER; python setup.py develop"
      ]
    },
    {
      "cell_type": "code",
      "execution_count": 3,
      "metadata": {
        "colab": {
          "base_uri": "https://localhost:8080/"
        },
        "id": "NY_dhtR1mNhK",
        "outputId": "63bd6b2c-6e27-4bae-e994-ed367516da6b"
      },
      "outputs": [
        {
          "output_type": "stream",
          "name": "stdout",
          "text": [
            "Setting the default backend to \"tensorflow_2\".\n",
            "\n",
            "WARNING:tensorflow:From /usr/local/lib/python3.8/dist-packages/amber/backend/tensorflow_2/cache.py:13: is_gpu_available (from tensorflow.python.framework.test_util) is deprecated and will be removed in a future version.\n",
            "Instructions for updating:\n",
            "Use `tf.config.list_physical_devices('GPU')` instead.\n",
            "WARNING:tensorflow:From /usr/local/lib/python3.8/dist-packages/amber/backend/tensorflow_2/cache.py:13: is_gpu_available (from tensorflow.python.framework.test_util) is deprecated and will be removed in a future version.\n",
            "Instructions for updating:\n",
            "Use `tf.config.list_physical_devices('GPU')` instead.\n",
            "\n",
            " █████╗ ███╗   ███╗██████╗ ███████╗██████╗ \n",
            "██╔══██╗████╗ ████║██╔══██╗██╔════╝██╔══██╗\n",
            "███████║██╔████╔██║██████╔╝█████╗  ██████╔╝\n",
            "██╔══██║██║╚██╔╝██║██╔══██╗██╔══╝  ██╔══██╗\n",
            "██║  ██║██║ ╚═╝ ██║██████╔╝███████╗██║  ██║\n",
            "╚═╝  ╚═╝╚═╝     ╚═╝╚═════╝ ╚══════╝╚═╝  ╚═╝\n",
            "\n",
            "Automated Modeling of Biological Evidence-based Research\n",
            "Version 0.1.5\n"
          ]
        }
      ],
      "source": [
        "!amber-cli config -b tensorflow_2\n",
        "!amber-cli -v"
      ]
    },
    {
      "cell_type": "markdown",
      "metadata": {
        "id": "dRJqk3umwV6n"
      },
      "source": [
        "## Simulate data"
      ]
    },
    {
      "cell_type": "code",
      "execution_count": 4,
      "metadata": {
        "id": "WQRG-ZMVi_gE"
      },
      "outputs": [],
      "source": [
        "!densityMotifSimulation.py --prefix targets --motifNames CTCF_known1 --max-motifs 2 --min-motifs 1 --mean-motifs 1 --seqLength 200 --numSeqs 2500 --seed 777\n",
        "!emptyBackground.py --prefix empty_bg --seqLength 200 --numSeqs 2500"
      ]
    },
    {
      "cell_type": "code",
      "execution_count": 5,
      "metadata": {
        "colab": {
          "base_uri": "https://localhost:8080/"
        },
        "id": "xmj6vRiGnMit",
        "outputId": "90e11b30-3bdb-4d95-ed9f-14006eb97829"
      },
      "outputs": [
        {
          "output_type": "stream",
          "name": "stderr",
          "text": [
            "WARNING:tensorflow:From /usr/local/lib/python3.8/dist-packages/amber/backend/tensorflow_2/cache.py:13: is_gpu_available (from tensorflow.python.framework.test_util) is deprecated and will be removed in a future version.\n",
            "Instructions for updating:\n",
            "Use `tf.config.list_physical_devices('GPU')` instead.\n"
          ]
        },
        {
          "output_type": "stream",
          "name": "stdout",
          "text": [
            "amber.utils.data_parser failed to import pysam; sequence utility will be limited\n"
          ]
        }
      ],
      "source": [
        "import amber\n",
        "import os\n",
        "import numpy as np\n",
        "import tensorflow as tf\n",
        "import matplotlib.pyplot as plt\n",
        "from amber.utils import data_parser\n",
        "%matplotlib inline"
      ]
    },
    {
      "cell_type": "code",
      "execution_count": 6,
      "metadata": {
        "id": "UOGgDUo9rKb8"
      },
      "outputs": [],
      "source": [
        "x, y = data_parser.get_data_from_simdata(\n",
        "    positive_file=\"DensityEmbedding_prefix-targets_motifs-CTCF_known1_min-1_max-2_mean-1_zeroProb-0_seqLength-200_numSeqs-2500.simdata\",\n",
        "    negative_file=\"EmptyBackground_prefix-empty_bg_seqLength-200_numSeqs-2500.simdata\",\n",
        "    targets=['CTCF']\n",
        ")"
      ]
    },
    {
      "cell_type": "code",
      "execution_count": 7,
      "metadata": {
        "id": "_RTiPanbtLjB"
      },
      "outputs": [],
      "source": [
        "np.savez('genomic_data.npz', x=x, y=y)"
      ]
    },
    {
      "cell_type": "markdown",
      "metadata": {
        "id": "O2bFxaNL_N8P"
      },
      "source": [
        "## A simple CNN model"
      ]
    },
    {
      "cell_type": "code",
      "execution_count": 8,
      "metadata": {
        "colab": {
          "base_uri": "https://localhost:8080/"
        },
        "id": "wE63DsHytf-x",
        "outputId": "b6ed5e76-f276-4420-e87e-58e55e61c44b"
      },
      "outputs": [
        {
          "output_type": "stream",
          "name": "stdout",
          "text": [
            "Model: \"sequential\"\n",
            "_________________________________________________________________\n",
            " Layer (type)                Output Shape              Param #   \n",
            "=================================================================\n",
            " conv_1 (Conv1D)             (None, 200, 32)           928       \n",
            "                                                                 \n",
            " maxpool_1 (MaxPooling1D)    (None, 50, 32)            0         \n",
            "                                                                 \n",
            " conv_2 (Conv1D)             (None, 50, 128)           28800     \n",
            "                                                                 \n",
            " gap (GlobalAveragePooling1D  (None, 128)              0         \n",
            " )                                                               \n",
            "                                                                 \n",
            " output (Dense)              (None, 1)                 129       \n",
            "                                                                 \n",
            "=================================================================\n",
            "Total params: 29,857\n",
            "Trainable params: 29,857\n",
            "Non-trainable params: 0\n",
            "_________________________________________________________________\n"
          ]
        }
      ],
      "source": [
        "model = tf.keras.Sequential([\n",
        "    tf.keras.layers.Conv1D(filters=32, kernel_size=7, strides=1, padding='same', input_shape=(200,4), name='conv_1'),\n",
        "    tf.keras.layers.MaxPool1D(pool_size=4, padding='same', name='maxpool_1'),\n",
        "    tf.keras.layers.Conv1D(filters=128, kernel_size=7, strides=1, padding='same', name='conv_2'),\n",
        "    tf.keras.layers.GlobalAveragePooling1D(name='gap'),\n",
        "    tf.keras.layers.Dense(units=1, activation='sigmoid', name='output')\n",
        "])\n",
        "\n",
        "model.compile(optimizer='adam', loss='binary_crossentropy', metrics=['acc', tf.keras.metrics.AUC(curve='ROC', name='auroc')])\n",
        "\n",
        "model.summary()"
      ]
    },
    {
      "cell_type": "code",
      "execution_count": 9,
      "metadata": {
        "colab": {
          "base_uri": "https://localhost:8080/"
        },
        "id": "SUCVsJZp3qEn",
        "outputId": "e82b3c23-2300-4c95-abda-cabe263b838e"
      },
      "outputs": [
        {
          "output_type": "stream",
          "name": "stdout",
          "text": [
            "Epoch 1/20\n",
            "71/71 [==============================] - 5s 30ms/step - loss: 0.6726 - acc: 0.5787 - auroc: 0.6122 - val_loss: 0.6111 - val_acc: 0.6840 - val_auroc: 0.7878\n",
            "Epoch 2/20\n",
            "71/71 [==============================] - 2s 25ms/step - loss: 0.5954 - acc: 0.6822 - auroc: 0.7446 - val_loss: 0.5417 - val_acc: 0.7200 - val_auroc: 0.8086\n",
            "Epoch 3/20\n",
            "71/71 [==============================] - 2s 25ms/step - loss: 0.5683 - acc: 0.7020 - auroc: 0.7734 - val_loss: 0.5271 - val_acc: 0.7300 - val_auroc: 0.8249\n",
            "Epoch 4/20\n",
            "71/71 [==============================] - 2s 25ms/step - loss: 0.5393 - acc: 0.7256 - auroc: 0.8009 - val_loss: 0.5891 - val_acc: 0.6720 - val_auroc: 0.8424\n",
            "Epoch 5/20\n",
            "71/71 [==============================] - 2s 25ms/step - loss: 0.5120 - acc: 0.7422 - auroc: 0.8245 - val_loss: 0.4918 - val_acc: 0.7420 - val_auroc: 0.8570\n",
            "Epoch 6/20\n",
            "71/71 [==============================] - 2s 24ms/step - loss: 0.4962 - acc: 0.7578 - auroc: 0.8373 - val_loss: 0.4651 - val_acc: 0.7820 - val_auroc: 0.8614\n",
            "Epoch 7/20\n",
            "71/71 [==============================] - 2s 25ms/step - loss: 0.4752 - acc: 0.7693 - auroc: 0.8529 - val_loss: 0.4504 - val_acc: 0.8000 - val_auroc: 0.8680\n",
            "Epoch 8/20\n",
            "71/71 [==============================] - 2s 24ms/step - loss: 0.4618 - acc: 0.7773 - auroc: 0.8617 - val_loss: 0.4640 - val_acc: 0.7760 - val_auroc: 0.8720\n",
            "Epoch 9/20\n",
            "71/71 [==============================] - 2s 24ms/step - loss: 0.4609 - acc: 0.7767 - auroc: 0.8621 - val_loss: 0.4535 - val_acc: 0.8040 - val_auroc: 0.8764\n",
            "Epoch 10/20\n",
            "71/71 [==============================] - 2s 24ms/step - loss: 0.4386 - acc: 0.7896 - auroc: 0.8770 - val_loss: 0.4327 - val_acc: 0.8160 - val_auroc: 0.8791\n",
            "Epoch 11/20\n",
            "71/71 [==============================] - 2s 25ms/step - loss: 0.4513 - acc: 0.7780 - auroc: 0.8681 - val_loss: 0.4792 - val_acc: 0.7760 - val_auroc: 0.8815\n",
            "Epoch 12/20\n",
            "71/71 [==============================] - 2s 25ms/step - loss: 0.4256 - acc: 0.8031 - auroc: 0.8851 - val_loss: 0.4547 - val_acc: 0.7860 - val_auroc: 0.8866\n",
            "Epoch 13/20\n",
            "71/71 [==============================] - 2s 25ms/step - loss: 0.4323 - acc: 0.7929 - auroc: 0.8801 - val_loss: 0.4181 - val_acc: 0.8160 - val_auroc: 0.8890\n",
            "Epoch 14/20\n",
            "71/71 [==============================] - 2s 25ms/step - loss: 0.4138 - acc: 0.8067 - auroc: 0.8914 - val_loss: 0.4153 - val_acc: 0.8280 - val_auroc: 0.8912\n",
            "Epoch 15/20\n",
            "71/71 [==============================] - 2s 24ms/step - loss: 0.4021 - acc: 0.8144 - auroc: 0.8979 - val_loss: 0.4324 - val_acc: 0.8080 - val_auroc: 0.8940\n",
            "Epoch 16/20\n",
            "71/71 [==============================] - 2s 25ms/step - loss: 0.3984 - acc: 0.8140 - auroc: 0.8996 - val_loss: 0.5089 - val_acc: 0.7620 - val_auroc: 0.8952\n",
            "Epoch 17/20\n",
            "71/71 [==============================] - 2s 25ms/step - loss: 0.4191 - acc: 0.8047 - auroc: 0.8886 - val_loss: 0.4617 - val_acc: 0.7840 - val_auroc: 0.8970\n",
            "Epoch 18/20\n",
            "71/71 [==============================] - 2s 25ms/step - loss: 0.4415 - acc: 0.7967 - auroc: 0.8753 - val_loss: 0.4093 - val_acc: 0.8180 - val_auroc: 0.8985\n",
            "Epoch 19/20\n",
            "71/71 [==============================] - 2s 25ms/step - loss: 0.3877 - acc: 0.8207 - auroc: 0.9061 - val_loss: 0.4257 - val_acc: 0.8100 - val_auroc: 0.9004\n",
            "Epoch 20/20\n",
            "71/71 [==============================] - 2s 24ms/step - loss: 0.3823 - acc: 0.8187 - auroc: 0.9083 - val_loss: 0.3929 - val_acc: 0.8300 - val_auroc: 0.9034\n"
          ]
        }
      ],
      "source": [
        "hist = model.fit(x, y, validation_split=0.1, batch_size=64, epochs=20, verbose=True)"
      ]
    },
    {
      "cell_type": "code",
      "execution_count": 10,
      "metadata": {
        "colab": {
          "base_uri": "https://localhost:8080/",
          "height": 322
        },
        "id": "cqhfcyQv4Bnn",
        "outputId": "8b9d1a44-0b3f-4b21-8651-215729883665"
      },
      "outputs": [
        {
          "output_type": "stream",
          "name": "stderr",
          "text": [
            "WARNING:matplotlib.font_manager:findfont: Font family ['serif'] not found. Falling back to DejaVu Sans.\n"
          ]
        },
        {
          "output_type": "display_data",
          "data": {
            "text/plain": [
              "<Figure size 432x288 with 1 Axes>"
            ],
            "image/png": "[encoded data removed]"
          },
          "metadata": {
            "needs_background": "light"
          }
        }
      ],
      "source": [
        "# check the loss plot\n",
        "plt.plot(hist.history['loss'])\n",
        "plt.plot(hist.history['val_loss'])\n",
        "plt.title('Loss Plot')\n",
        "plt.ylabel('Loss')\n",
        "plt.xlabel('Epoch')\n",
        "plt.legend(['train', 'valid'])\n",
        "plt.show()"
      ]
    },
    {
      "cell_type": "code",
      "execution_count": 11,
      "metadata": {
        "colab": {
          "base_uri": "https://localhost:8080/",
          "height": 304
        },
        "id": "TaMzB_rj_GL-",
        "outputId": "2a7e3430-691b-451c-d729-6836fa156742"
      },
      "outputs": [
        {
          "output_type": "display_data",
          "data": {
            "text/plain": [
              "<Figure size 432x288 with 1 Axes>"
            ],
            "image/png": "[encoded data removed]"
          },
          "metadata": {
            "needs_background": "light"
          }
        }
      ],
      "source": [
        "# check the auc plot\n",
        "plt.plot(hist.history['auroc'])\n",
        "plt.plot(hist.history['val_auroc'])\n",
        "plt.title('AUC Plot')\n",
        "plt.ylabel('AUROC')\n",
        "plt.xlabel('Epoch')\n",
        "plt.legend(['train', 'valid'])\n",
        "plt.show()"
      ]
    },
    {
      "cell_type": "code",
      "execution_count": 11,
      "metadata": {
        "id": "zECr0mJSRFKQ"
      },
      "outputs": [],
      "source": []
    }
  ],
  "metadata": {
    "colab": {
      "provenance": [],
      "toc_visible": true,
      "include_colab_link": true
    },
    "kernelspec": {
      "display_name": "Python 3 (ipykernel)",
      "language": "python",
      "name": "python3"
    },
    "language_info": {
      "codemirror_mode": {
        "name": "ipython",
        "version": 3
      },
      "file_extension": ".py",
      "mimetype": "text/x-python",
      "name": "python",
      "nbconvert_exporter": "python",
      "pygments_lexer": "ipython3",
      "version": "3.10.8"
    }
  },
  "nbformat": 4,
  "nbformat_minor": 0
}