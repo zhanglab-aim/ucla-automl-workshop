{
  "cells": [
    {
      "cell_type": "markdown",
      "metadata": {
        "id": "view-in-github",
        "colab_type": "text"
      },
      "source": [
        "<a href=\"https://colab.research.google.com/github/zhanglab-aim/ucla-automl-workshop/blob/main/UCLA_AutoML_workshop_Day2.ipynb\" target=\"_parent\"><img src=\"https://colab.research.google.com/assets/colab-badge.svg\" alt=\"Open In Colab\"/></a>"
      ]
    },
    {
      "cell_type": "markdown",
      "metadata": {
        "id": "oUlqhkIKj7gQ"
      },
      "source": [
        "# Day 2. AutoML and Model Explanation\n",
        "\n",
        "\n",
        "- introduction of reinforcement learning\n",
        "- apply NAS to automate CNN tuning\n",
        "- interpret model and sequence motifs"
      ]
    },
    {
      "cell_type": "markdown",
      "metadata": {
        "id": "8Zfi_-YXmoFn"
      },
      "source": [
        "# 0.Software Installation"
      ]
    },
    {
      "cell_type": "code",
      "execution_count": 1,
      "metadata": {
        "id": "Swriribms9Vx"
      },
      "outputs": [],
      "source": [
        "#%load_ext tensorboard"
      ]
    },
    {
      "cell_type": "code",
      "execution_count": 2,
      "metadata": {
        "id": "27HsYNMtj3-K",
        "colab": {
          "base_uri": "https://localhost:8080/"
        },
        "outputId": "68913c42-16d8-4995-c1bf-bff2af454902"
      },
      "outputs": [
        {
          "output_type": "stream",
          "name": "stdout",
          "text": [
            "\u001b[2K     \u001b[90m━━━━━━━━━━━━━━━━━━━━━━━━━━━━━━━━━━━━━━━\u001b[0m \u001b[32m585.9/585.9 KB\u001b[0m \u001b[31m6.1 MB/s\u001b[0m eta \u001b[36m0:00:00\u001b[0m\n",
            "\u001b[2K     \u001b[90m━━━━━━━━━━━━━━━━━━━━━━━━━━━━━━━━━━━━━━\u001b[0m \u001b[32m512.4/512.4 KB\u001b[0m \u001b[31m24.8 MB/s\u001b[0m eta \u001b[36m0:00:00\u001b[0m\n",
            "\u001b[2K     \u001b[90m━━━━━━━━━━━━━━━━━━━━━━━━━━━━━━━━━━━━━━\u001b[0m \u001b[32m402.2/402.2 KB\u001b[0m \u001b[31m30.4 MB/s\u001b[0m eta \u001b[36m0:00:00\u001b[0m\n",
            "\u001b[2K     \u001b[90m━━━━━━━━━━━━━━━━━━━━━━━━━━━━━━━━━━━━━━━\u001b[0m \u001b[32m210.7/210.7 KB\u001b[0m \u001b[31m4.5 MB/s\u001b[0m eta \u001b[36m0:00:00\u001b[0m\n",
            "\u001b[?25h"
          ]
        }
      ],
      "source": [
        "%pip install -q pytorch-lightning==1.6.5 torchmetrics==0.11.0 expecttest hypothesis amber-automl==0.1.5"
      ]
    },
    {
      "cell_type": "code",
      "execution_count": 3,
      "metadata": {
        "id": "GGhoMXK7mk_d"
      },
      "outputs": [],
      "source": [
        "#!git clone --quiet https://github.com/zj-zhang/AMBER.git\n",
        "#!cd AMBER; python setup.py -q develop"
      ]
    },
    {
      "cell_type": "code",
      "execution_count": 4,
      "metadata": {
        "colab": {
          "base_uri": "https://localhost:8080/"
        },
        "id": "VzLQpZrQmsLA",
        "outputId": "ca4f2cd1-0769-41dd-fd28-d0979aa17b9a"
      },
      "outputs": [
        {
          "output_type": "stream",
          "name": "stdout",
          "text": [
            "Setting the default backend to \"pytorch\".\n",
            "\n",
            "\n",
            " █████╗ ███╗   ███╗██████╗ ███████╗██████╗ \n",
            "██╔══██╗████╗ ████║██╔══██╗██╔════╝██╔══██╗\n",
            "███████║██╔████╔██║██████╔╝█████╗  ██████╔╝\n",
            "██╔══██║██║╚██╔╝██║██╔══██╗██╔══╝  ██╔══██╗\n",
            "██║  ██║██║ ╚═╝ ██║██████╔╝███████╗██║  ██║\n",
            "╚═╝  ╚═╝╚═╝     ╚═╝╚═════╝ ╚══════╝╚═╝  ╚═╝\n",
            "\n",
            "Automated Modeling of Biological Evidence-based Research\n",
            "Version 0.1.5\n"
          ]
        }
      ],
      "source": [
        "!amber-cli config -b pytorch\n",
        "!amber-cli -v"
      ]
    },
    {
      "cell_type": "code",
      "execution_count": 5,
      "metadata": {
        "colab": {
          "base_uri": "https://localhost:8080/"
        },
        "id": "vQPSJd4R9Tvm",
        "outputId": "a692e1f9-1282-4928-838a-b6d4c5326e0b"
      },
      "outputs": [
        {
          "output_type": "stream",
          "name": "stdout",
          "text": [
            "--2023-01-26 04:12:50--  https://raw.githubusercontent.com/zhanglab-aim/ucla-automl-workshop/main/assets/genomic_data.npz\n",
            "Resolving raw.githubusercontent.com (raw.githubusercontent.com)... 185.199.111.133, 185.199.109.133, 185.199.108.133, ...\n",
            "Connecting to raw.githubusercontent.com (raw.githubusercontent.com)|185.199.111.133|:443... connected.\n",
            "HTTP request sent, awaiting response... 200 OK\n",
            "Length: 32020490 (31M) [application/octet-stream]\n",
            "Saving to: ‘genomic_data.npz’\n",
            "\n",
            "genomic_data.npz    100%[===================>]  30.54M  --.-KB/s    in 0.1s    \n",
            "\n",
            "2023-01-26 04:12:52 (239 MB/s) - ‘genomic_data.npz’ saved [32020490/32020490]\n",
            "\n"
          ]
        }
      ],
      "source": [
        "# download data file\n",
        "! if [ ! -f \"genomic_data.npz\" ]; then wget https://raw.githubusercontent.com/zhanglab-aim/ucla-automl-workshop/main/assets/genomic_data.npz ; else echo \"Found downloaded data\" ; fi"
      ]
    },
    {
      "cell_type": "code",
      "execution_count": 6,
      "metadata": {
        "colab": {
          "base_uri": "https://localhost:8080/"
        },
        "id": "qFP6Q9gBs9V0",
        "outputId": "96980ab8-1e94-4f90-a573-657fd23674d8"
      },
      "outputs": [
        {
          "output_type": "stream",
          "name": "stdout",
          "text": [
            "Random seed set as 777\n"
          ]
        }
      ],
      "source": [
        "# reproducibility\n",
        "import os\n",
        "import torch\n",
        "import tensorflow as tf\n",
        "import numpy as np\n",
        "import random\n",
        "\n",
        "# ref: https://wandb.ai/sauravmaheshkar/RSNA-MICCAI/reports/How-to-Set-Random-Seeds-in-PyTorch-and-Tensorflow--VmlldzoxMDA2MDQy\n",
        "def set_seed(seed: int = 42) -> None:\n",
        "    tf.get_logger().setLevel('ERROR')\n",
        "    np.random.seed(seed)\n",
        "    random.seed(seed)\n",
        "    ## tensorflow\n",
        "    tf.random.set_seed(seed)\n",
        "    tf.experimental.numpy.random.seed(seed)\n",
        "    os.environ['TF_CUDNN_DETERMINISTIC'] = '1'\n",
        "    os.environ['TF_DETERMINISTIC_OPS'] = '1'\n",
        "    ## pytorch\n",
        "    torch.manual_seed(seed)\n",
        "    torch.cuda.manual_seed(seed)\n",
        "    torch.backends.cudnn.deterministic = True\n",
        "    torch.backends.cudnn.benchmark = False\n",
        "    # Set a fixed value for the hash seed\n",
        "    os.environ[\"PYTHONHASHSEED\"] = str(seed)\n",
        "    print(f\"Random seed set as {seed}\")\n",
        "\n",
        "set_seed(777)"
      ]
    },
    {
      "cell_type": "code",
      "execution_count": 7,
      "metadata": {
        "colab": {
          "base_uri": "https://localhost:8080/"
        },
        "id": "5CtJXEyZ20Xt",
        "outputId": "d31efb07-18af-4fe1-fdd9-efa7b2533150"
      },
      "outputs": [
        {
          "output_type": "stream",
          "name": "stdout",
          "text": [
            "examine data shape: x=(5000, 200, 4), y=(5000, 1)\n",
            "after split, train=(3600, 200, 4), (3600, 1); valid=(400, 200, 4), (400, 1); test=(1000, 200, 4), (1000, 1)\n"
          ]
        }
      ],
      "source": [
        "import numpy as np\n",
        "from sklearn.model_selection import train_test_split\n",
        "\n",
        "with np.load('genomic_data.npz') as store:\n",
        "    x = store['x']\n",
        "    y = store['y']\n",
        "print(f\"examine data shape: x={x.shape}, y={y.shape}\")\n",
        "x_trainvalid, x_test, y_trainvalid, y_test = train_test_split(x, y, test_size=0.2, random_state=777)\n",
        "x_train, x_valid, y_train, y_valid = train_test_split(x_trainvalid, y_trainvalid, test_size=0.1, random_state=111)\n",
        "print(f\"after split, train={x_train.shape}, {y_train.shape}; valid={x_valid.shape}, {y_valid.shape}; test={x_test.shape}, {y_test.shape}\")"
      ]
    },
    {
      "cell_type": "markdown",
      "metadata": {
        "id": "cCAZMWkJoDB2"
      },
      "source": [
        "# 1.Define a Framework-agnostic CNN Model Space"
      ]
    },
    {
      "cell_type": "code",
      "execution_count": 8,
      "metadata": {
        "id": "iCqINHihoFya"
      },
      "outputs": [],
      "source": [
        "from amber import architect\n",
        "from amber.backend import Operation"
      ]
    },
    {
      "cell_type": "code",
      "execution_count": 9,
      "metadata": {
        "colab": {
          "base_uri": "https://localhost:8080/"
        },
        "id": "mWqFiGtboJAj",
        "outputId": "c0b270d7-d5bc-4478-e9c5-9c39b2056271"
      },
      "outputs": [
        {
          "output_type": "stream",
          "name": "stdout",
          "text": [
            "StateSpace with 4 layers and 378 total combinations\n"
          ]
        }
      ],
      "source": [
        "model_space = architect.ModelSpace.from_dict([\n",
        "    # conv1\n",
        "    [\n",
        "        Operation('Conv1d', filters=32, kernel_size=7, activation='relu'), Operation('Conv1d', filters=32, kernel_size=13, activation='relu'), Operation('Conv1d', filters=32, kernel_size=3, activation='relu'), \n",
        "        Operation('Conv1d', filters=32, kernel_size=7, activation='tanh'), Operation('Conv1d', filters=32, kernel_size=13, activation='tanh'), Operation('Conv1d', filters=32, kernel_size=3, activation='tanh'), \n",
        "    ],\n",
        "    # pool\n",
        "    [Operation('Maxpool1d', pool_size=4), Operation('Avgpool1d', pool_size=4), Operation('Identity')],\n",
        "    # conv2\n",
        "    [\n",
        "        Operation('Conv1d', filters=64, kernel_size=7, activation='relu'), Operation('Conv1d', filters=64, kernel_size=13, activation='relu'), Operation('Conv1d', filters=64, kernel_size=3, activation='relu'), \n",
        "        Operation('Conv1d', filters=64, kernel_size=7, activation='tanh'), Operation('Conv1d', filters=64, kernel_size=13, activation='tanh'), Operation('Conv1d', filters=64, kernel_size=3, activation='tanh'), \n",
        "        Operation('Identity')\n",
        "    ],\n",
        "    # flatten\n",
        "    [Operation('Flatten'), Operation('GlobalAveragePooling1D'), Operation('GlobalMaxPooling1D')],\n",
        "])\n",
        "print(model_space)"
      ]
    },
    {
      "cell_type": "code",
      "execution_count": 10,
      "metadata": {
        "id": "7MsaZkP1qsKu"
      },
      "outputs": [],
      "source": [
        "input_op = Operation('Input', shape=(200,4))\n",
        "output_op = Operation('Dense', units=1, activation='sigmoid')"
      ]
    },
    {
      "cell_type": "markdown",
      "metadata": {
        "id": "9sRZIJZqnGWl"
      },
      "source": [
        "# 2.Building CNN from Model Space"
      ]
    },
    {
      "cell_type": "code",
      "execution_count": 11,
      "metadata": {
        "id": "y7IlvBrgnB9w"
      },
      "outputs": [],
      "source": [
        "from amber import modeler\n",
        "import matplotlib.pyplot as plt\n",
        "import seaborn as sns\n",
        "%matplotlib inline"
      ]
    },
    {
      "cell_type": "code",
      "execution_count": 12,
      "metadata": {
        "id": "q_mivqLenPL2"
      },
      "outputs": [],
      "source": [
        "model_builder = modeler.sequential.SequentialModelBuilder(\n",
        "    inputs_op=input_op, \n",
        "    output_op=output_op,\n",
        "    model_space=model_space,\n",
        "    model_compile_dict=dict(\n",
        "        optimizer='adam', \n",
        "        loss='binary_crossentropy')\n",
        ")"
      ]
    },
    {
      "cell_type": "code",
      "execution_count": 13,
      "metadata": {
        "colab": {
          "base_uri": "https://localhost:8080/"
        },
        "id": "OiMI_a1HrZDA",
        "outputId": "b2be6721-100e-4e19-dcc2-755bc006f9c7"
      },
      "outputs": [
        {
          "output_type": "stream",
          "name": "stdout",
          "text": [
            "Sequential(\n",
            "  (layers): ModuleList(\n",
            "    (0): PermuteLayer()\n",
            "    (1): Sequential(\n",
            "      (0): Conv1d(4, 32, kernel_size=(7,), stride=(1,))\n",
            "      (1): ReLU()\n",
            "    )\n",
            "    (2): MaxPool1d(kernel_size=4, stride=4, padding=0, dilation=1, ceil_mode=False)\n",
            "    (3): Identity()\n",
            "    (4): GlobalAveragePooling1DLayer()\n",
            "    (5): Sequential(\n",
            "      (0): Linear(in_features=32, out_features=1, bias=True)\n",
            "      (1): Sigmoid()\n",
            "    )\n",
            "  )\n",
            "  (criterion): BCELoss()\n",
            ")\n"
          ]
        }
      ],
      "source": [
        "arc = [0, 0, 6, 1]\n",
        "model = model_builder(arc)\n",
        "model.summary()"
      ]
    },
    {
      "cell_type": "code",
      "execution_count": 14,
      "metadata": {
        "colab": {
          "base_uri": "https://localhost:8080/",
          "height": 49,
          "referenced_widgets": [
            "e74e4b889c23478bb1f04b54b0689d59",
            "c159551130c74037b2777b0b30f7a597",
            "de11c50009394447a4c1af88d7a719f7",
            "adb8e89a143f4ef49514b62905ff99ed",
            "fef75b210d004da09f1fd40eb5a43aac",
            "f4ca74556a1042feb1519315d3d28dfa",
            "af3f25231db44ee4b1c47891c41084b8",
            "938d63cd065d4a6d96f0ccd0f90d4e14",
            "9d380b8989124a1a842064e10a3b84bd",
            "1464a4ae4c5f44dea79ae2d567904eb7",
            "6cf8eb6703b645ed816ee520bfb6f3b5",
            "0104ecf423b44468b59f869e7b7c9714",
            "b6700da2d9184a34912d738443ad4723",
            "2661ac302d0445a1b0ba1551f8661d2d",
            "b3b548a703bc4e44b2543306bb5e3529",
            "5921947708ea4bbcbb5e83d80dccfee2",
            "a514509b01554e249744afb4f4dd785e",
            "64972d4d9d914acc968468ac9f6f8f77",
            "a06b30c0b5194a8691facbb16bb49cd8",
            "849cbd5ae63447ce9e275eb4ea0d2f1e",
            "e9331ce073cb4824baa3941cb2bf7bba",
            "f54dce01d1304b8ea3a51caabb3b81d3",
            "15e41855310b40c9b382d2221d6b1a0b",
            "628bd39ea4824d0f8b42a092d2e0a310",
            "3a9c8e5159ec44fd98366cd62955bbfe",
            "260ed9e4ac4c4ab6a44b673e66a4ff8b",
            "16b75ca468c5401d8ffbcaee7639f011",
            "f71d0558560745f898cf1fa90639959b",
            "08d1cbda5ff44de9930ce5f8f8978c5e",
            "6c075586e94b4592b8211bb6665f73c2",
            "d98f67639d994d3894835582590f95d8",
            "4c8b167f15204141ba43f618e95c505e",
            "586854dd4b7a4fa4871cc9e923704808",
            "0724d294784a45f99d50bb3cabd92a92",
            "d813f537c7504a7982b833086a3e3900",
            "7378c70d3db341e4bb9a3bc3a7f47e49",
            "b44b43badaa443a69e17c2f2665f754c",
            "b0636663188b4f29bd55a0aa9ddd3bf9",
            "f73421c790ac474d9c5e18d20e6cb0f4",
            "5b6a5e39dddf4631a7e45c18af5a97ec",
            "b905b1707e744a659d1a4c907a4d2948",
            "66023461c887496095de8f7cbbfee8fe",
            "609a1313003e470f9f377f0320beadac",
            "62dbbafcf7264ceda54e87b6b58bedce",
            "0acfb2abe2d24fd28151f118593deff7",
            "2dd853d31aff463988719340a9cca410",
            "06e66f6728c34f36b08d87e83811f1ac",
            "479a61de0d514bdab5e6f7d98da374ff",
            "92109c752a8a4bbc9cac26a7c4a23d14",
            "3e74f77047f947b9ab987915079311bf",
            "1d483be26aaf4303a0c84502fa7e4d83",
            "1f763265ff4841ceb4e9c0fcdec9460b",
            "eaad60871d064bd798d8ef4abbc68cba",
            "1157ef0a7c4c4ccf8e37c81a5b5d81df",
            "ab4ad4dca88849b186e0eea161e67d1e",
            "6ab6b97063804ca493168f1b7785be82",
            "5669f1a2a38b487690893c20a6bff692",
            "015862550f204ee09ba41542701f5a32",
            "a65ff7daf3b0424f8c0b51f51b2b7dea",
            "d95f54587e704f47a375e7d598558ce4",
            "882b5e201d3746c58e5a8da0a0d8ca10",
            "58615b993a8d416e9028ac90fa20436d",
            "8b50bce8df8444c480623955b284d190",
            "b1ec4ebb4a3249b3abcd8103ccc969aa",
            "896291ea9e6e4eb2a6a8cb72e5e973dc",
            "555f493c666a4eecb90cefea744acbc7",
            "e6d6792ecd284a8383cfaacc706b1529",
            "d732e8680135423bb7bdbdcee1db744b",
            "eff53b0387cd40ca8a0c50d96ac8da95",
            "5fbf803b2f0b4b6da762b2d31e2d08a7",
            "ffed16b3ed4b414fbd0aba122b958b2d",
            "38a3e162cfee4252b75ea4bcd384b406",
            "b14666d233964992b14dd0afe69c605f",
            "6d8e39a7e4164fa6bc8f371f254b3aee",
            "f171d140bfdf43d8a7aa16fe332dc4dc",
            "988ce3860ec34d2c9a81522b22ecdbf2",
            "ea43e10a9d904a6890416e1f25c356c1"
          ]
        },
        "id": "-SitMLl6zc_n",
        "outputId": "93866faf-d6fa-4129-bb02-9cdc86e5b936",
        "scrolled": false
      },
      "outputs": [
        {
          "output_type": "display_data",
          "data": {
            "text/plain": [
              "Sanity Checking: 0it [00:00, ?it/s]"
            ],
            "application/vnd.jupyter.widget-view+json": {
              "version_major": 2,
              "version_minor": 0,
              "model_id": "e74e4b889c23478bb1f04b54b0689d59"
            }
          },
          "metadata": {}
        },
        {
          "output_type": "display_data",
          "data": {
            "text/plain": [
              "Training: 0it [00:00, ?it/s]"
            ],
            "application/vnd.jupyter.widget-view+json": {
              "version_major": 2,
              "version_minor": 0,
              "model_id": "0104ecf423b44468b59f869e7b7c9714"
            }
          },
          "metadata": {}
        },
        {
          "output_type": "display_data",
          "data": {
            "text/plain": [
              "Validation: 0it [00:00, ?it/s]"
            ],
            "application/vnd.jupyter.widget-view+json": {
              "version_major": 2,
              "version_minor": 0,
              "model_id": "15e41855310b40c9b382d2221d6b1a0b"
            }
          },
          "metadata": {}
        },
        {
          "output_type": "display_data",
          "data": {
            "text/plain": [
              "Validation: 0it [00:00, ?it/s]"
            ],
            "application/vnd.jupyter.widget-view+json": {
              "version_major": 2,
              "version_minor": 0,
              "model_id": "0724d294784a45f99d50bb3cabd92a92"
            }
          },
          "metadata": {}
        },
        {
          "output_type": "display_data",
          "data": {
            "text/plain": [
              "Validation: 0it [00:00, ?it/s]"
            ],
            "application/vnd.jupyter.widget-view+json": {
              "version_major": 2,
              "version_minor": 0,
              "model_id": "0acfb2abe2d24fd28151f118593deff7"
            }
          },
          "metadata": {}
        },
        {
          "output_type": "display_data",
          "data": {
            "text/plain": [
              "Validation: 0it [00:00, ?it/s]"
            ],
            "application/vnd.jupyter.widget-view+json": {
              "version_major": 2,
              "version_minor": 0,
              "model_id": "6ab6b97063804ca493168f1b7785be82"
            }
          },
          "metadata": {}
        },
        {
          "output_type": "display_data",
          "data": {
            "text/plain": [
              "Validation: 0it [00:00, ?it/s]"
            ],
            "application/vnd.jupyter.widget-view+json": {
              "version_major": 2,
              "version_minor": 0,
              "model_id": "e6d6792ecd284a8383cfaacc706b1529"
            }
          },
          "metadata": {}
        }
      ],
      "source": [
        "hist = model.fit(x_train, y_train, validation_data=(x_valid, y_valid), batch_size=64, epochs=5, verbose=True)"
      ]
    },
    {
      "cell_type": "code",
      "execution_count": 15,
      "metadata": {
        "colab": {
          "base_uri": "https://localhost:8080/",
          "height": 305
        },
        "id": "mrpDjUkc91W4",
        "outputId": "26d412e4-168e-4c75-c4c1-5c94307a2851"
      },
      "outputs": [
        {
          "output_type": "execute_result",
          "data": {
            "text/plain": [
              "<matplotlib.legend.Legend at 0x7f46f4f07250>"
            ]
          },
          "metadata": {},
          "execution_count": 15
        },
        {
          "output_type": "stream",
          "name": "stderr",
          "text": [
            "WARNING:matplotlib.font_manager:findfont: Font family ['serif'] not found. Falling back to DejaVu Sans.\n"
          ]
        },
        {
          "output_type": "display_data",
          "data": {
            "text/plain": [
              "<Figure size 432x288 with 1 Axes>"
            ],
            "image/png": "[encoded data removed]"
          },
          "metadata": {
            "needs_background": "light"
          }
        }
      ],
      "source": [
        "plt.plot(hist.history['train_loss'] if 'train_loss' in hist.history else hist.history['loss'], label='train')\n",
        "plt.plot(hist.history['val_loss'], label='val')\n",
        "plt.xlabel('Epochs')\n",
        "plt.ylabel('Loss')\n",
        "plt.legend()"
      ]
    },
    {
      "cell_type": "markdown",
      "metadata": {
        "id": "ij95-IEWs9V7"
      },
      "source": [
        "# 3.Automated Search of Model Space"
      ]
    },
    {
      "cell_type": "code",
      "execution_count": 16,
      "metadata": {
        "id": "fZEhm0y7s9V7"
      },
      "outputs": [],
      "source": [
        "# define a search algorithm\n",
        "controller = architect.GeneralController(model_space=model_space)"
      ]
    },
    {
      "cell_type": "code",
      "execution_count": 17,
      "metadata": {
        "colab": {
          "base_uri": "https://localhost:8080/"
        },
        "id": "somZxxkls9V8",
        "outputId": "531affb3-cc4c-4b6c-8d9a-b46e2347fbf9"
      },
      "outputs": [
        {
          "output_type": "execute_result",
          "data": {
            "text/plain": [
              "(array([4, 1, 0, 2], dtype=int32),\n",
              " [array([[0.16665466, 0.16665043, 0.166673  , 0.1666605 , 0.16669773,\n",
              "          0.16666366]], dtype=float32),\n",
              "  array([[0.33329216, 0.33331555, 0.33339226]], dtype=float32),\n",
              "  array([[0.14286055, 0.14285785, 0.14282915, 0.14282627, 0.14285736,\n",
              "          0.14287995, 0.14288886]], dtype=float32),\n",
              "  array([[0.33334982, 0.33333722, 0.33331293]], dtype=float32)])"
            ]
          },
          "metadata": {},
          "execution_count": 17
        }
      ],
      "source": [
        "# action=integers\n",
        "# probs=selection probabilities\n",
        "controller.get_action()"
      ]
    },
    {
      "cell_type": "code",
      "execution_count": 18,
      "metadata": {
        "colab": {
          "base_uri": "https://localhost:8080/"
        },
        "id": "43gT6B6Cs9V8",
        "outputId": "4c2a804d-c1fc-480e-e53a-1358597ac2dd"
      },
      "outputs": [
        {
          "output_type": "stream",
          "name": "stderr",
          "text": [
            "2023-01-26 04:13:20,718 - AMBER - INFO -\n",
            " working directory: /content/amber_out\n",
            "INFO:AMBER:working directory: /content/amber_out\n",
            "2023-01-26 04:13:20,721 - AMBER - INFO -\n",
            " time budget set to: 00:05:00\n",
            "INFO:AMBER:time budget set to: 00:05:00\n"
          ]
        }
      ],
      "source": [
        "reward_fn = architect.reward.LossAucReward(method='auroc')\n",
        "manager = architect.GeneralManager(\n",
        "    train_data=(x_train, y_train),\n",
        "    validation_data=(x_valid, y_valid),\n",
        "    model_fn=model_builder,\n",
        "    reward_fn=reward_fn,\n",
        "    epochs=5,\n",
        "    working_dir=\"./amber_out\"\n",
        ")\n",
        "search_env = architect.ControllerTrainEnvironment(\n",
        "    controller=controller,\n",
        "    manager=manager,\n",
        "    time_budget='00:05:00',\n",
        "    initial_buffering_queue=5,  # start searching after this number of iters\n",
        "    early_stop_patience=5,      # stop searching if reward not increased by this number of iters\n",
        "    working_dir=\"./amber_out\",\n",
        "    verbose=False\n",
        ")"
      ]
    },
    {
      "cell_type": "code",
      "execution_count": 19,
      "metadata": {
        "scrolled": false,
        "colab": {
          "base_uri": "https://localhost:8080/",
          "height": 1000
        },
        "id": "Fz59kSibs9V9",
        "outputId": "daca9c19-07b3-4cc7-b018-0022ef44e012"
      },
      "outputs": [
        {
          "output_type": "stream",
          "name": "stderr",
          "text": [
            "2023-01-26 04:13:25,048 - AMBER - INFO -\n",
            " Iter 0, this reward: 2.385, best reward: 2.385, used time: 1.44 %\n",
            "INFO:AMBER:Iter 0, this reward: 2.385, best reward: 2.385, used time: 1.44 %\n",
            "2023-01-26 04:13:28,956 - AMBER - INFO -\n",
            " Iter 1, this reward: 2.687, best reward: 2.687, used time: 2.74 %\n",
            "INFO:AMBER:Iter 1, this reward: 2.687, best reward: 2.687, used time: 2.74 %\n",
            "2023-01-26 04:13:32,806 - AMBER - INFO -\n",
            " Iter 2, this reward: 2.180, best reward: 2.687, used time: 4.02 %\n",
            "INFO:AMBER:Iter 2, this reward: 2.180, best reward: 2.687, used time: 4.02 %\n",
            "2023-01-26 04:13:36,349 - AMBER - INFO -\n",
            " Iter 3, this reward: 2.467, best reward: 2.687, used time: 5.21 %\n",
            "INFO:AMBER:Iter 3, this reward: 2.467, best reward: 2.687, used time: 5.21 %\n",
            "2023-01-26 04:13:40,708 - AMBER - INFO -\n",
            " Iter 4, this reward: 2.654, best reward: 2.687, used time: 6.66 %\n",
            "INFO:AMBER:Iter 4, this reward: 2.654, best reward: 2.687, used time: 6.66 %\n",
            "2023-01-26 04:13:45,189 - AMBER - INFO -\n",
            " Iter 5, this reward: 2.701, best reward: 2.701, used time: 8.15 %\n",
            "INFO:AMBER:Iter 5, this reward: 2.701, best reward: 2.701, used time: 8.15 %\n",
            "2023-01-26 04:13:49,514 - AMBER - INFO -\n",
            " Iter 6, this reward: 2.443, best reward: 2.701, used time: 9.59 %\n",
            "INFO:AMBER:Iter 6, this reward: 2.443, best reward: 2.701, used time: 9.59 %\n",
            "2023-01-26 04:13:53,960 - AMBER - INFO -\n",
            " Iter 7, this reward: 2.891, best reward: 2.891, used time: 11.08 %\n",
            "INFO:AMBER:Iter 7, this reward: 2.891, best reward: 2.891, used time: 11.08 %\n",
            "2023-01-26 04:13:58,602 - AMBER - INFO -\n",
            " Iter 8, this reward: 2.901, best reward: 2.901, used time: 12.62 %\n",
            "INFO:AMBER:Iter 8, this reward: 2.901, best reward: 2.901, used time: 12.62 %\n",
            "2023-01-26 04:14:03,053 - AMBER - INFO -\n",
            " Iter 9, this reward: 2.948, best reward: 2.948, used time: 14.11 %\n",
            "INFO:AMBER:Iter 9, this reward: 2.948, best reward: 2.948, used time: 14.11 %\n",
            "2023-01-26 04:14:07,745 - AMBER - INFO -\n",
            " Iter 10, this reward: 2.952, best reward: 2.952, used time: 15.67 %\n",
            "INFO:AMBER:Iter 10, this reward: 2.952, best reward: 2.952, used time: 15.67 %\n",
            "2023-01-26 04:14:12,520 - AMBER - INFO -\n",
            " Iter 11, this reward: 2.904, best reward: 2.952, used time: 17.26 %\n",
            "INFO:AMBER:Iter 11, this reward: 2.904, best reward: 2.952, used time: 17.26 %\n",
            "2023-01-26 04:14:17,266 - AMBER - INFO -\n",
            " Iter 12, this reward: 2.922, best reward: 2.952, used time: 18.84 %\n",
            "INFO:AMBER:Iter 12, this reward: 2.922, best reward: 2.952, used time: 18.84 %\n",
            "2023-01-26 04:14:22,229 - AMBER - INFO -\n",
            " Iter 13, this reward: 2.877, best reward: 2.952, used time: 20.50 %\n",
            "INFO:AMBER:Iter 13, this reward: 2.877, best reward: 2.952, used time: 20.50 %\n",
            "2023-01-26 04:14:27,420 - AMBER - INFO -\n",
            " Iter 14, this reward: 2.929, best reward: 2.952, used time: 22.23 %\n",
            "INFO:AMBER:Iter 14, this reward: 2.929, best reward: 2.952, used time: 22.23 %\n",
            "2023-01-26 04:14:33,635 - AMBER - INFO -\n",
            " Iter 15, this reward: 2.905, best reward: 2.952, used time: 24.30 %\n",
            "INFO:AMBER:Iter 15, this reward: 2.905, best reward: 2.952, used time: 24.30 %\n",
            "2023-01-26 04:14:39,042 - AMBER - INFO -\n",
            " Iter 16, this reward: 2.883, best reward: 2.952, used time: 26.10 %\n",
            "INFO:AMBER:Iter 16, this reward: 2.883, best reward: 2.952, used time: 26.10 %\n",
            "2023-01-26 04:14:39,047 - AMBER - INFO -\n",
            " Controller search early-stopped at episode 16\n",
            "INFO:AMBER:Controller search early-stopped at episode 16\n"
          ]
        },
        {
          "output_type": "execute_result",
          "data": {
            "text/plain": [
              "[0, 0, 0, 2]"
            ]
          },
          "metadata": {},
          "execution_count": 19
        },
        {
          "output_type": "display_data",
          "data": {
            "text/plain": [
              "<Figure size 900x900 with 1 Axes>"
            ],
            "image/png": "[encoded data removed]"
          },
          "metadata": {
            "needs_background": "light"
          }
        }
      ],
      "source": [
        "search_env.train()"
      ]
    },
    {
      "cell_type": "markdown",
      "metadata": {
        "id": "eImuSByYs9V9"
      },
      "source": [
        "# 4.Understanding AutoML/NAS Principles\n"
      ]
    },
    {
      "cell_type": "code",
      "execution_count": 20,
      "metadata": {
        "scrolled": false,
        "colab": {
          "base_uri": "https://localhost:8080/",
          "height": 1000
        },
        "id": "zwilyhWbs9V9",
        "outputId": "e6d01700-3bc5-4ddd-8501-1898d47e236f"
      },
      "outputs": [
        {
          "output_type": "stream",
          "name": "stdout",
          "text": [
            "['./amber_out/weight_at_layer_0.png', './amber_out/weight_at_layer_1.png', './amber_out/weight_at_layer_2.png', './amber_out/weight_at_layer_3.png']\n"
          ]
        },
        {
          "output_type": "display_data",
          "data": {
            "text/plain": [
              "<Figure size 1800x1800 with 4 Axes>"
            ],
            "image/png": "[encoded data removed]"
          },
          "metadata": {
            "needs_background": "light"
          }
        }
      ],
      "source": [
        "# visualizations\n",
        "import os\n",
        "import matplotlib.image as mpimg\n",
        "\n",
        "plt.figure(figsize=(25,25))\n",
        "columns = 1\n",
        "wd = \"./amber_out\"\n",
        "images = [os.path.join(wd,x) for x in sorted([x for x in os.listdir(wd) \\\n",
        "                                                            if x.startswith(\"weight\") and x.endswith(\"png\")])]\n",
        "print(images)\n",
        "images = [mpimg.imread(_) for _ in images]\n",
        "for i, image in enumerate(images):\n",
        "    plt.subplot(int(len(images) / columns + 1), columns, i + 1)\n",
        "    plt.imshow(image)\n"
      ]
    },
    {
      "cell_type": "markdown",
      "metadata": {
        "id": "XN4GaRODs9V-"
      },
      "source": [
        "# 5.In-Sillico Mutagenesis for Model Explanation"
      ]
    },
    {
      "cell_type": "code",
      "execution_count": 21,
      "metadata": {
        "colab": {
          "base_uri": "https://localhost:8080/",
          "height": 225
        },
        "id": "06Yxu8sfs9V-",
        "outputId": "9ff2cfef-9092-41ba-f498-87482d72888c"
      },
      "outputs": [
        {
          "output_type": "stream",
          "name": "stdout",
          "text": [
            "read 1 history files, total 51 lines \n"
          ]
        },
        {
          "output_type": "execute_result",
          "data": {
            "text/plain": [
              "    ID  L1  L2  L3  L4          dir       auc\n",
              "12  12   2   2   4   2  ./amber_out  0.999375\n",
              "10  10   1   2   6   2  ./amber_out  0.997725\n",
              "40  40   1   0   0   2  ./amber_out  0.989249\n",
              "46  46   1   0   0   2  ./amber_out  0.988524\n",
              "15  15   1   0   0   2  ./amber_out  0.986874"
            ],
            "text/html": [
              "\n",
              "  <div id=\"df-46706c4a-3f1f-489a-9dfb-60f854c1b895\">\n",
              "    <div class=\"colab-df-container\">\n",
              "      <div>\n",
              "<style scoped>\n",
              "    .dataframe tbody tr th:only-of-type {\n",
              "        vertical-align: middle;\n",
              "    }\n",
              "\n",
              "    .dataframe tbody tr th {\n",
              "        vertical-align: top;\n",
              "    }\n",
              "\n",
              "    .dataframe thead th {\n",
              "        text-align: right;\n",
              "    }\n",
              "</style>\n",
              "<table border=\"1\" class=\"dataframe\">\n",
              "  <thead>\n",
              "    <tr style=\"text-align: right;\">\n",
              "      <th></th>\n",
              "      <th>ID</th>\n",
              "      <th>L1</th>\n",
              "      <th>L2</th>\n",
              "      <th>L3</th>\n",
              "      <th>L4</th>\n",
              "      <th>dir</th>\n",
              "      <th>auc</th>\n",
              "    </tr>\n",
              "  </thead>\n",
              "  <tbody>\n",
              "    <tr>\n",
              "      <th>12</th>\n",
              "      <td>12</td>\n",
              "      <td>2</td>\n",
              "      <td>2</td>\n",
              "      <td>4</td>\n",
              "      <td>2</td>\n",
              "      <td>./amber_out</td>\n",
              "      <td>0.999375</td>\n",
              "    </tr>\n",
              "    <tr>\n",
              "      <th>10</th>\n",
              "      <td>10</td>\n",
              "      <td>1</td>\n",
              "      <td>2</td>\n",
              "      <td>6</td>\n",
              "      <td>2</td>\n",
              "      <td>./amber_out</td>\n",
              "      <td>0.997725</td>\n",
              "    </tr>\n",
              "    <tr>\n",
              "      <th>40</th>\n",
              "      <td>40</td>\n",
              "      <td>1</td>\n",
              "      <td>0</td>\n",
              "      <td>0</td>\n",
              "      <td>2</td>\n",
              "      <td>./amber_out</td>\n",
              "      <td>0.989249</td>\n",
              "    </tr>\n",
              "    <tr>\n",
              "      <th>46</th>\n",
              "      <td>46</td>\n",
              "      <td>1</td>\n",
              "      <td>0</td>\n",
              "      <td>0</td>\n",
              "      <td>2</td>\n",
              "      <td>./amber_out</td>\n",
              "      <td>0.988524</td>\n",
              "    </tr>\n",
              "    <tr>\n",
              "      <th>15</th>\n",
              "      <td>15</td>\n",
              "      <td>1</td>\n",
              "      <td>0</td>\n",
              "      <td>0</td>\n",
              "      <td>2</td>\n",
              "      <td>./amber_out</td>\n",
              "      <td>0.986874</td>\n",
              "    </tr>\n",
              "  </tbody>\n",
              "</table>\n",
              "</div>\n",
              "      <button class=\"colab-df-convert\" onclick=\"convertToInteractive('df-46706c4a-3f1f-489a-9dfb-60f854c1b895')\"\n",
              "              title=\"Convert this dataframe to an interactive table.\"\n",
              "              style=\"display:none;\">\n",
              "        \n",
              "  <svg xmlns=\"http://www.w3.org/2000/svg\" height=\"24px\"viewBox=\"0 0 24 24\"\n",
              "       width=\"24px\">\n",
              "    <path d=\"M0 0h24v24H0V0z\" fill=\"none\"/>\n",
              "    <path d=\"M18.56 5.44l.94 2.06.94-2.06 2.06-.94-2.06-.94-.94-2.06-.94 2.06-2.06.94zm-11 1L8.5 8.5l.94-2.06 2.06-.94-2.06-.94L8.5 2.5l-.94 2.06-2.06.94zm10 10l.94 2.06.94-2.06 2.06-.94-2.06-.94-.94-2.06-.94 2.06-2.06.94z\"/><path d=\"M17.41 7.96l-1.37-1.37c-.4-.4-.92-.59-1.43-.59-.52 0-1.04.2-1.43.59L10.3 9.45l-7.72 7.72c-.78.78-.78 2.05 0 2.83L4 21.41c.39.39.9.59 1.41.59.51 0 1.02-.2 1.41-.59l7.78-7.78 2.81-2.81c.8-.78.8-2.07 0-2.86zM5.41 20L4 18.59l7.72-7.72 1.47 1.35L5.41 20z\"/>\n",
              "  </svg>\n",
              "      </button>\n",
              "      \n",
              "  <style>\n",
              "    .colab-df-container {\n",
              "      display:flex;\n",
              "      flex-wrap:wrap;\n",
              "      gap: 12px;\n",
              "    }\n",
              "\n",
              "    .colab-df-convert {\n",
              "      background-color: #E8F0FE;\n",
              "      border: none;\n",
              "      border-radius: 50%;\n",
              "      cursor: pointer;\n",
              "      display: none;\n",
              "      fill: #1967D2;\n",
              "      height: 32px;\n",
              "      padding: 0 0 0 0;\n",
              "      width: 32px;\n",
              "    }\n",
              "\n",
              "    .colab-df-convert:hover {\n",
              "      background-color: #E2EBFA;\n",
              "      box-shadow: 0px 1px 2px rgba(60, 64, 67, 0.3), 0px 1px 3px 1px rgba(60, 64, 67, 0.15);\n",
              "      fill: #174EA6;\n",
              "    }\n",
              "\n",
              "    [theme=dark] .colab-df-convert {\n",
              "      background-color: #3B4455;\n",
              "      fill: #D2E3FC;\n",
              "    }\n",
              "\n",
              "    [theme=dark] .colab-df-convert:hover {\n",
              "      background-color: #434B5C;\n",
              "      box-shadow: 0px 1px 3px 1px rgba(0, 0, 0, 0.15);\n",
              "      filter: drop-shadow(0px 1px 2px rgba(0, 0, 0, 0.3));\n",
              "      fill: #FFFFFF;\n",
              "    }\n",
              "  </style>\n",
              "\n",
              "      <script>\n",
              "        const buttonEl =\n",
              "          document.querySelector('#df-46706c4a-3f1f-489a-9dfb-60f854c1b895 button.colab-df-convert');\n",
              "        buttonEl.style.display =\n",
              "          google.colab.kernel.accessAllowed ? 'block' : 'none';\n",
              "\n",
              "        async function convertToInteractive(key) {\n",
              "          const element = document.querySelector('#df-46706c4a-3f1f-489a-9dfb-60f854c1b895');\n",
              "          const dataTable =\n",
              "            await google.colab.kernel.invokeFunction('convertToInteractive',\n",
              "                                                     [key], {});\n",
              "          if (!dataTable) return;\n",
              "\n",
              "          const docLinkHtml = 'Like what you see? Visit the ' +\n",
              "            '<a target=\"_blank\" href=https://colab.research.google.com/notebooks/data_table.ipynb>data table notebook</a>'\n",
              "            + ' to learn more about interactive tables.';\n",
              "          element.innerHTML = '';\n",
              "          dataTable['output_type'] = 'display_data';\n",
              "          await google.colab.output.renderOutput(dataTable, element);\n",
              "          const docLink = document.createElement('div');\n",
              "          docLink.innerHTML = docLinkHtml;\n",
              "          element.appendChild(docLink);\n",
              "        }\n",
              "      </script>\n",
              "    </div>\n",
              "  </div>\n",
              "  "
            ]
          },
          "metadata": {},
          "execution_count": 21
        }
      ],
      "source": [
        "# read in history\n",
        "import amber\n",
        "amb_hist = amber.utils.io.read_history(\"./amber_out/train_history.csv\", metric_name_dict={'auc':1})\n",
        "amb_hist.sort_values('auc', ascending=False).head(5)"
      ]
    },
    {
      "cell_type": "code",
      "execution_count": 22,
      "metadata": {
        "id": "WhPDrZAGs9V-"
      },
      "outputs": [],
      "source": [
        "bestarc = amb_hist.sort_values('auc', ascending=False).iloc[0][['L1', 'L2', 'L3', 'L4']].to_list()\n",
        "trial_id = amb_hist.sort_values('auc', ascending=False).iloc[0]['ID']\n",
        "bestmodel = model_builder(bestarc)\n",
        "if amber.backend.mod_name == 'pytorch':\n",
        "    bestmodel = bestmodel.load(f\"./amber_out/weights/trial_{trial_id}/bestmodel.h5\")\n",
        "else:\n",
        "    # keras model load is not supported; use load_weights instead\n",
        "    bestmodel.load_weights(f\"./amber_out/weights/trial_{trial_id}/bestmodel.h5\")"
      ]
    },
    {
      "cell_type": "code",
      "execution_count": 23,
      "metadata": {
        "colab": {
          "base_uri": "https://localhost:8080/"
        },
        "id": "qcQFzvUks9V_",
        "outputId": "9a25d8c0-1353-4661-fb51-4548da22eaef"
      },
      "outputs": [
        {
          "output_type": "execute_result",
          "data": {
            "text/plain": [
              "(0.9993749374937493, [0.9993749374937493], {'knowledge': 0})"
            ]
          },
          "metadata": {},
          "execution_count": 23
        }
      ],
      "source": [
        "# confirm the model weights are reloaded\n",
        "reward_fn(bestmodel, (x_valid, y_valid))"
      ]
    },
    {
      "cell_type": "code",
      "execution_count": 24,
      "metadata": {
        "id": "F6kMbL98s9WA"
      },
      "outputs": [],
      "source": [
        "def in_sillico_mutagenesis(model, input):\n",
        "    score = np.zeros(input.shape)\n",
        "    old_pred = model.predict(input[np.newaxis, :]).flatten()\n",
        "    print(\"input pred\", old_pred)\n",
        "    for i in range(len(input)):\n",
        "        for j in range(len(input[i])):\n",
        "            input_ = input.copy()\n",
        "            # first, set this nucleotide to 0\n",
        "            input_[i] = 0\n",
        "            # then, change the j-th to one-hot encoded\n",
        "            input_[i, j] = 1\n",
        "            # insert a new axis for batch dim\n",
        "            input_ = input_[np.newaxis, :]\n",
        "            # get importance by taking difference\n",
        "            new_pred = model.predict(input_).flatten()\n",
        "            score[i,j] = old_pred - new_pred\n",
        "    return score.T"
      ]
    },
    {
      "cell_type": "code",
      "execution_count": 25,
      "metadata": {
        "colab": {
          "base_uri": "https://localhost:8080/"
        },
        "id": "97bDDRC-s9WA",
        "outputId": "17040962-87d9-4aba-e5e4-cab18329dd8b"
      },
      "outputs": [
        {
          "output_type": "stream",
          "name": "stdout",
          "text": [
            "confirm this is a positive labelled sequence [1]\n",
            "input pred [0.9932289]\n"
          ]
        }
      ],
      "source": [
        "# select a target sequence (positive labelled)\n",
        "target_idx = 4\n",
        "print(\"confirm this is a positive labelled sequence\", y_valid[target_idx])\n",
        "scores = in_sillico_mutagenesis(model=bestmodel, input=x_valid[target_idx])"
      ]
    },
    {
      "cell_type": "code",
      "execution_count": 26,
      "metadata": {
        "colab": {
          "base_uri": "https://localhost:8080/",
          "height": 209
        },
        "id": "1_b-6KGds9WA",
        "outputId": "b47a26f6-bba2-4b2b-b24c-b808b4b54c28"
      },
      "outputs": [
        {
          "output_type": "execute_result",
          "data": {
            "text/plain": [
              "Text(0.5, -7.0, 'Position')"
            ]
          },
          "metadata": {},
          "execution_count": 26
        },
        {
          "output_type": "display_data",
          "data": {
            "text/plain": [
              "<Figure size 1440x144 with 2 Axes>"
            ],
            "image/png": "[encoded data removed]"
          },
          "metadata": {
            "needs_background": "light"
          }
        }
      ],
      "source": [
        "# visualization\n",
        "fig, ax = plt.subplots(1,1, figsize=(20, 2))\n",
        "sns.heatmap(scores, ax=ax, cmap='Reds', linewidths=0.1, linecolor='white')\n",
        "ax.set_yticklabels(['A', 'C', 'G', 'T'])\n",
        "ax.set_xlabel('Position')"
      ]
    },
    {
      "cell_type": "code",
      "execution_count": 27,
      "metadata": {
        "colab": {
          "base_uri": "https://localhost:8080/",
          "height": 308
        },
        "id": "hQbZN3-is9WB",
        "outputId": "e5278c37-0916-4e7b-c804-6b07b91452b4"
      },
      "outputs": [
        {
          "output_type": "stream",
          "name": "stderr",
          "text": [
            "WARNING:matplotlib.font_manager:findfont: Font family ['serif'] not found. Falling back to DejaVu Sans.\n"
          ]
        },
        {
          "output_type": "stream",
          "name": "stdout",
          "text": [
            "149 [1 2 3 1 0 0 0 2 0 2 0 3 2 1 0 3 0 0 2 2 2 3 3 0 3 1 1 1 1 3 2 2 3 3 2 3 3\n",
            " 3 1 2 1 3 3 1 0 0 1 0 2 2 0 3 0 3 0 3 0 2 0 3 0 3 1 1 0 3 1 2 3 3 0 1 2 2\n",
            " 3 0 2 0 2 3 2 2 1 3 0 3 2 0 2 0 2 3 0 1 0 1 1 3 3 1 0 0 0 0 0 2 3 1 3 0 3\n",
            " 0 0 0 3 1 2 1 0 1 0 0 0 1 3 2 3 0 0 3 1 1 0 3 3 2 1 1 0 3 2 2 0 1 1 0 0 1\n",
            " 0 2 2 2 2 2 1 2 2 3 2 3 0 1 0 0 3 3 0 0 3 1 0 3 1 1 1 0 0 3 3 1 3 1 3 2 2\n",
            " 2 3 3 2 0 0 1 3 3 2 0 1 0 2 1]\n",
            "TGGACCAACAGGGGGCGGTG\n"
          ]
        },
        {
          "output_type": "display_data",
          "data": {
            "text/plain": [
              "<Figure size 720x144 with 1 Axes>"
            ],
            "image/png": "[encoded data removed]"
          },
          "metadata": {
            "needs_background": "light"
          }
        }
      ],
      "source": [
        "# inspect the DNA by converting matrix to sequence\n",
        "reverse_lookup = {\n",
        "    0: 'A', \n",
        "    1: 'C', \n",
        "    2: 'G', \n",
        "    3: 'T'\n",
        "}\n",
        "\n",
        "focus = np.argmax(scores.mean(axis=0))\n",
        "id = np.where(x_valid[target_idx] == 1)[1]\n",
        "print(focus, id)\n",
        "seq = [reverse_lookup[i] for i in id]\n",
        "focus_region = seq[(focus-10):(focus+10)]\n",
        "\n",
        "plt.figure(figsize=(10, 2))\n",
        "plt.imshow(scores[:, (focus-10):(focus+10)], cmap='Reds', aspect=\"auto\", interpolation='nearest', alpha=0.5)\n",
        "for i, word in enumerate(focus_region):\n",
        "    plt.text(i, 0, word, fontsize=12)\n",
        "\n",
        "print(f''.join(focus_region))"
      ]
    },
    {
      "cell_type": "markdown",
      "metadata": {
        "id": "38_ub92cs9WB"
      },
      "source": [
        "**Compare to CTCF_known1 motif (ground truth)**\n",
        "\n",
        "<img src=\"https://raw.githubusercontent.com/zhanglab-aim/ucla-automl-workshop/main/assets/CTCF_known1_MA0139.1.svg\" alt=\"CTCF_known1 motif\" style=\"height: 300px;\"/>\n"
      ]
    },
    {
      "cell_type": "markdown",
      "metadata": {
        "id": "sybW6xIQs9WB"
      },
      "source": [
        "# 6.Extended Practices\n",
        "\n"
      ]
    },
    {
      "cell_type": "markdown",
      "metadata": {
        "id": "qG8EtN5gs9WB"
      },
      "source": [
        "6.1 Write a Python function to assess the feature importance for all positive-labelled test sequences. \n",
        "*(hint: re-use the code we've developed for a single test sequence).*\n",
        "\n",
        "6.2 Visualize the feature importance for some negative-labelled test sequences. How do they compare to positive-labelled sequences, and why?\n",
        "\n",
        "6.3 Explore and implement other model space for AMBER. Can you prune the model space for more efficient search?\n",
        "\n",
        "6.4 Explore other metrics (e.g. negative loss, accuracy) as the reward to maximize during AMBER model search.\n",
        "\n",
        "6.5 Explore other model explanation methods, e.g. Integrated Gradients (implemented in [Captum](https://captum.ai/) python package), SHAP values (implemented in [SHAP](https://shap-lrjball.readthedocs.io/en/latest/index.html) python package).\n"
      ]
    },
    {
      "cell_type": "code",
      "execution_count": 27,
      "metadata": {
        "id": "64o9bhg1s9WC"
      },
      "outputs": [],
      "source": []
    }
  ],
  "metadata": {
    "colab": {
      "provenance": [],
      "include_colab_link": true
    },
    "kernelspec": {
      "display_name": "Python 3 (ipykernel)",
      "language": "python",
      "name": "python3"
    },
    "language_info": {
      "codemirror_mode": {
        "name": "ipython",
        "version": 3
      },
      "file_extension": ".py",
      "mimetype": "text/x-python",
      "name": "python",
      "nbconvert_exporter": "python",
      "pygments_lexer": "ipython3",
      "version": "3.10.8"
    },
    "vscode": {
      "interpreter": {
        "hash": "563deb41fb903fc21f20f9f2855698fa30ab9974cda74658693d8fd877578937"
      }
    },
    "accelerator": "GPU",
    "gpuClass": "standard",
    "widgets": {
      "application/vnd.jupyter.widget-state+json": {
        "e74e4b889c23478bb1f04b54b0689d59": {
          "model_module": "@jupyter-widgets/controls",
          "model_name": "HBoxModel",
          "model_module_version": "1.5.0",
          "state": {
            "_dom_classes": [],
            "_model_module": "@jupyter-widgets/controls",
            "_model_module_version": "1.5.0",
            "_model_name": "HBoxModel",
            "_view_count": null,
            "_view_module": "@jupyter-widgets/controls",
            "_view_module_version": "1.5.0",
            "_view_name": "HBoxView",
            "box_style": "",
            "children": [
              "IPY_MODEL_c159551130c74037b2777b0b30f7a597",
              "IPY_MODEL_de11c50009394447a4c1af88d7a719f7",
              "IPY_MODEL_adb8e89a143f4ef49514b62905ff99ed"
            ],
            "layout": "IPY_MODEL_fef75b210d004da09f1fd40eb5a43aac"
          }
        },
        "c159551130c74037b2777b0b30f7a597": {
          "model_module": "@jupyter-widgets/controls",
          "model_name": "HTMLModel",
          "model_module_version": "1.5.0",
          "state": {
            "_dom_classes": [],
            "_model_module": "@jupyter-widgets/controls",
            "_model_module_version": "1.5.0",
            "_model_name": "HTMLModel",
            "_view_count": null,
            "_view_module": "@jupyter-widgets/controls",
            "_view_module_version": "1.5.0",
            "_view_name": "HTMLView",
            "description": "",
            "description_tooltip": null,
            "layout": "IPY_MODEL_f4ca74556a1042feb1519315d3d28dfa",
            "placeholder": "​",
            "style": "IPY_MODEL_af3f25231db44ee4b1c47891c41084b8",
            "value": "Sanity Checking DataLoader 0: 100%"
          }
        },
        "de11c50009394447a4c1af88d7a719f7": {
          "model_module": "@jupyter-widgets/controls",
          "model_name": "FloatProgressModel",
          "model_module_version": "1.5.0",
          "state": {
            "_dom_classes": [],
            "_model_module": "@jupyter-widgets/controls",
            "_model_module_version": "1.5.0",
            "_model_name": "FloatProgressModel",
            "_view_count": null,
            "_view_module": "@jupyter-widgets/controls",
            "_view_module_version": "1.5.0",
            "_view_name": "ProgressView",
            "bar_style": "",
            "description": "",
            "description_tooltip": null,
            "layout": "IPY_MODEL_938d63cd065d4a6d96f0ccd0f90d4e14",
            "max": 2,
            "min": 0,
            "orientation": "horizontal",
            "style": "IPY_MODEL_9d380b8989124a1a842064e10a3b84bd",
            "value": 2
          }
        },
        "adb8e89a143f4ef49514b62905ff99ed": {
          "model_module": "@jupyter-widgets/controls",
          "model_name": "HTMLModel",
          "model_module_version": "1.5.0",
          "state": {
            "_dom_classes": [],
            "_model_module": "@jupyter-widgets/controls",
            "_model_module_version": "1.5.0",
            "_model_name": "HTMLModel",
            "_view_count": null,
            "_view_module": "@jupyter-widgets/controls",
            "_view_module_version": "1.5.0",
            "_view_name": "HTMLView",
            "description": "",
            "description_tooltip": null,
            "layout": "IPY_MODEL_1464a4ae4c5f44dea79ae2d567904eb7",
            "placeholder": "​",
            "style": "IPY_MODEL_6cf8eb6703b645ed816ee520bfb6f3b5",
            "value": " 2/2 [00:07&lt;00:00,  7.44s/it]"
          }
        },
        "fef75b210d004da09f1fd40eb5a43aac": {
          "model_module": "@jupyter-widgets/base",
          "model_name": "LayoutModel",
          "model_module_version": "1.2.0",
          "state": {
            "_model_module": "@jupyter-widgets/base",
            "_model_module_version": "1.2.0",
            "_model_name": "LayoutModel",
            "_view_count": null,
            "_view_module": "@jupyter-widgets/base",
            "_view_module_version": "1.2.0",
            "_view_name": "LayoutView",
            "align_content": null,
            "align_items": null,
            "align_self": null,
            "border": null,
            "bottom": null,
            "display": "inline-flex",
            "flex": null,
            "flex_flow": "row wrap",
            "grid_area": null,
            "grid_auto_columns": null,
            "grid_auto_flow": null,
            "grid_auto_rows": null,
            "grid_column": null,
            "grid_gap": null,
            "grid_row": null,
            "grid_template_areas": null,
            "grid_template_columns": null,
            "grid_template_rows": null,
            "height": null,
            "justify_content": null,
            "justify_items": null,
            "left": null,
            "margin": null,
            "max_height": null,
            "max_width": null,
            "min_height": null,
            "min_width": null,
            "object_fit": null,
            "object_position": null,
            "order": null,
            "overflow": null,
            "overflow_x": null,
            "overflow_y": null,
            "padding": null,
            "right": null,
            "top": null,
            "visibility": "hidden",
            "width": "100%"
          }
        },
        "f4ca74556a1042feb1519315d3d28dfa": {
          "model_module": "@jupyter-widgets/base",
          "model_name": "LayoutModel",
          "model_module_version": "1.2.0",
          "state": {
            "_model_module": "@jupyter-widgets/base",
            "_model_module_version": "1.2.0",
            "_model_name": "LayoutModel",
            "_view_count": null,
            "_view_module": "@jupyter-widgets/base",
            "_view_module_version": "1.2.0",
            "_view_name": "LayoutView",
            "align_content": null,
            "align_items": null,
            "align_self": null,
            "border": null,
            "bottom": null,
            "display": null,
            "flex": null,
            "flex_flow": null,
            "grid_area": null,
            "grid_auto_columns": null,
            "grid_auto_flow": null,
            "grid_auto_rows": null,
            "grid_column": null,
            "grid_gap": null,
            "grid_row": null,
            "grid_template_areas": null,
            "grid_template_columns": null,
            "grid_template_rows": null,
            "height": null,
            "justify_content": null,
            "justify_items": null,
            "left": null,
            "margin": null,
            "max_height": null,
            "max_width": null,
            "min_height": null,
            "min_width": null,
            "object_fit": null,
            "object_position": null,
            "order": null,
            "overflow": null,
            "overflow_x": null,
            "overflow_y": null,
            "padding": null,
            "right": null,
            "top": null,
            "visibility": null,
            "width": null
          }
        },
        "af3f25231db44ee4b1c47891c41084b8": {
          "model_module": "@jupyter-widgets/controls",
          "model_name": "DescriptionStyleModel",
          "model_module_version": "1.5.0",
          "state": {
            "_model_module": "@jupyter-widgets/controls",
            "_model_module_version": "1.5.0",
            "_model_name": "DescriptionStyleModel",
            "_view_count": null,
            "_view_module": "@jupyter-widgets/base",
            "_view_module_version": "1.2.0",
            "_view_name": "StyleView",
            "description_width": ""
          }
        },
        "938d63cd065d4a6d96f0ccd0f90d4e14": {
          "model_module": "@jupyter-widgets/base",
          "model_name": "LayoutModel",
          "model_module_version": "1.2.0",
          "state": {
            "_model_module": "@jupyter-widgets/base",
            "_model_module_version": "1.2.0",
            "_model_name": "LayoutModel",
            "_view_count": null,
            "_view_module": "@jupyter-widgets/base",
            "_view_module_version": "1.2.0",
            "_view_name": "LayoutView",
            "align_content": null,
            "align_items": null,
            "align_self": null,
            "border": null,
            "bottom": null,
            "display": null,
            "flex": "2",
            "flex_flow": null,
            "grid_area": null,
            "grid_auto_columns": null,
            "grid_auto_flow": null,
            "grid_auto_rows": null,
            "grid_column": null,
            "grid_gap": null,
            "grid_row": null,
            "grid_template_areas": null,
            "grid_template_columns": null,
            "grid_template_rows": null,
            "height": null,
            "justify_content": null,
            "justify_items": null,
            "left": null,
            "margin": null,
            "max_height": null,
            "max_width": null,
            "min_height": null,
            "min_width": null,
            "object_fit": null,
            "object_position": null,
            "order": null,
            "overflow": null,
            "overflow_x": null,
            "overflow_y": null,
            "padding": null,
            "right": null,
            "top": null,
            "visibility": null,
            "width": null
          }
        },
        "9d380b8989124a1a842064e10a3b84bd": {
          "model_module": "@jupyter-widgets/controls",
          "model_name": "ProgressStyleModel",
          "model_module_version": "1.5.0",
          "state": {
            "_model_module": "@jupyter-widgets/controls",
            "_model_module_version": "1.5.0",
            "_model_name": "ProgressStyleModel",
            "_view_count": null,
            "_view_module": "@jupyter-widgets/base",
            "_view_module_version": "1.2.0",
            "_view_name": "StyleView",
            "bar_color": null,
            "description_width": ""
          }
        },
        "1464a4ae4c5f44dea79ae2d567904eb7": {
          "model_module": "@jupyter-widgets/base",
          "model_name": "LayoutModel",
          "model_module_version": "1.2.0",
          "state": {
            "_model_module": "@jupyter-widgets/base",
            "_model_module_version": "1.2.0",
            "_model_name": "LayoutModel",
            "_view_count": null,
            "_view_module": "@jupyter-widgets/base",
            "_view_module_version": "1.2.0",
            "_view_name": "LayoutView",
            "align_content": null,
            "align_items": null,
            "align_self": null,
            "border": null,
            "bottom": null,
            "display": null,
            "flex": null,
            "flex_flow": null,
            "grid_area": null,
            "grid_auto_columns": null,
            "grid_auto_flow": null,
            "grid_auto_rows": null,
            "grid_column": null,
            "grid_gap": null,
            "grid_row": null,
            "grid_template_areas": null,
            "grid_template_columns": null,
            "grid_template_rows": null,
            "height": null,
            "justify_content": null,
            "justify_items": null,
            "left": null,
            "margin": null,
            "max_height": null,
            "max_width": null,
            "min_height": null,
            "min_width": null,
            "object_fit": null,
            "object_position": null,
            "order": null,
            "overflow": null,
            "overflow_x": null,
            "overflow_y": null,
            "padding": null,
            "right": null,
            "top": null,
            "visibility": null,
            "width": null
          }
        },
        "6cf8eb6703b645ed816ee520bfb6f3b5": {
          "model_module": "@jupyter-widgets/controls",
          "model_name": "DescriptionStyleModel",
          "model_module_version": "1.5.0",
          "state": {
            "_model_module": "@jupyter-widgets/controls",
            "_model_module_version": "1.5.0",
            "_model_name": "DescriptionStyleModel",
            "_view_count": null,
            "_view_module": "@jupyter-widgets/base",
            "_view_module_version": "1.2.0",
            "_view_name": "StyleView",
            "description_width": ""
          }
        },
        "0104ecf423b44468b59f869e7b7c9714": {
          "model_module": "@jupyter-widgets/controls",
          "model_name": "HBoxModel",
          "model_module_version": "1.5.0",
          "state": {
            "_dom_classes": [],
            "_model_module": "@jupyter-widgets/controls",
            "_model_module_version": "1.5.0",
            "_model_name": "HBoxModel",
            "_view_count": null,
            "_view_module": "@jupyter-widgets/controls",
            "_view_module_version": "1.5.0",
            "_view_name": "HBoxView",
            "box_style": "",
            "children": [
              "IPY_MODEL_b6700da2d9184a34912d738443ad4723",
              "IPY_MODEL_2661ac302d0445a1b0ba1551f8661d2d",
              "IPY_MODEL_b3b548a703bc4e44b2543306bb5e3529"
            ],
            "layout": "IPY_MODEL_5921947708ea4bbcbb5e83d80dccfee2"
          }
        },
        "b6700da2d9184a34912d738443ad4723": {
          "model_module": "@jupyter-widgets/controls",
          "model_name": "HTMLModel",
          "model_module_version": "1.5.0",
          "state": {
            "_dom_classes": [],
            "_model_module": "@jupyter-widgets/controls",
            "_model_module_version": "1.5.0",
            "_model_name": "HTMLModel",
            "_view_count": null,
            "_view_module": "@jupyter-widgets/controls",
            "_view_module_version": "1.5.0",
            "_view_name": "HTMLView",
            "description": "",
            "description_tooltip": null,
            "layout": "IPY_MODEL_a514509b01554e249744afb4f4dd785e",
            "placeholder": "​",
            "style": "IPY_MODEL_64972d4d9d914acc968468ac9f6f8f77",
            "value": "Epoch 4: 100%"
          }
        },
        "2661ac302d0445a1b0ba1551f8661d2d": {
          "model_module": "@jupyter-widgets/controls",
          "model_name": "FloatProgressModel",
          "model_module_version": "1.5.0",
          "state": {
            "_dom_classes": [],
            "_model_module": "@jupyter-widgets/controls",
            "_model_module_version": "1.5.0",
            "_model_name": "FloatProgressModel",
            "_view_count": null,
            "_view_module": "@jupyter-widgets/controls",
            "_view_module_version": "1.5.0",
            "_view_name": "ProgressView",
            "bar_style": "success",
            "description": "",
            "description_tooltip": null,
            "layout": "IPY_MODEL_a06b30c0b5194a8691facbb16bb49cd8",
            "max": 64,
            "min": 0,
            "orientation": "horizontal",
            "style": "IPY_MODEL_849cbd5ae63447ce9e275eb4ea0d2f1e",
            "value": 64
          }
        },
        "b3b548a703bc4e44b2543306bb5e3529": {
          "model_module": "@jupyter-widgets/controls",
          "model_name": "HTMLModel",
          "model_module_version": "1.5.0",
          "state": {
            "_dom_classes": [],
            "_model_module": "@jupyter-widgets/controls",
            "_model_module_version": "1.5.0",
            "_model_name": "HTMLModel",
            "_view_count": null,
            "_view_module": "@jupyter-widgets/controls",
            "_view_module_version": "1.5.0",
            "_view_name": "HTMLView",
            "description": "",
            "description_tooltip": null,
            "layout": "IPY_MODEL_e9331ce073cb4824baa3941cb2bf7bba",
            "placeholder": "​",
            "style": "IPY_MODEL_f54dce01d1304b8ea3a51caabb3b81d3",
            "value": " 64/64 [00:00&lt;00:00, 81.80it/s, loss=0.659, v_num=0, lr=0.001, val_loss=0.655, train_loss=0.660]"
          }
        },
        "5921947708ea4bbcbb5e83d80dccfee2": {
          "model_module": "@jupyter-widgets/base",
          "model_name": "LayoutModel",
          "model_module_version": "1.2.0",
          "state": {
            "_model_module": "@jupyter-widgets/base",
            "_model_module_version": "1.2.0",
            "_model_name": "LayoutModel",
            "_view_count": null,
            "_view_module": "@jupyter-widgets/base",
            "_view_module_version": "1.2.0",
            "_view_name": "LayoutView",
            "align_content": null,
            "align_items": null,
            "align_self": null,
            "border": null,
            "bottom": null,
            "display": "inline-flex",
            "flex": null,
            "flex_flow": "row wrap",
            "grid_area": null,
            "grid_auto_columns": null,
            "grid_auto_flow": null,
            "grid_auto_rows": null,
            "grid_column": null,
            "grid_gap": null,
            "grid_row": null,
            "grid_template_areas": null,
            "grid_template_columns": null,
            "grid_template_rows": null,
            "height": null,
            "justify_content": null,
            "justify_items": null,
            "left": null,
            "margin": null,
            "max_height": null,
            "max_width": null,
            "min_height": null,
            "min_width": null,
            "object_fit": null,
            "object_position": null,
            "order": null,
            "overflow": null,
            "overflow_x": null,
            "overflow_y": null,
            "padding": null,
            "right": null,
            "top": null,
            "visibility": null,
            "width": "100%"
          }
        },
        "a514509b01554e249744afb4f4dd785e": {
          "model_module": "@jupyter-widgets/base",
          "model_name": "LayoutModel",
          "model_module_version": "1.2.0",
          "state": {
            "_model_module": "@jupyter-widgets/base",
            "_model_module_version": "1.2.0",
            "_model_name": "LayoutModel",
            "_view_count": null,
            "_view_module": "@jupyter-widgets/base",
            "_view_module_version": "1.2.0",
            "_view_name": "LayoutView",
            "align_content": null,
            "align_items": null,
            "align_self": null,
            "border": null,
            "bottom": null,
            "display": null,
            "flex": null,
            "flex_flow": null,
            "grid_area": null,
            "grid_auto_columns": null,
            "grid_auto_flow": null,
            "grid_auto_rows": null,
            "grid_column": null,
            "grid_gap": null,
            "grid_row": null,
            "grid_template_areas": null,
            "grid_template_columns": null,
            "grid_template_rows": null,
            "height": null,
            "justify_content": null,
            "justify_items": null,
            "left": null,
            "margin": null,
            "max_height": null,
            "max_width": null,
            "min_height": null,
            "min_width": null,
            "object_fit": null,
            "object_position": null,
            "order": null,
            "overflow": null,
            "overflow_x": null,
            "overflow_y": null,
            "padding": null,
            "right": null,
            "top": null,
            "visibility": null,
            "width": null
          }
        },
        "64972d4d9d914acc968468ac9f6f8f77": {
          "model_module": "@jupyter-widgets/controls",
          "model_name": "DescriptionStyleModel",
          "model_module_version": "1.5.0",
          "state": {
            "_model_module": "@jupyter-widgets/controls",
            "_model_module_version": "1.5.0",
            "_model_name": "DescriptionStyleModel",
            "_view_count": null,
            "_view_module": "@jupyter-widgets/base",
            "_view_module_version": "1.2.0",
            "_view_name": "StyleView",
            "description_width": ""
          }
        },
        "a06b30c0b5194a8691facbb16bb49cd8": {
          "model_module": "@jupyter-widgets/base",
          "model_name": "LayoutModel",
          "model_module_version": "1.2.0",
          "state": {
            "_model_module": "@jupyter-widgets/base",
            "_model_module_version": "1.2.0",
            "_model_name": "LayoutModel",
            "_view_count": null,
            "_view_module": "@jupyter-widgets/base",
            "_view_module_version": "1.2.0",
            "_view_name": "LayoutView",
            "align_content": null,
            "align_items": null,
            "align_self": null,
            "border": null,
            "bottom": null,
            "display": null,
            "flex": "2",
            "flex_flow": null,
            "grid_area": null,
            "grid_auto_columns": null,
            "grid_auto_flow": null,
            "grid_auto_rows": null,
            "grid_column": null,
            "grid_gap": null,
            "grid_row": null,
            "grid_template_areas": null,
            "grid_template_columns": null,
            "grid_template_rows": null,
            "height": null,
            "justify_content": null,
            "justify_items": null,
            "left": null,
            "margin": null,
            "max_height": null,
            "max_width": null,
            "min_height": null,
            "min_width": null,
            "object_fit": null,
            "object_position": null,
            "order": null,
            "overflow": null,
            "overflow_x": null,
            "overflow_y": null,
            "padding": null,
            "right": null,
            "top": null,
            "visibility": null,
            "width": null
          }
        },
        "849cbd5ae63447ce9e275eb4ea0d2f1e": {
          "model_module": "@jupyter-widgets/controls",
          "model_name": "ProgressStyleModel",
          "model_module_version": "1.5.0",
          "state": {
            "_model_module": "@jupyter-widgets/controls",
            "_model_module_version": "1.5.0",
            "_model_name": "ProgressStyleModel",
            "_view_count": null,
            "_view_module": "@jupyter-widgets/base",
            "_view_module_version": "1.2.0",
            "_view_name": "StyleView",
            "bar_color": null,
            "description_width": ""
          }
        },
        "e9331ce073cb4824baa3941cb2bf7bba": {
          "model_module": "@jupyter-widgets/base",
          "model_name": "LayoutModel",
          "model_module_version": "1.2.0",
          "state": {
            "_model_module": "@jupyter-widgets/base",
            "_model_module_version": "1.2.0",
            "_model_name": "LayoutModel",
            "_view_count": null,
            "_view_module": "@jupyter-widgets/base",
            "_view_module_version": "1.2.0",
            "_view_name": "LayoutView",
            "align_content": null,
            "align_items": null,
            "align_self": null,
            "border": null,
            "bottom": null,
            "display": null,
            "flex": null,
            "flex_flow": null,
            "grid_area": null,
            "grid_auto_columns": null,
            "grid_auto_flow": null,
            "grid_auto_rows": null,
            "grid_column": null,
            "grid_gap": null,
            "grid_row": null,
            "grid_template_areas": null,
            "grid_template_columns": null,
            "grid_template_rows": null,
            "height": null,
            "justify_content": null,
            "justify_items": null,
            "left": null,
            "margin": null,
            "max_height": null,
            "max_width": null,
            "min_height": null,
            "min_width": null,
            "object_fit": null,
            "object_position": null,
            "order": null,
            "overflow": null,
            "overflow_x": null,
            "overflow_y": null,
            "padding": null,
            "right": null,
            "top": null,
            "visibility": null,
            "width": null
          }
        },
        "f54dce01d1304b8ea3a51caabb3b81d3": {
          "model_module": "@jupyter-widgets/controls",
          "model_name": "DescriptionStyleModel",
          "model_module_version": "1.5.0",
          "state": {
            "_model_module": "@jupyter-widgets/controls",
            "_model_module_version": "1.5.0",
            "_model_name": "DescriptionStyleModel",
            "_view_count": null,
            "_view_module": "@jupyter-widgets/base",
            "_view_module_version": "1.2.0",
            "_view_name": "StyleView",
            "description_width": ""
          }
        },
        "15e41855310b40c9b382d2221d6b1a0b": {
          "model_module": "@jupyter-widgets/controls",
          "model_name": "HBoxModel",
          "model_module_version": "1.5.0",
          "state": {
            "_dom_classes": [],
            "_model_module": "@jupyter-widgets/controls",
            "_model_module_version": "1.5.0",
            "_model_name": "HBoxModel",
            "_view_count": null,
            "_view_module": "@jupyter-widgets/controls",
            "_view_module_version": "1.5.0",
            "_view_name": "HBoxView",
            "box_style": "",
            "children": [
              "IPY_MODEL_628bd39ea4824d0f8b42a092d2e0a310",
              "IPY_MODEL_3a9c8e5159ec44fd98366cd62955bbfe",
              "IPY_MODEL_260ed9e4ac4c4ab6a44b673e66a4ff8b"
            ],
            "layout": "IPY_MODEL_16b75ca468c5401d8ffbcaee7639f011"
          }
        },
        "628bd39ea4824d0f8b42a092d2e0a310": {
          "model_module": "@jupyter-widgets/controls",
          "model_name": "HTMLModel",
          "model_module_version": "1.5.0",
          "state": {
            "_dom_classes": [],
            "_model_module": "@jupyter-widgets/controls",
            "_model_module_version": "1.5.0",
            "_model_name": "HTMLModel",
            "_view_count": null,
            "_view_module": "@jupyter-widgets/controls",
            "_view_module_version": "1.5.0",
            "_view_name": "HTMLView",
            "description": "",
            "description_tooltip": null,
            "layout": "IPY_MODEL_f71d0558560745f898cf1fa90639959b",
            "placeholder": "​",
            "style": "IPY_MODEL_08d1cbda5ff44de9930ce5f8f8978c5e",
            "value": "Validation DataLoader 0: 100%"
          }
        },
        "3a9c8e5159ec44fd98366cd62955bbfe": {
          "model_module": "@jupyter-widgets/controls",
          "model_name": "FloatProgressModel",
          "model_module_version": "1.5.0",
          "state": {
            "_dom_classes": [],
            "_model_module": "@jupyter-widgets/controls",
            "_model_module_version": "1.5.0",
            "_model_name": "FloatProgressModel",
            "_view_count": null,
            "_view_module": "@jupyter-widgets/controls",
            "_view_module_version": "1.5.0",
            "_view_name": "ProgressView",
            "bar_style": "",
            "description": "",
            "description_tooltip": null,
            "layout": "IPY_MODEL_6c075586e94b4592b8211bb6665f73c2",
            "max": 7,
            "min": 0,
            "orientation": "horizontal",
            "style": "IPY_MODEL_d98f67639d994d3894835582590f95d8",
            "value": 7
          }
        },
        "260ed9e4ac4c4ab6a44b673e66a4ff8b": {
          "model_module": "@jupyter-widgets/controls",
          "model_name": "HTMLModel",
          "model_module_version": "1.5.0",
          "state": {
            "_dom_classes": [],
            "_model_module": "@jupyter-widgets/controls",
            "_model_module_version": "1.5.0",
            "_model_name": "HTMLModel",
            "_view_count": null,
            "_view_module": "@jupyter-widgets/controls",
            "_view_module_version": "1.5.0",
            "_view_name": "HTMLView",
            "description": "",
            "description_tooltip": null,
            "layout": "IPY_MODEL_4c8b167f15204141ba43f618e95c505e",
            "placeholder": "​",
            "style": "IPY_MODEL_586854dd4b7a4fa4871cc9e923704808",
            "value": " 7/7 [00:00&lt;00:00, 104.21it/s]"
          }
        },
        "16b75ca468c5401d8ffbcaee7639f011": {
          "model_module": "@jupyter-widgets/base",
          "model_name": "LayoutModel",
          "model_module_version": "1.2.0",
          "state": {
            "_model_module": "@jupyter-widgets/base",
            "_model_module_version": "1.2.0",
            "_model_name": "LayoutModel",
            "_view_count": null,
            "_view_module": "@jupyter-widgets/base",
            "_view_module_version": "1.2.0",
            "_view_name": "LayoutView",
            "align_content": null,
            "align_items": null,
            "align_self": null,
            "border": null,
            "bottom": null,
            "display": "inline-flex",
            "flex": null,
            "flex_flow": "row wrap",
            "grid_area": null,
            "grid_auto_columns": null,
            "grid_auto_flow": null,
            "grid_auto_rows": null,
            "grid_column": null,
            "grid_gap": null,
            "grid_row": null,
            "grid_template_areas": null,
            "grid_template_columns": null,
            "grid_template_rows": null,
            "height": null,
            "justify_content": null,
            "justify_items": null,
            "left": null,
            "margin": null,
            "max_height": null,
            "max_width": null,
            "min_height": null,
            "min_width": null,
            "object_fit": null,
            "object_position": null,
            "order": null,
            "overflow": null,
            "overflow_x": null,
            "overflow_y": null,
            "padding": null,
            "right": null,
            "top": null,
            "visibility": "hidden",
            "width": "100%"
          }
        },
        "f71d0558560745f898cf1fa90639959b": {
          "model_module": "@jupyter-widgets/base",
          "model_name": "LayoutModel",
          "model_module_version": "1.2.0",
          "state": {
            "_model_module": "@jupyter-widgets/base",
            "_model_module_version": "1.2.0",
            "_model_name": "LayoutModel",
            "_view_count": null,
            "_view_module": "@jupyter-widgets/base",
            "_view_module_version": "1.2.0",
            "_view_name": "LayoutView",
            "align_content": null,
            "align_items": null,
            "align_self": null,
            "border": null,
            "bottom": null,
            "display": null,
            "flex": null,
            "flex_flow": null,
            "grid_area": null,
            "grid_auto_columns": null,
            "grid_auto_flow": null,
            "grid_auto_rows": null,
            "grid_column": null,
            "grid_gap": null,
            "grid_row": null,
            "grid_template_areas": null,
            "grid_template_columns": null,
            "grid_template_rows": null,
            "height": null,
            "justify_content": null,
            "justify_items": null,
            "left": null,
            "margin": null,
            "max_height": null,
            "max_width": null,
            "min_height": null,
            "min_width": null,
            "object_fit": null,
            "object_position": null,
            "order": null,
            "overflow": null,
            "overflow_x": null,
            "overflow_y": null,
            "padding": null,
            "right": null,
            "top": null,
            "visibility": null,
            "width": null
          }
        },
        "08d1cbda5ff44de9930ce5f8f8978c5e": {
          "model_module": "@jupyter-widgets/controls",
          "model_name": "DescriptionStyleModel",
          "model_module_version": "1.5.0",
          "state": {
            "_model_module": "@jupyter-widgets/controls",
            "_model_module_version": "1.5.0",
            "_model_name": "DescriptionStyleModel",
            "_view_count": null,
            "_view_module": "@jupyter-widgets/base",
            "_view_module_version": "1.2.0",
            "_view_name": "StyleView",
            "description_width": ""
          }
        },
        "6c075586e94b4592b8211bb6665f73c2": {
          "model_module": "@jupyter-widgets/base",
          "model_name": "LayoutModel",
          "model_module_version": "1.2.0",
          "state": {
            "_model_module": "@jupyter-widgets/base",
            "_model_module_version": "1.2.0",
            "_model_name": "LayoutModel",
            "_view_count": null,
            "_view_module": "@jupyter-widgets/base",
            "_view_module_version": "1.2.0",
            "_view_name": "LayoutView",
            "align_content": null,
            "align_items": null,
            "align_self": null,
            "border": null,
            "bottom": null,
            "display": null,
            "flex": "2",
            "flex_flow": null,
            "grid_area": null,
            "grid_auto_columns": null,
            "grid_auto_flow": null,
            "grid_auto_rows": null,
            "grid_column": null,
            "grid_gap": null,
            "grid_row": null,
            "grid_template_areas": null,
            "grid_template_columns": null,
            "grid_template_rows": null,
            "height": null,
            "justify_content": null,
            "justify_items": null,
            "left": null,
            "margin": null,
            "max_height": null,
            "max_width": null,
            "min_height": null,
            "min_width": null,
            "object_fit": null,
            "object_position": null,
            "order": null,
            "overflow": null,
            "overflow_x": null,
            "overflow_y": null,
            "padding": null,
            "right": null,
            "top": null,
            "visibility": null,
            "width": null
          }
        },
        "d98f67639d994d3894835582590f95d8": {
          "model_module": "@jupyter-widgets/controls",
          "model_name": "ProgressStyleModel",
          "model_module_version": "1.5.0",
          "state": {
            "_model_module": "@jupyter-widgets/controls",
            "_model_module_version": "1.5.0",
            "_model_name": "ProgressStyleModel",
            "_view_count": null,
            "_view_module": "@jupyter-widgets/base",
            "_view_module_version": "1.2.0",
            "_view_name": "StyleView",
            "bar_color": null,
            "description_width": ""
          }
        },
        "4c8b167f15204141ba43f618e95c505e": {
          "model_module": "@jupyter-widgets/base",
          "model_name": "LayoutModel",
          "model_module_version": "1.2.0",
          "state": {
            "_model_module": "@jupyter-widgets/base",
            "_model_module_version": "1.2.0",
            "_model_name": "LayoutModel",
            "_view_count": null,
            "_view_module": "@jupyter-widgets/base",
            "_view_module_version": "1.2.0",
            "_view_name": "LayoutView",
            "align_content": null,
            "align_items": null,
            "align_self": null,
            "border": null,
            "bottom": null,
            "display": null,
            "flex": null,
            "flex_flow": null,
            "grid_area": null,
            "grid_auto_columns": null,
            "grid_auto_flow": null,
            "grid_auto_rows": null,
            "grid_column": null,
            "grid_gap": null,
            "grid_row": null,
            "grid_template_areas": null,
            "grid_template_columns": null,
            "grid_template_rows": null,
            "height": null,
            "justify_content": null,
            "justify_items": null,
            "left": null,
            "margin": null,
            "max_height": null,
            "max_width": null,
            "min_height": null,
            "min_width": null,
            "object_fit": null,
            "object_position": null,
            "order": null,
            "overflow": null,
            "overflow_x": null,
            "overflow_y": null,
            "padding": null,
            "right": null,
            "top": null,
            "visibility": null,
            "width": null
          }
        },
        "586854dd4b7a4fa4871cc9e923704808": {
          "model_module": "@jupyter-widgets/controls",
          "model_name": "DescriptionStyleModel",
          "model_module_version": "1.5.0",
          "state": {
            "_model_module": "@jupyter-widgets/controls",
            "_model_module_version": "1.5.0",
            "_model_name": "DescriptionStyleModel",
            "_view_count": null,
            "_view_module": "@jupyter-widgets/base",
            "_view_module_version": "1.2.0",
            "_view_name": "StyleView",
            "description_width": ""
          }
        },
        "0724d294784a45f99d50bb3cabd92a92": {
          "model_module": "@jupyter-widgets/controls",
          "model_name": "HBoxModel",
          "model_module_version": "1.5.0",
          "state": {
            "_dom_classes": [],
            "_model_module": "@jupyter-widgets/controls",
            "_model_module_version": "1.5.0",
            "_model_name": "HBoxModel",
            "_view_count": null,
            "_view_module": "@jupyter-widgets/controls",
            "_view_module_version": "1.5.0",
            "_view_name": "HBoxView",
            "box_style": "",
            "children": [
              "IPY_MODEL_d813f537c7504a7982b833086a3e3900",
              "IPY_MODEL_7378c70d3db341e4bb9a3bc3a7f47e49",
              "IPY_MODEL_b44b43badaa443a69e17c2f2665f754c"
            ],
            "layout": "IPY_MODEL_b0636663188b4f29bd55a0aa9ddd3bf9"
          }
        },
        "d813f537c7504a7982b833086a3e3900": {
          "model_module": "@jupyter-widgets/controls",
          "model_name": "HTMLModel",
          "model_module_version": "1.5.0",
          "state": {
            "_dom_classes": [],
            "_model_module": "@jupyter-widgets/controls",
            "_model_module_version": "1.5.0",
            "_model_name": "HTMLModel",
            "_view_count": null,
            "_view_module": "@jupyter-widgets/controls",
            "_view_module_version": "1.5.0",
            "_view_name": "HTMLView",
            "description": "",
            "description_tooltip": null,
            "layout": "IPY_MODEL_f73421c790ac474d9c5e18d20e6cb0f4",
            "placeholder": "​",
            "style": "IPY_MODEL_5b6a5e39dddf4631a7e45c18af5a97ec",
            "value": "Validation DataLoader 0: 100%"
          }
        },
        "7378c70d3db341e4bb9a3bc3a7f47e49": {
          "model_module": "@jupyter-widgets/controls",
          "model_name": "FloatProgressModel",
          "model_module_version": "1.5.0",
          "state": {
            "_dom_classes": [],
            "_model_module": "@jupyter-widgets/controls",
            "_model_module_version": "1.5.0",
            "_model_name": "FloatProgressModel",
            "_view_count": null,
            "_view_module": "@jupyter-widgets/controls",
            "_view_module_version": "1.5.0",
            "_view_name": "ProgressView",
            "bar_style": "",
            "description": "",
            "description_tooltip": null,
            "layout": "IPY_MODEL_b905b1707e744a659d1a4c907a4d2948",
            "max": 7,
            "min": 0,
            "orientation": "horizontal",
            "style": "IPY_MODEL_66023461c887496095de8f7cbbfee8fe",
            "value": 7
          }
        },
        "b44b43badaa443a69e17c2f2665f754c": {
          "model_module": "@jupyter-widgets/controls",
          "model_name": "HTMLModel",
          "model_module_version": "1.5.0",
          "state": {
            "_dom_classes": [],
            "_model_module": "@jupyter-widgets/controls",
            "_model_module_version": "1.5.0",
            "_model_name": "HTMLModel",
            "_view_count": null,
            "_view_module": "@jupyter-widgets/controls",
            "_view_module_version": "1.5.0",
            "_view_name": "HTMLView",
            "description": "",
            "description_tooltip": null,
            "layout": "IPY_MODEL_609a1313003e470f9f377f0320beadac",
            "placeholder": "​",
            "style": "IPY_MODEL_62dbbafcf7264ceda54e87b6b58bedce",
            "value": " 7/7 [00:00&lt;00:00, 99.52it/s]"
          }
        },
        "b0636663188b4f29bd55a0aa9ddd3bf9": {
          "model_module": "@jupyter-widgets/base",
          "model_name": "LayoutModel",
          "model_module_version": "1.2.0",
          "state": {
            "_model_module": "@jupyter-widgets/base",
            "_model_module_version": "1.2.0",
            "_model_name": "LayoutModel",
            "_view_count": null,
            "_view_module": "@jupyter-widgets/base",
            "_view_module_version": "1.2.0",
            "_view_name": "LayoutView",
            "align_content": null,
            "align_items": null,
            "align_self": null,
            "border": null,
            "bottom": null,
            "display": "inline-flex",
            "flex": null,
            "flex_flow": "row wrap",
            "grid_area": null,
            "grid_auto_columns": null,
            "grid_auto_flow": null,
            "grid_auto_rows": null,
            "grid_column": null,
            "grid_gap": null,
            "grid_row": null,
            "grid_template_areas": null,
            "grid_template_columns": null,
            "grid_template_rows": null,
            "height": null,
            "justify_content": null,
            "justify_items": null,
            "left": null,
            "margin": null,
            "max_height": null,
            "max_width": null,
            "min_height": null,
            "min_width": null,
            "object_fit": null,
            "object_position": null,
            "order": null,
            "overflow": null,
            "overflow_x": null,
            "overflow_y": null,
            "padding": null,
            "right": null,
            "top": null,
            "visibility": "hidden",
            "width": "100%"
          }
        },
        "f73421c790ac474d9c5e18d20e6cb0f4": {
          "model_module": "@jupyter-widgets/base",
          "model_name": "LayoutModel",
          "model_module_version": "1.2.0",
          "state": {
            "_model_module": "@jupyter-widgets/base",
            "_model_module_version": "1.2.0",
            "_model_name": "LayoutModel",
            "_view_count": null,
            "_view_module": "@jupyter-widgets/base",
            "_view_module_version": "1.2.0",
            "_view_name": "LayoutView",
            "align_content": null,
            "align_items": null,
            "align_self": null,
            "border": null,
            "bottom": null,
            "display": null,
            "flex": null,
            "flex_flow": null,
            "grid_area": null,
            "grid_auto_columns": null,
            "grid_auto_flow": null,
            "grid_auto_rows": null,
            "grid_column": null,
            "grid_gap": null,
            "grid_row": null,
            "grid_template_areas": null,
            "grid_template_columns": null,
            "grid_template_rows": null,
            "height": null,
            "justify_content": null,
            "justify_items": null,
            "left": null,
            "margin": null,
            "max_height": null,
            "max_width": null,
            "min_height": null,
            "min_width": null,
            "object_fit": null,
            "object_position": null,
            "order": null,
            "overflow": null,
            "overflow_x": null,
            "overflow_y": null,
            "padding": null,
            "right": null,
            "top": null,
            "visibility": null,
            "width": null
          }
        },
        "5b6a5e39dddf4631a7e45c18af5a97ec": {
          "model_module": "@jupyter-widgets/controls",
          "model_name": "DescriptionStyleModel",
          "model_module_version": "1.5.0",
          "state": {
            "_model_module": "@jupyter-widgets/controls",
            "_model_module_version": "1.5.0",
            "_model_name": "DescriptionStyleModel",
            "_view_count": null,
            "_view_module": "@jupyter-widgets/base",
            "_view_module_version": "1.2.0",
            "_view_name": "StyleView",
            "description_width": ""
          }
        },
        "b905b1707e744a659d1a4c907a4d2948": {
          "model_module": "@jupyter-widgets/base",
          "model_name": "LayoutModel",
          "model_module_version": "1.2.0",
          "state": {
            "_model_module": "@jupyter-widgets/base",
            "_model_module_version": "1.2.0",
            "_model_name": "LayoutModel",
            "_view_count": null,
            "_view_module": "@jupyter-widgets/base",
            "_view_module_version": "1.2.0",
            "_view_name": "LayoutView",
            "align_content": null,
            "align_items": null,
            "align_self": null,
            "border": null,
            "bottom": null,
            "display": null,
            "flex": "2",
            "flex_flow": null,
            "grid_area": null,
            "grid_auto_columns": null,
            "grid_auto_flow": null,
            "grid_auto_rows": null,
            "grid_column": null,
            "grid_gap": null,
            "grid_row": null,
            "grid_template_areas": null,
            "grid_template_columns": null,
            "grid_template_rows": null,
            "height": null,
            "justify_content": null,
            "justify_items": null,
            "left": null,
            "margin": null,
            "max_height": null,
            "max_width": null,
            "min_height": null,
            "min_width": null,
            "object_fit": null,
            "object_position": null,
            "order": null,
            "overflow": null,
            "overflow_x": null,
            "overflow_y": null,
            "padding": null,
            "right": null,
            "top": null,
            "visibility": null,
            "width": null
          }
        },
        "66023461c887496095de8f7cbbfee8fe": {
          "model_module": "@jupyter-widgets/controls",
          "model_name": "ProgressStyleModel",
          "model_module_version": "1.5.0",
          "state": {
            "_model_module": "@jupyter-widgets/controls",
            "_model_module_version": "1.5.0",
            "_model_name": "ProgressStyleModel",
            "_view_count": null,
            "_view_module": "@jupyter-widgets/base",
            "_view_module_version": "1.2.0",
            "_view_name": "StyleView",
            "bar_color": null,
            "description_width": ""
          }
        },
        "609a1313003e470f9f377f0320beadac": {
          "model_module": "@jupyter-widgets/base",
          "model_name": "LayoutModel",
          "model_module_version": "1.2.0",
          "state": {
            "_model_module": "@jupyter-widgets/base",
            "_model_module_version": "1.2.0",
            "_model_name": "LayoutModel",
            "_view_count": null,
            "_view_module": "@jupyter-widgets/base",
            "_view_module_version": "1.2.0",
            "_view_name": "LayoutView",
            "align_content": null,
            "align_items": null,
            "align_self": null,
            "border": null,
            "bottom": null,
            "display": null,
            "flex": null,
            "flex_flow": null,
            "grid_area": null,
            "grid_auto_columns": null,
            "grid_auto_flow": null,
            "grid_auto_rows": null,
            "grid_column": null,
            "grid_gap": null,
            "grid_row": null,
            "grid_template_areas": null,
            "grid_template_columns": null,
            "grid_template_rows": null,
            "height": null,
            "justify_content": null,
            "justify_items": null,
            "left": null,
            "margin": null,
            "max_height": null,
            "max_width": null,
            "min_height": null,
            "min_width": null,
            "object_fit": null,
            "object_position": null,
            "order": null,
            "overflow": null,
            "overflow_x": null,
            "overflow_y": null,
            "padding": null,
            "right": null,
            "top": null,
            "visibility": null,
            "width": null
          }
        },
        "62dbbafcf7264ceda54e87b6b58bedce": {
          "model_module": "@jupyter-widgets/controls",
          "model_name": "DescriptionStyleModel",
          "model_module_version": "1.5.0",
          "state": {
            "_model_module": "@jupyter-widgets/controls",
            "_model_module_version": "1.5.0",
            "_model_name": "DescriptionStyleModel",
            "_view_count": null,
            "_view_module": "@jupyter-widgets/base",
            "_view_module_version": "1.2.0",
            "_view_name": "StyleView",
            "description_width": ""
          }
        },
        "0acfb2abe2d24fd28151f118593deff7": {
          "model_module": "@jupyter-widgets/controls",
          "model_name": "HBoxModel",
          "model_module_version": "1.5.0",
          "state": {
            "_dom_classes": [],
            "_model_module": "@jupyter-widgets/controls",
            "_model_module_version": "1.5.0",
            "_model_name": "HBoxModel",
            "_view_count": null,
            "_view_module": "@jupyter-widgets/controls",
            "_view_module_version": "1.5.0",
            "_view_name": "HBoxView",
            "box_style": "",
            "children": [
              "IPY_MODEL_2dd853d31aff463988719340a9cca410",
              "IPY_MODEL_06e66f6728c34f36b08d87e83811f1ac",
              "IPY_MODEL_479a61de0d514bdab5e6f7d98da374ff"
            ],
            "layout": "IPY_MODEL_92109c752a8a4bbc9cac26a7c4a23d14"
          }
        },
        "2dd853d31aff463988719340a9cca410": {
          "model_module": "@jupyter-widgets/controls",
          "model_name": "HTMLModel",
          "model_module_version": "1.5.0",
          "state": {
            "_dom_classes": [],
            "_model_module": "@jupyter-widgets/controls",
            "_model_module_version": "1.5.0",
            "_model_name": "HTMLModel",
            "_view_count": null,
            "_view_module": "@jupyter-widgets/controls",
            "_view_module_version": "1.5.0",
            "_view_name": "HTMLView",
            "description": "",
            "description_tooltip": null,
            "layout": "IPY_MODEL_3e74f77047f947b9ab987915079311bf",
            "placeholder": "​",
            "style": "IPY_MODEL_1d483be26aaf4303a0c84502fa7e4d83",
            "value": "Validation DataLoader 0: 100%"
          }
        },
        "06e66f6728c34f36b08d87e83811f1ac": {
          "model_module": "@jupyter-widgets/controls",
          "model_name": "FloatProgressModel",
          "model_module_version": "1.5.0",
          "state": {
            "_dom_classes": [],
            "_model_module": "@jupyter-widgets/controls",
            "_model_module_version": "1.5.0",
            "_model_name": "FloatProgressModel",
            "_view_count": null,
            "_view_module": "@jupyter-widgets/controls",
            "_view_module_version": "1.5.0",
            "_view_name": "ProgressView",
            "bar_style": "",
            "description": "",
            "description_tooltip": null,
            "layout": "IPY_MODEL_1f763265ff4841ceb4e9c0fcdec9460b",
            "max": 7,
            "min": 0,
            "orientation": "horizontal",
            "style": "IPY_MODEL_eaad60871d064bd798d8ef4abbc68cba",
            "value": 7
          }
        },
        "479a61de0d514bdab5e6f7d98da374ff": {
          "model_module": "@jupyter-widgets/controls",
          "model_name": "HTMLModel",
          "model_module_version": "1.5.0",
          "state": {
            "_dom_classes": [],
            "_model_module": "@jupyter-widgets/controls",
            "_model_module_version": "1.5.0",
            "_model_name": "HTMLModel",
            "_view_count": null,
            "_view_module": "@jupyter-widgets/controls",
            "_view_module_version": "1.5.0",
            "_view_name": "HTMLView",
            "description": "",
            "description_tooltip": null,
            "layout": "IPY_MODEL_1157ef0a7c4c4ccf8e37c81a5b5d81df",
            "placeholder": "​",
            "style": "IPY_MODEL_ab4ad4dca88849b186e0eea161e67d1e",
            "value": " 7/7 [00:00&lt;00:00, 93.73it/s]"
          }
        },
        "92109c752a8a4bbc9cac26a7c4a23d14": {
          "model_module": "@jupyter-widgets/base",
          "model_name": "LayoutModel",
          "model_module_version": "1.2.0",
          "state": {
            "_model_module": "@jupyter-widgets/base",
            "_model_module_version": "1.2.0",
            "_model_name": "LayoutModel",
            "_view_count": null,
            "_view_module": "@jupyter-widgets/base",
            "_view_module_version": "1.2.0",
            "_view_name": "LayoutView",
            "align_content": null,
            "align_items": null,
            "align_self": null,
            "border": null,
            "bottom": null,
            "display": "inline-flex",
            "flex": null,
            "flex_flow": "row wrap",
            "grid_area": null,
            "grid_auto_columns": null,
            "grid_auto_flow": null,
            "grid_auto_rows": null,
            "grid_column": null,
            "grid_gap": null,
            "grid_row": null,
            "grid_template_areas": null,
            "grid_template_columns": null,
            "grid_template_rows": null,
            "height": null,
            "justify_content": null,
            "justify_items": null,
            "left": null,
            "margin": null,
            "max_height": null,
            "max_width": null,
            "min_height": null,
            "min_width": null,
            "object_fit": null,
            "object_position": null,
            "order": null,
            "overflow": null,
            "overflow_x": null,
            "overflow_y": null,
            "padding": null,
            "right": null,
            "top": null,
            "visibility": "hidden",
            "width": "100%"
          }
        },
        "3e74f77047f947b9ab987915079311bf": {
          "model_module": "@jupyter-widgets/base",
          "model_name": "LayoutModel",
          "model_module_version": "1.2.0",
          "state": {
            "_model_module": "@jupyter-widgets/base",
            "_model_module_version": "1.2.0",
            "_model_name": "LayoutModel",
            "_view_count": null,
            "_view_module": "@jupyter-widgets/base",
            "_view_module_version": "1.2.0",
            "_view_name": "LayoutView",
            "align_content": null,
            "align_items": null,
            "align_self": null,
            "border": null,
            "bottom": null,
            "display": null,
            "flex": null,
            "flex_flow": null,
            "grid_area": null,
            "grid_auto_columns": null,
            "grid_auto_flow": null,
            "grid_auto_rows": null,
            "grid_column": null,
            "grid_gap": null,
            "grid_row": null,
            "grid_template_areas": null,
            "grid_template_columns": null,
            "grid_template_rows": null,
            "height": null,
            "justify_content": null,
            "justify_items": null,
            "left": null,
            "margin": null,
            "max_height": null,
            "max_width": null,
            "min_height": null,
            "min_width": null,
            "object_fit": null,
            "object_position": null,
            "order": null,
            "overflow": null,
            "overflow_x": null,
            "overflow_y": null,
            "padding": null,
            "right": null,
            "top": null,
            "visibility": null,
            "width": null
          }
        },
        "1d483be26aaf4303a0c84502fa7e4d83": {
          "model_module": "@jupyter-widgets/controls",
          "model_name": "DescriptionStyleModel",
          "model_module_version": "1.5.0",
          "state": {
            "_model_module": "@jupyter-widgets/controls",
            "_model_module_version": "1.5.0",
            "_model_name": "DescriptionStyleModel",
            "_view_count": null,
            "_view_module": "@jupyter-widgets/base",
            "_view_module_version": "1.2.0",
            "_view_name": "StyleView",
            "description_width": ""
          }
        },
        "1f763265ff4841ceb4e9c0fcdec9460b": {
          "model_module": "@jupyter-widgets/base",
          "model_name": "LayoutModel",
          "model_module_version": "1.2.0",
          "state": {
            "_model_module": "@jupyter-widgets/base",
            "_model_module_version": "1.2.0",
            "_model_name": "LayoutModel",
            "_view_count": null,
            "_view_module": "@jupyter-widgets/base",
            "_view_module_version": "1.2.0",
            "_view_name": "LayoutView",
            "align_content": null,
            "align_items": null,
            "align_self": null,
            "border": null,
            "bottom": null,
            "display": null,
            "flex": "2",
            "flex_flow": null,
            "grid_area": null,
            "grid_auto_columns": null,
            "grid_auto_flow": null,
            "grid_auto_rows": null,
            "grid_column": null,
            "grid_gap": null,
            "grid_row": null,
            "grid_template_areas": null,
            "grid_template_columns": null,
            "grid_template_rows": null,
            "height": null,
            "justify_content": null,
            "justify_items": null,
            "left": null,
            "margin": null,
            "max_height": null,
            "max_width": null,
            "min_height": null,
            "min_width": null,
            "object_fit": null,
            "object_position": null,
            "order": null,
            "overflow": null,
            "overflow_x": null,
            "overflow_y": null,
            "padding": null,
            "right": null,
            "top": null,
            "visibility": null,
            "width": null
          }
        },
        "eaad60871d064bd798d8ef4abbc68cba": {
          "model_module": "@jupyter-widgets/controls",
          "model_name": "ProgressStyleModel",
          "model_module_version": "1.5.0",
          "state": {
            "_model_module": "@jupyter-widgets/controls",
            "_model_module_version": "1.5.0",
            "_model_name": "ProgressStyleModel",
            "_view_count": null,
            "_view_module": "@jupyter-widgets/base",
            "_view_module_version": "1.2.0",
            "_view_name": "StyleView",
            "bar_color": null,
            "description_width": ""
          }
        },
        "1157ef0a7c4c4ccf8e37c81a5b5d81df": {
          "model_module": "@jupyter-widgets/base",
          "model_name": "LayoutModel",
          "model_module_version": "1.2.0",
          "state": {
            "_model_module": "@jupyter-widgets/base",
            "_model_module_version": "1.2.0",
            "_model_name": "LayoutModel",
            "_view_count": null,
            "_view_module": "@jupyter-widgets/base",
            "_view_module_version": "1.2.0",
            "_view_name": "LayoutView",
            "align_content": null,
            "align_items": null,
            "align_self": null,
            "border": null,
            "bottom": null,
            "display": null,
            "flex": null,
            "flex_flow": null,
            "grid_area": null,
            "grid_auto_columns": null,
            "grid_auto_flow": null,
            "grid_auto_rows": null,
            "grid_column": null,
            "grid_gap": null,
            "grid_row": null,
            "grid_template_areas": null,
            "grid_template_columns": null,
            "grid_template_rows": null,
            "height": null,
            "justify_content": null,
            "justify_items": null,
            "left": null,
            "margin": null,
            "max_height": null,
            "max_width": null,
            "min_height": null,
            "min_width": null,
            "object_fit": null,
            "object_position": null,
            "order": null,
            "overflow": null,
            "overflow_x": null,
            "overflow_y": null,
            "padding": null,
            "right": null,
            "top": null,
            "visibility": null,
            "width": null
          }
        },
        "ab4ad4dca88849b186e0eea161e67d1e": {
          "model_module": "@jupyter-widgets/controls",
          "model_name": "DescriptionStyleModel",
          "model_module_version": "1.5.0",
          "state": {
            "_model_module": "@jupyter-widgets/controls",
            "_model_module_version": "1.5.0",
            "_model_name": "DescriptionStyleModel",
            "_view_count": null,
            "_view_module": "@jupyter-widgets/base",
            "_view_module_version": "1.2.0",
            "_view_name": "StyleView",
            "description_width": ""
          }
        },
        "6ab6b97063804ca493168f1b7785be82": {
          "model_module": "@jupyter-widgets/controls",
          "model_name": "HBoxModel",
          "model_module_version": "1.5.0",
          "state": {
            "_dom_classes": [],
            "_model_module": "@jupyter-widgets/controls",
            "_model_module_version": "1.5.0",
            "_model_name": "HBoxModel",
            "_view_count": null,
            "_view_module": "@jupyter-widgets/controls",
            "_view_module_version": "1.5.0",
            "_view_name": "HBoxView",
            "box_style": "",
            "children": [
              "IPY_MODEL_5669f1a2a38b487690893c20a6bff692",
              "IPY_MODEL_015862550f204ee09ba41542701f5a32",
              "IPY_MODEL_a65ff7daf3b0424f8c0b51f51b2b7dea"
            ],
            "layout": "IPY_MODEL_d95f54587e704f47a375e7d598558ce4"
          }
        },
        "5669f1a2a38b487690893c20a6bff692": {
          "model_module": "@jupyter-widgets/controls",
          "model_name": "HTMLModel",
          "model_module_version": "1.5.0",
          "state": {
            "_dom_classes": [],
            "_model_module": "@jupyter-widgets/controls",
            "_model_module_version": "1.5.0",
            "_model_name": "HTMLModel",
            "_view_count": null,
            "_view_module": "@jupyter-widgets/controls",
            "_view_module_version": "1.5.0",
            "_view_name": "HTMLView",
            "description": "",
            "description_tooltip": null,
            "layout": "IPY_MODEL_882b5e201d3746c58e5a8da0a0d8ca10",
            "placeholder": "​",
            "style": "IPY_MODEL_58615b993a8d416e9028ac90fa20436d",
            "value": "Validation DataLoader 0: 100%"
          }
        },
        "015862550f204ee09ba41542701f5a32": {
          "model_module": "@jupyter-widgets/controls",
          "model_name": "FloatProgressModel",
          "model_module_version": "1.5.0",
          "state": {
            "_dom_classes": [],
            "_model_module": "@jupyter-widgets/controls",
            "_model_module_version": "1.5.0",
            "_model_name": "FloatProgressModel",
            "_view_count": null,
            "_view_module": "@jupyter-widgets/controls",
            "_view_module_version": "1.5.0",
            "_view_name": "ProgressView",
            "bar_style": "",
            "description": "",
            "description_tooltip": null,
            "layout": "IPY_MODEL_8b50bce8df8444c480623955b284d190",
            "max": 7,
            "min": 0,
            "orientation": "horizontal",
            "style": "IPY_MODEL_b1ec4ebb4a3249b3abcd8103ccc969aa",
            "value": 7
          }
        },
        "a65ff7daf3b0424f8c0b51f51b2b7dea": {
          "model_module": "@jupyter-widgets/controls",
          "model_name": "HTMLModel",
          "model_module_version": "1.5.0",
          "state": {
            "_dom_classes": [],
            "_model_module": "@jupyter-widgets/controls",
            "_model_module_version": "1.5.0",
            "_model_name": "HTMLModel",
            "_view_count": null,
            "_view_module": "@jupyter-widgets/controls",
            "_view_module_version": "1.5.0",
            "_view_name": "HTMLView",
            "description": "",
            "description_tooltip": null,
            "layout": "IPY_MODEL_896291ea9e6e4eb2a6a8cb72e5e973dc",
            "placeholder": "​",
            "style": "IPY_MODEL_555f493c666a4eecb90cefea744acbc7",
            "value": " 7/7 [00:00&lt;00:00, 82.14it/s]"
          }
        },
        "d95f54587e704f47a375e7d598558ce4": {
          "model_module": "@jupyter-widgets/base",
          "model_name": "LayoutModel",
          "model_module_version": "1.2.0",
          "state": {
            "_model_module": "@jupyter-widgets/base",
            "_model_module_version": "1.2.0",
            "_model_name": "LayoutModel",
            "_view_count": null,
            "_view_module": "@jupyter-widgets/base",
            "_view_module_version": "1.2.0",
            "_view_name": "LayoutView",
            "align_content": null,
            "align_items": null,
            "align_self": null,
            "border": null,
            "bottom": null,
            "display": "inline-flex",
            "flex": null,
            "flex_flow": "row wrap",
            "grid_area": null,
            "grid_auto_columns": null,
            "grid_auto_flow": null,
            "grid_auto_rows": null,
            "grid_column": null,
            "grid_gap": null,
            "grid_row": null,
            "grid_template_areas": null,
            "grid_template_columns": null,
            "grid_template_rows": null,
            "height": null,
            "justify_content": null,
            "justify_items": null,
            "left": null,
            "margin": null,
            "max_height": null,
            "max_width": null,
            "min_height": null,
            "min_width": null,
            "object_fit": null,
            "object_position": null,
            "order": null,
            "overflow": null,
            "overflow_x": null,
            "overflow_y": null,
            "padding": null,
            "right": null,
            "top": null,
            "visibility": "hidden",
            "width": "100%"
          }
        },
        "882b5e201d3746c58e5a8da0a0d8ca10": {
          "model_module": "@jupyter-widgets/base",
          "model_name": "LayoutModel",
          "model_module_version": "1.2.0",
          "state": {
            "_model_module": "@jupyter-widgets/base",
            "_model_module_version": "1.2.0",
            "_model_name": "LayoutModel",
            "_view_count": null,
            "_view_module": "@jupyter-widgets/base",
            "_view_module_version": "1.2.0",
            "_view_name": "LayoutView",
            "align_content": null,
            "align_items": null,
            "align_self": null,
            "border": null,
            "bottom": null,
            "display": null,
            "flex": null,
            "flex_flow": null,
            "grid_area": null,
            "grid_auto_columns": null,
            "grid_auto_flow": null,
            "grid_auto_rows": null,
            "grid_column": null,
            "grid_gap": null,
            "grid_row": null,
            "grid_template_areas": null,
            "grid_template_columns": null,
            "grid_template_rows": null,
            "height": null,
            "justify_content": null,
            "justify_items": null,
            "left": null,
            "margin": null,
            "max_height": null,
            "max_width": null,
            "min_height": null,
            "min_width": null,
            "object_fit": null,
            "object_position": null,
            "order": null,
            "overflow": null,
            "overflow_x": null,
            "overflow_y": null,
            "padding": null,
            "right": null,
            "top": null,
            "visibility": null,
            "width": null
          }
        },
        "58615b993a8d416e9028ac90fa20436d": {
          "model_module": "@jupyter-widgets/controls",
          "model_name": "DescriptionStyleModel",
          "model_module_version": "1.5.0",
          "state": {
            "_model_module": "@jupyter-widgets/controls",
            "_model_module_version": "1.5.0",
            "_model_name": "DescriptionStyleModel",
            "_view_count": null,
            "_view_module": "@jupyter-widgets/base",
            "_view_module_version": "1.2.0",
            "_view_name": "StyleView",
            "description_width": ""
          }
        },
        "8b50bce8df8444c480623955b284d190": {
          "model_module": "@jupyter-widgets/base",
          "model_name": "LayoutModel",
          "model_module_version": "1.2.0",
          "state": {
            "_model_module": "@jupyter-widgets/base",
            "_model_module_version": "1.2.0",
            "_model_name": "LayoutModel",
            "_view_count": null,
            "_view_module": "@jupyter-widgets/base",
            "_view_module_version": "1.2.0",
            "_view_name": "LayoutView",
            "align_content": null,
            "align_items": null,
            "align_self": null,
            "border": null,
            "bottom": null,
            "display": null,
            "flex": "2",
            "flex_flow": null,
            "grid_area": null,
            "grid_auto_columns": null,
            "grid_auto_flow": null,
            "grid_auto_rows": null,
            "grid_column": null,
            "grid_gap": null,
            "grid_row": null,
            "grid_template_areas": null,
            "grid_template_columns": null,
            "grid_template_rows": null,
            "height": null,
            "justify_content": null,
            "justify_items": null,
            "left": null,
            "margin": null,
            "max_height": null,
            "max_width": null,
            "min_height": null,
            "min_width": null,
            "object_fit": null,
            "object_position": null,
            "order": null,
            "overflow": null,
            "overflow_x": null,
            "overflow_y": null,
            "padding": null,
            "right": null,
            "top": null,
            "visibility": null,
            "width": null
          }
        },
        "b1ec4ebb4a3249b3abcd8103ccc969aa": {
          "model_module": "@jupyter-widgets/controls",
          "model_name": "ProgressStyleModel",
          "model_module_version": "1.5.0",
          "state": {
            "_model_module": "@jupyter-widgets/controls",
            "_model_module_version": "1.5.0",
            "_model_name": "ProgressStyleModel",
            "_view_count": null,
            "_view_module": "@jupyter-widgets/base",
            "_view_module_version": "1.2.0",
            "_view_name": "StyleView",
            "bar_color": null,
            "description_width": ""
          }
        },
        "896291ea9e6e4eb2a6a8cb72e5e973dc": {
          "model_module": "@jupyter-widgets/base",
          "model_name": "LayoutModel",
          "model_module_version": "1.2.0",
          "state": {
            "_model_module": "@jupyter-widgets/base",
            "_model_module_version": "1.2.0",
            "_model_name": "LayoutModel",
            "_view_count": null,
            "_view_module": "@jupyter-widgets/base",
            "_view_module_version": "1.2.0",
            "_view_name": "LayoutView",
            "align_content": null,
            "align_items": null,
            "align_self": null,
            "border": null,
            "bottom": null,
            "display": null,
            "flex": null,
            "flex_flow": null,
            "grid_area": null,
            "grid_auto_columns": null,
            "grid_auto_flow": null,
            "grid_auto_rows": null,
            "grid_column": null,
            "grid_gap": null,
            "grid_row": null,
            "grid_template_areas": null,
            "grid_template_columns": null,
            "grid_template_rows": null,
            "height": null,
            "justify_content": null,
            "justify_items": null,
            "left": null,
            "margin": null,
            "max_height": null,
            "max_width": null,
            "min_height": null,
            "min_width": null,
            "object_fit": null,
            "object_position": null,
            "order": null,
            "overflow": null,
            "overflow_x": null,
            "overflow_y": null,
            "padding": null,
            "right": null,
            "top": null,
            "visibility": null,
            "width": null
          }
        },
        "555f493c666a4eecb90cefea744acbc7": {
          "model_module": "@jupyter-widgets/controls",
          "model_name": "DescriptionStyleModel",
          "model_module_version": "1.5.0",
          "state": {
            "_model_module": "@jupyter-widgets/controls",
            "_model_module_version": "1.5.0",
            "_model_name": "DescriptionStyleModel",
            "_view_count": null,
            "_view_module": "@jupyter-widgets/base",
            "_view_module_version": "1.2.0",
            "_view_name": "StyleView",
            "description_width": ""
          }
        },
        "e6d6792ecd284a8383cfaacc706b1529": {
          "model_module": "@jupyter-widgets/controls",
          "model_name": "HBoxModel",
          "model_module_version": "1.5.0",
          "state": {
            "_dom_classes": [],
            "_model_module": "@jupyter-widgets/controls",
            "_model_module_version": "1.5.0",
            "_model_name": "HBoxModel",
            "_view_count": null,
            "_view_module": "@jupyter-widgets/controls",
            "_view_module_version": "1.5.0",
            "_view_name": "HBoxView",
            "box_style": "",
            "children": [
              "IPY_MODEL_d732e8680135423bb7bdbdcee1db744b",
              "IPY_MODEL_eff53b0387cd40ca8a0c50d96ac8da95",
              "IPY_MODEL_5fbf803b2f0b4b6da762b2d31e2d08a7"
            ],
            "layout": "IPY_MODEL_ffed16b3ed4b414fbd0aba122b958b2d"
          }
        },
        "d732e8680135423bb7bdbdcee1db744b": {
          "model_module": "@jupyter-widgets/controls",
          "model_name": "HTMLModel",
          "model_module_version": "1.5.0",
          "state": {
            "_dom_classes": [],
            "_model_module": "@jupyter-widgets/controls",
            "_model_module_version": "1.5.0",
            "_model_name": "HTMLModel",
            "_view_count": null,
            "_view_module": "@jupyter-widgets/controls",
            "_view_module_version": "1.5.0",
            "_view_name": "HTMLView",
            "description": "",
            "description_tooltip": null,
            "layout": "IPY_MODEL_38a3e162cfee4252b75ea4bcd384b406",
            "placeholder": "​",
            "style": "IPY_MODEL_b14666d233964992b14dd0afe69c605f",
            "value": "Validation DataLoader 0: 100%"
          }
        },
        "eff53b0387cd40ca8a0c50d96ac8da95": {
          "model_module": "@jupyter-widgets/controls",
          "model_name": "FloatProgressModel",
          "model_module_version": "1.5.0",
          "state": {
            "_dom_classes": [],
            "_model_module": "@jupyter-widgets/controls",
            "_model_module_version": "1.5.0",
            "_model_name": "FloatProgressModel",
            "_view_count": null,
            "_view_module": "@jupyter-widgets/controls",
            "_view_module_version": "1.5.0",
            "_view_name": "ProgressView",
            "bar_style": "",
            "description": "",
            "description_tooltip": null,
            "layout": "IPY_MODEL_6d8e39a7e4164fa6bc8f371f254b3aee",
            "max": 7,
            "min": 0,
            "orientation": "horizontal",
            "style": "IPY_MODEL_f171d140bfdf43d8a7aa16fe332dc4dc",
            "value": 7
          }
        },
        "5fbf803b2f0b4b6da762b2d31e2d08a7": {
          "model_module": "@jupyter-widgets/controls",
          "model_name": "HTMLModel",
          "model_module_version": "1.5.0",
          "state": {
            "_dom_classes": [],
            "_model_module": "@jupyter-widgets/controls",
            "_model_module_version": "1.5.0",
            "_model_name": "HTMLModel",
            "_view_count": null,
            "_view_module": "@jupyter-widgets/controls",
            "_view_module_version": "1.5.0",
            "_view_name": "HTMLView",
            "description": "",
            "description_tooltip": null,
            "layout": "IPY_MODEL_988ce3860ec34d2c9a81522b22ecdbf2",
            "placeholder": "​",
            "style": "IPY_MODEL_ea43e10a9d904a6890416e1f25c356c1",
            "value": " 7/7 [00:00&lt;00:00, 101.19it/s]"
          }
        },
        "ffed16b3ed4b414fbd0aba122b958b2d": {
          "model_module": "@jupyter-widgets/base",
          "model_name": "LayoutModel",
          "model_module_version": "1.2.0",
          "state": {
            "_model_module": "@jupyter-widgets/base",
            "_model_module_version": "1.2.0",
            "_model_name": "LayoutModel",
            "_view_count": null,
            "_view_module": "@jupyter-widgets/base",
            "_view_module_version": "1.2.0",
            "_view_name": "LayoutView",
            "align_content": null,
            "align_items": null,
            "align_self": null,
            "border": null,
            "bottom": null,
            "display": "inline-flex",
            "flex": null,
            "flex_flow": "row wrap",
            "grid_area": null,
            "grid_auto_columns": null,
            "grid_auto_flow": null,
            "grid_auto_rows": null,
            "grid_column": null,
            "grid_gap": null,
            "grid_row": null,
            "grid_template_areas": null,
            "grid_template_columns": null,
            "grid_template_rows": null,
            "height": null,
            "justify_content": null,
            "justify_items": null,
            "left": null,
            "margin": null,
            "max_height": null,
            "max_width": null,
            "min_height": null,
            "min_width": null,
            "object_fit": null,
            "object_position": null,
            "order": null,
            "overflow": null,
            "overflow_x": null,
            "overflow_y": null,
            "padding": null,
            "right": null,
            "top": null,
            "visibility": "hidden",
            "width": "100%"
          }
        },
        "38a3e162cfee4252b75ea4bcd384b406": {
          "model_module": "@jupyter-widgets/base",
          "model_name": "LayoutModel",
          "model_module_version": "1.2.0",
          "state": {
            "_model_module": "@jupyter-widgets/base",
            "_model_module_version": "1.2.0",
            "_model_name": "LayoutModel",
            "_view_count": null,
            "_view_module": "@jupyter-widgets/base",
            "_view_module_version": "1.2.0",
            "_view_name": "LayoutView",
            "align_content": null,
            "align_items": null,
            "align_self": null,
            "border": null,
            "bottom": null,
            "display": null,
            "flex": null,
            "flex_flow": null,
            "grid_area": null,
            "grid_auto_columns": null,
            "grid_auto_flow": null,
            "grid_auto_rows": null,
            "grid_column": null,
            "grid_gap": null,
            "grid_row": null,
            "grid_template_areas": null,
            "grid_template_columns": null,
            "grid_template_rows": null,
            "height": null,
            "justify_content": null,
            "justify_items": null,
            "left": null,
            "margin": null,
            "max_height": null,
            "max_width": null,
            "min_height": null,
            "min_width": null,
            "object_fit": null,
            "object_position": null,
            "order": null,
            "overflow": null,
            "overflow_x": null,
            "overflow_y": null,
            "padding": null,
            "right": null,
            "top": null,
            "visibility": null,
            "width": null
          }
        },
        "b14666d233964992b14dd0afe69c605f": {
          "model_module": "@jupyter-widgets/controls",
          "model_name": "DescriptionStyleModel",
          "model_module_version": "1.5.0",
          "state": {
            "_model_module": "@jupyter-widgets/controls",
            "_model_module_version": "1.5.0",
            "_model_name": "DescriptionStyleModel",
            "_view_count": null,
            "_view_module": "@jupyter-widgets/base",
            "_view_module_version": "1.2.0",
            "_view_name": "StyleView",
            "description_width": ""
          }
        },
        "6d8e39a7e4164fa6bc8f371f254b3aee": {
          "model_module": "@jupyter-widgets/base",
          "model_name": "LayoutModel",
          "model_module_version": "1.2.0",
          "state": {
            "_model_module": "@jupyter-widgets/base",
            "_model_module_version": "1.2.0",
            "_model_name": "LayoutModel",
            "_view_count": null,
            "_view_module": "@jupyter-widgets/base",
            "_view_module_version": "1.2.0",
            "_view_name": "LayoutView",
            "align_content": null,
            "align_items": null,
            "align_self": null,
            "border": null,
            "bottom": null,
            "display": null,
            "flex": "2",
            "flex_flow": null,
            "grid_area": null,
            "grid_auto_columns": null,
            "grid_auto_flow": null,
            "grid_auto_rows": null,
            "grid_column": null,
            "grid_gap": null,
            "grid_row": null,
            "grid_template_areas": null,
            "grid_template_columns": null,
            "grid_template_rows": null,
            "height": null,
            "justify_content": null,
            "justify_items": null,
            "left": null,
            "margin": null,
            "max_height": null,
            "max_width": null,
            "min_height": null,
            "min_width": null,
            "object_fit": null,
            "object_position": null,
            "order": null,
            "overflow": null,
            "overflow_x": null,
            "overflow_y": null,
            "padding": null,
            "right": null,
            "top": null,
            "visibility": null,
            "width": null
          }
        },
        "f171d140bfdf43d8a7aa16fe332dc4dc": {
          "model_module": "@jupyter-widgets/controls",
          "model_name": "ProgressStyleModel",
          "model_module_version": "1.5.0",
          "state": {
            "_model_module": "@jupyter-widgets/controls",
            "_model_module_version": "1.5.0",
            "_model_name": "ProgressStyleModel",
            "_view_count": null,
            "_view_module": "@jupyter-widgets/base",
            "_view_module_version": "1.2.0",
            "_view_name": "StyleView",
            "bar_color": null,
            "description_width": ""
          }
        },
        "988ce3860ec34d2c9a81522b22ecdbf2": {
          "model_module": "@jupyter-widgets/base",
          "model_name": "LayoutModel",
          "model_module_version": "1.2.0",
          "state": {
            "_model_module": "@jupyter-widgets/base",
            "_model_module_version": "1.2.0",
            "_model_name": "LayoutModel",
            "_view_count": null,
            "_view_module": "@jupyter-widgets/base",
            "_view_module_version": "1.2.0",
            "_view_name": "LayoutView",
            "align_content": null,
            "align_items": null,
            "align_self": null,
            "border": null,
            "bottom": null,
            "display": null,
            "flex": null,
            "flex_flow": null,
            "grid_area": null,
            "grid_auto_columns": null,
            "grid_auto_flow": null,
            "grid_auto_rows": null,
            "grid_column": null,
            "grid_gap": null,
            "grid_row": null,
            "grid_template_areas": null,
            "grid_template_columns": null,
            "grid_template_rows": null,
            "height": null,
            "justify_content": null,
            "justify_items": null,
            "left": null,
            "margin": null,
            "max_height": null,
            "max_width": null,
            "min_height": null,
            "min_width": null,
            "object_fit": null,
            "object_position": null,
            "order": null,
            "overflow": null,
            "overflow_x": null,
            "overflow_y": null,
            "padding": null,
            "right": null,
            "top": null,
            "visibility": null,
            "width": null
          }
        },
        "ea43e10a9d904a6890416e1f25c356c1": {
          "model_module": "@jupyter-widgets/controls",
          "model_name": "DescriptionStyleModel",
          "model_module_version": "1.5.0",
          "state": {
            "_model_module": "@jupyter-widgets/controls",
            "_model_module_version": "1.5.0",
            "_model_name": "DescriptionStyleModel",
            "_view_count": null,
            "_view_module": "@jupyter-widgets/base",
            "_view_module_version": "1.2.0",
            "_view_name": "StyleView",
            "description_width": ""
          }
        }
      }
    }
  },
  "nbformat": 4,
  "nbformat_minor": 0
}