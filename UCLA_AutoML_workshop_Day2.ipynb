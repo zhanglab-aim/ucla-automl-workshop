{
  "cells": [
    {
      "cell_type": "markdown",
      "metadata": {
        "id": "view-in-github",
        "colab_type": "text"
      },
      "source": [
        "<a href=\"https://colab.research.google.com/github/zhanglab-aim/ucla-automl-workshop/blob/main/UCLA_AutoML_workshop_Day2.ipynb\" target=\"_parent\"><img src=\"https://colab.research.google.com/assets/colab-badge.svg\" alt=\"Open In Colab\"/></a>"
      ]
    },
    {
      "cell_type": "markdown",
      "metadata": {
        "id": "oUlqhkIKj7gQ"
      },
      "source": [
        "# Day 2. AutoML and Model Explanation\n",
        "\n",
        "\n",
        "- introduction of reinforcement learning\n",
        "- apply NAS to automate CNN tuning\n",
        "- interpret model and sequence motifs"
      ]
    },
    {
      "cell_type": "markdown",
      "metadata": {
        "id": "8Zfi_-YXmoFn"
      },
      "source": [
        "# 0.Software Installation"
      ]
    },
    {
      "cell_type": "code",
      "execution_count": 1,
      "metadata": {
        "id": "Swriribms9Vx"
      },
      "outputs": [],
      "source": [
        "#%load_ext tensorboard"
      ]
    },
    {
      "cell_type": "code",
      "execution_count": 2,
      "metadata": {
        "id": "27HsYNMtj3-K",
        "colab": {
          "base_uri": "https://localhost:8080/"
        },
        "outputId": "b3904887-69d1-44d8-c7e4-c2ced776f142"
      },
      "outputs": [
        {
          "output_type": "stream",
          "name": "stdout",
          "text": [
            "\u001b[2K     \u001b[90m━━━━━━━━━━━━━━━━━━━━━━━━━━━━━━━━━━━━━━━\u001b[0m \u001b[32m585.9/585.9 KB\u001b[0m \u001b[31m9.6 MB/s\u001b[0m eta \u001b[36m0:00:00\u001b[0m\n",
            "\u001b[2K     \u001b[90m━━━━━━━━━━━━━━━━━━━━━━━━━━━━━━━━━━━━━━\u001b[0m \u001b[32m512.4/512.4 KB\u001b[0m \u001b[31m33.2 MB/s\u001b[0m eta \u001b[36m0:00:00\u001b[0m\n",
            "\u001b[2K     \u001b[90m━━━━━━━━━━━━━━━━━━━━━━━━━━━━━━━━━━━━━━━\u001b[0m \u001b[32m401.1/401.1 KB\u001b[0m \u001b[31m7.6 MB/s\u001b[0m eta \u001b[36m0:00:00\u001b[0m\n",
            "\u001b[2K     \u001b[90m━━━━━━━━━━━━━━━━━━━━━━━━━━━━━━━━━━━━━━\u001b[0m \u001b[32m210.7/210.7 KB\u001b[0m \u001b[31m11.4 MB/s\u001b[0m eta \u001b[36m0:00:00\u001b[0m\n",
            "\u001b[?25h"
          ]
        }
      ],
      "source": [
        "%pip install -q pytorch-lightning==1.6.5 torchmetrics==0.11.0 expecttest hypothesis amber-automl==0.1.5"
      ]
    },
    {
      "cell_type": "code",
      "execution_count": 3,
      "metadata": {
        "id": "GGhoMXK7mk_d"
      },
      "outputs": [],
      "source": [
        "#!git clone --quiet https://github.com/zj-zhang/AMBER.git\n",
        "#!cd AMBER; python setup.py -q develop"
      ]
    },
    {
      "cell_type": "code",
      "execution_count": 4,
      "metadata": {
        "colab": {
          "base_uri": "https://localhost:8080/"
        },
        "id": "VzLQpZrQmsLA",
        "outputId": "1a6a3412-797c-4ccd-ba46-ec45eeaa1500"
      },
      "outputs": [
        {
          "output_type": "stream",
          "name": "stdout",
          "text": [
            "Setting the default backend to \"pytorch\".\n",
            "\n",
            "\n",
            " █████╗ ███╗   ███╗██████╗ ███████╗██████╗ \n",
            "██╔══██╗████╗ ████║██╔══██╗██╔════╝██╔══██╗\n",
            "███████║██╔████╔██║██████╔╝█████╗  ██████╔╝\n",
            "██╔══██║██║╚██╔╝██║██╔══██╗██╔══╝  ██╔══██╗\n",
            "██║  ██║██║ ╚═╝ ██║██████╔╝███████╗██║  ██║\n",
            "╚═╝  ╚═╝╚═╝     ╚═╝╚═════╝ ╚══════╝╚═╝  ╚═╝\n",
            "\n",
            "Automated Modeling of Biological Evidence-based Research\n",
            "Version 0.1.5\n"
          ]
        }
      ],
      "source": [
        "!amber-cli config -b pytorch\n",
        "!amber-cli -v"
      ]
    },
    {
      "cell_type": "code",
      "execution_count": 5,
      "metadata": {
        "colab": {
          "base_uri": "https://localhost:8080/"
        },
        "id": "vQPSJd4R9Tvm",
        "outputId": "b8f74774-38dc-47dd-fadc-bff1c8308dc1"
      },
      "outputs": [
        {
          "output_type": "stream",
          "name": "stdout",
          "text": [
            "--2023-01-23 16:29:35--  https://raw.githubusercontent.com/zhanglab-aim/ucla-automl-workshop/main/assets/genomic_data.npz\n",
            "Resolving raw.githubusercontent.com (raw.githubusercontent.com)... 185.199.111.133, 185.199.108.133, 185.199.109.133, ...\n",
            "Connecting to raw.githubusercontent.com (raw.githubusercontent.com)|185.199.111.133|:443... connected.\n",
            "HTTP request sent, awaiting response... 200 OK\n",
            "Length: 32020490 (31M) [application/octet-stream]\n",
            "Saving to: ‘genomic_data.npz’\n",
            "\n",
            "genomic_data.npz    100%[===================>]  30.54M   195MB/s    in 0.2s    \n",
            "\n",
            "2023-01-23 16:29:36 (195 MB/s) - ‘genomic_data.npz’ saved [32020490/32020490]\n",
            "\n"
          ]
        }
      ],
      "source": [
        "# download data file\n",
        "! if [ ! -f \"genomic_data.npz\" ]; then wget https://raw.githubusercontent.com/zhanglab-aim/ucla-automl-workshop/main/assets/genomic_data.npz ; else echo \"Found downloaded data\" ; fi"
      ]
    },
    {
      "cell_type": "code",
      "execution_count": 6,
      "metadata": {
        "colab": {
          "base_uri": "https://localhost:8080/"
        },
        "id": "qFP6Q9gBs9V0",
        "outputId": "7fcae1b8-13ad-4437-f82c-f95b478a21ab"
      },
      "outputs": [
        {
          "output_type": "stream",
          "name": "stdout",
          "text": [
            "Random seed set as 777\n"
          ]
        }
      ],
      "source": [
        "# reproducibility\n",
        "import torch\n",
        "import numpy as np\n",
        "import random\n",
        "import os\n",
        "\n",
        "# ref: https://wandb.ai/sauravmaheshkar/RSNA-MICCAI/reports/How-to-Set-Random-Seeds-in-PyTorch-and-Tensorflow--VmlldzoxMDA2MDQy\n",
        "def set_seed(seed: int = 42) -> None:\n",
        "    np.random.seed(seed)\n",
        "    random.seed(seed)\n",
        "    torch.manual_seed(seed)\n",
        "    torch.cuda.manual_seed(seed)\n",
        "    # When running on the CuDNN backend, two further options must be set\n",
        "    torch.backends.cudnn.deterministic = True\n",
        "    torch.backends.cudnn.benchmark = False\n",
        "    # Set a fixed value for the hash seed\n",
        "    os.environ[\"PYTHONHASHSEED\"] = str(seed)\n",
        "    print(f\"Random seed set as {seed}\")\n",
        "\n",
        "set_seed(777)"
      ]
    },
    {
      "cell_type": "code",
      "execution_count": 7,
      "metadata": {
        "colab": {
          "base_uri": "https://localhost:8080/"
        },
        "id": "5CtJXEyZ20Xt",
        "outputId": "ad127de5-fac6-4fd4-f53a-a588f30df2be"
      },
      "outputs": [
        {
          "output_type": "stream",
          "name": "stdout",
          "text": [
            "examine data shape: x=(5000, 200, 4), y=(5000, 1)\n",
            "after split, train=(3600, 200, 4), (3600, 1); valid=(400, 200, 4), (400, 1); test=(1000, 200, 4), (1000, 1)\n"
          ]
        }
      ],
      "source": [
        "import numpy as np\n",
        "from sklearn.model_selection import train_test_split\n",
        "\n",
        "with np.load('genomic_data.npz') as store:\n",
        "    x = store['x']\n",
        "    y = store['y']\n",
        "print(f\"examine data shape: x={x.shape}, y={y.shape}\")\n",
        "x_trainvalid, x_test, y_trainvalid, y_test = train_test_split(x, y, test_size=0.2, random_state=777)\n",
        "x_train, x_valid, y_train, y_valid = train_test_split(x_trainvalid, y_trainvalid, test_size=0.1, random_state=111)\n",
        "print(f\"after split, train={x_train.shape}, {y_train.shape}; valid={x_valid.shape}, {y_valid.shape}; test={x_test.shape}, {y_test.shape}\")"
      ]
    },
    {
      "cell_type": "markdown",
      "metadata": {
        "id": "cCAZMWkJoDB2"
      },
      "source": [
        "# 1.Define a Framework-agnostic CNN Model Space"
      ]
    },
    {
      "cell_type": "code",
      "execution_count": 8,
      "metadata": {
        "id": "iCqINHihoFya"
      },
      "outputs": [],
      "source": [
        "from amber import architect\n",
        "from amber.backend import Operation"
      ]
    },
    {
      "cell_type": "code",
      "execution_count": 9,
      "metadata": {
        "colab": {
          "base_uri": "https://localhost:8080/"
        },
        "id": "mWqFiGtboJAj",
        "outputId": "8e5bcb5e-e866-41b4-eca5-168d7c7815cb"
      },
      "outputs": [
        {
          "output_type": "stream",
          "name": "stdout",
          "text": [
            "StateSpace with 4 layers and 378 total combinations\n"
          ]
        }
      ],
      "source": [
        "model_space = architect.ModelSpace.from_dict([\n",
        "    # conv1\n",
        "    [\n",
        "        Operation('Conv1d', filters=32, kernel_size=7, activation='relu'), Operation('Conv1d', filters=32, kernel_size=13, activation='relu'), Operation('Conv1d', filters=32, kernel_size=3, activation='relu'), \n",
        "        Operation('Conv1d', filters=32, kernel_size=7, activation='tanh'), Operation('Conv1d', filters=32, kernel_size=13, activation='tanh'), Operation('Conv1d', filters=32, kernel_size=3, activation='tanh'), \n",
        "    ],\n",
        "    # pool\n",
        "    [Operation('Maxpool1d', pool_size=4), Operation('Avgpool1d', pool_size=4), Operation('Identity')],\n",
        "    # conv2\n",
        "    [\n",
        "        Operation('Conv1d', filters=64, kernel_size=7, activation='relu'), Operation('Conv1d', filters=64, kernel_size=13, activation='relu'), Operation('Conv1d', filters=64, kernel_size=3, activation='relu'), \n",
        "        Operation('Conv1d', filters=64, kernel_size=7, activation='tanh'), Operation('Conv1d', filters=64, kernel_size=13, activation='tanh'), Operation('Conv1d', filters=64, kernel_size=3, activation='tanh'), \n",
        "        Operation('Identity')\n",
        "    ],\n",
        "    # flatten\n",
        "    [Operation('Flatten'), Operation('GlobalAveragePooling1D'), Operation('GlobalMaxPooling1D')],\n",
        "])\n",
        "print(model_space)"
      ]
    },
    {
      "cell_type": "code",
      "execution_count": 10,
      "metadata": {
        "id": "7MsaZkP1qsKu"
      },
      "outputs": [],
      "source": [
        "input_op = Operation('Input', shape=(200,4))\n",
        "output_op = Operation('Dense', units=1, activation='sigmoid')"
      ]
    },
    {
      "cell_type": "markdown",
      "metadata": {
        "id": "9sRZIJZqnGWl"
      },
      "source": [
        "# 2.Building CNN from Model Space"
      ]
    },
    {
      "cell_type": "code",
      "execution_count": 11,
      "metadata": {
        "id": "y7IlvBrgnB9w"
      },
      "outputs": [],
      "source": [
        "from amber import modeler\n",
        "import matplotlib.pyplot as plt\n",
        "import seaborn as sns\n",
        "%matplotlib inline"
      ]
    },
    {
      "cell_type": "code",
      "execution_count": 12,
      "metadata": {
        "id": "q_mivqLenPL2"
      },
      "outputs": [],
      "source": [
        "model_builder = modeler.sequential.SequentialModelBuilder(\n",
        "    inputs_op=input_op, \n",
        "    output_op=output_op,\n",
        "    model_space=model_space,\n",
        "    model_compile_dict=dict(\n",
        "        optimizer='adam', \n",
        "        loss='binary_crossentropy', \n",
        "        metrics=['auc'])\n",
        ")"
      ]
    },
    {
      "cell_type": "code",
      "execution_count": 13,
      "metadata": {
        "colab": {
          "base_uri": "https://localhost:8080/"
        },
        "id": "OiMI_a1HrZDA",
        "outputId": "0f69ff72-672d-4a92-c704-29dd49e6fb8f"
      },
      "outputs": [
        {
          "output_type": "stream",
          "name": "stdout",
          "text": [
            "Sequential(\n",
            "  (layers): ModuleList(\n",
            "    (0): PermuteLayer()\n",
            "    (1): Sequential(\n",
            "      (0): Conv1d(4, 32, kernel_size=(7,), stride=(1,))\n",
            "      (1): ReLU()\n",
            "    )\n",
            "    (2): MaxPool1d(kernel_size=4, stride=4, padding=0, dilation=1, ceil_mode=False)\n",
            "    (3): Identity()\n",
            "    (4): GlobalAveragePooling1DLayer()\n",
            "    (5): Sequential(\n",
            "      (0): Linear(in_features=32, out_features=1, bias=True)\n",
            "      (1): Sigmoid()\n",
            "    )\n",
            "  )\n",
            "  (criterion): BCELoss()\n",
            ")\n"
          ]
        }
      ],
      "source": [
        "arc = [0, 0, 6, 1]\n",
        "model = model_builder(arc)\n",
        "model.summary()"
      ]
    },
    {
      "cell_type": "code",
      "execution_count": 14,
      "metadata": {
        "colab": {
          "base_uri": "https://localhost:8080/",
          "height": 49,
          "referenced_widgets": [
            "456a2a79a3cf49c98f02e0c4891b2f10",
            "5648711802c34387b81746e2f0ad94ab",
            "28e6ecdecbfc4296a11ab0ecccaf76c7",
            "a9632f152f0c4f7fb9da004406964d52",
            "f03ab69428a0437abc13dff03b87790e",
            "8ca07c3dd8db4ffd8d05da30399e9850",
            "2c449d710004446991141b9dee535f7e",
            "1eef3168b9e34b0a81ee03ff0b334d9c",
            "660df66274a94b33a24ad2864391aff4",
            "c02033a6519a404591f6958bac48f188",
            "bedc343a0889433a93d966c3ef26c471",
            "cc0568a8d7f542c781c552ef70e9f39a",
            "d6fb31ed7dc840f486f8112ece77de8d",
            "24d1dfeb74a74b5293a2df9078069096",
            "fd63fcda6e024b949e35c7f2ffb4edc6",
            "fd3d3595fee4423da79b49996de103e6",
            "3aab2f09bb5e42b2813b77109cf1c69e",
            "4806def36d014082a8d8577d6c888796",
            "a7f68c82bd054f46b54700643669409d",
            "423bc0a1be184207baee2fc9a621ac8e",
            "b30fefda1f4b4155bb43f2f2b62bf33e",
            "65a5bb32a8504c10a158b54fd31b125c",
            "56162123fe4042b28272159d893acfa9",
            "fb77fe209a924203891ffd7ab05cbb62",
            "20b5854c0e724bab8badcf8029e41843",
            "f4b13b08f30c49acbaed311f79fe0ad2",
            "ad81fce062c9496288609554f827cd28",
            "419e7d533269480da34852ffe211b434",
            "130da069f5ba41f8bc9c35f4a9c17036",
            "d2140e74769b454c8f023482b0434add",
            "c658fc078cbb4b68a4d3e7f76a27bb4f",
            "ef3ff36785f74103bc0db18129060ef2",
            "50fadb1c58b341028b173d0262aece5a",
            "1515369ca456482d8e2640675efe5911",
            "fab82a0d0c974469ac35aaf52ded5082",
            "3cc94556c4dd4ed3be869944fd8d3257",
            "b9517fac72e04326a52cb3ef11cd6bdd",
            "f539a9aed3ce40dd9e5e298d0ffd0a1f",
            "ee1097cc7b5f4ced8830d4c84b1ca02b",
            "882c730f8ab546a49e82210995ff7fb2",
            "9490147d254447718015c0dde79275ea",
            "956155c415364ff79410e40669cf84da",
            "47b13c5421a1403b8e54df90f8eb0aa4",
            "444ff883e2a3467b987e5018ab02472f",
            "674a314e175f4e3aacdfca78d594f3f2",
            "3918a2a0e21f48559dfc893cfe04758b",
            "a8aa29a8e8304d3389eae14a0ab935ea",
            "283eada2ebc84fd8b7879f040614a1d7",
            "87c7c40e7d2048009165db81eb302b0d",
            "e1807981404e43c3ae2cc3bfb95218d1",
            "0ed19c25d7f34584a585e1fb988a3fab",
            "28537273b41f40b388a0df7a4026e977",
            "742a80b3df5449e3ae10c38326bce8dd",
            "8d340b011baf455fa1e1b934a292e1ce",
            "f5130f5308994164a39613a2a5655295",
            "d3ddb9b59208465e908e0251bd67e2ac",
            "5eb944664d8c4f95a3d3b8854c3bd1c1",
            "24bf4c8c4d994fa9bf174eb36fd49d09",
            "0d3db090d953414bb1a1eafc7c3bc8bd",
            "3163ec193f2e4922b6454fedcb866191",
            "b4555486be1c4b7ca7e2eb48926447d9",
            "183eecfc7e2e4e3c8428a2c88f5cbe2c",
            "14833c86e32c4f109386b09a8f835099",
            "94a396bc09cf42ebb915ac17e042e607",
            "612d3146b0314c36887d1f03117738f9",
            "307e8d5582114ca7bb1cb733d56cd374",
            "63608a3b7f2747cfb7388a92164656f1",
            "07b08fb32f8f4ebfbe7fa98bf372c358",
            "784269f1b52a46f9bbab4639134b1714",
            "6bea109851de42a488d3907603a5c291",
            "24644ab2b45d47518baa37e341857591",
            "f0c9c34fb10c4b45b1170d0b8effb41c",
            "f81bf86a39f54259b0253615ba8c9768",
            "11a9642793b3432b942725d2e5794be1",
            "31dfd8a137ea4970842a9cb199a4b8c5",
            "4185b62ecf4e4facae53be7aede7a230",
            "bcc7c624b3294deb99bc87e3990db173"
          ]
        },
        "id": "-SitMLl6zc_n",
        "outputId": "a00d7710-1ab7-4fa0-c6d3-cf764947eff1",
        "scrolled": false
      },
      "outputs": [
        {
          "output_type": "display_data",
          "data": {
            "text/plain": [
              "Sanity Checking: 0it [00:00, ?it/s]"
            ],
            "application/vnd.jupyter.widget-view+json": {
              "version_major": 2,
              "version_minor": 0,
              "model_id": "456a2a79a3cf49c98f02e0c4891b2f10"
            }
          },
          "metadata": {}
        },
        {
          "output_type": "display_data",
          "data": {
            "text/plain": [
              "Training: 0it [00:00, ?it/s]"
            ],
            "application/vnd.jupyter.widget-view+json": {
              "version_major": 2,
              "version_minor": 0,
              "model_id": "cc0568a8d7f542c781c552ef70e9f39a"
            }
          },
          "metadata": {}
        },
        {
          "output_type": "display_data",
          "data": {
            "text/plain": [
              "Validation: 0it [00:00, ?it/s]"
            ],
            "application/vnd.jupyter.widget-view+json": {
              "version_major": 2,
              "version_minor": 0,
              "model_id": "56162123fe4042b28272159d893acfa9"
            }
          },
          "metadata": {}
        },
        {
          "output_type": "display_data",
          "data": {
            "text/plain": [
              "Validation: 0it [00:00, ?it/s]"
            ],
            "application/vnd.jupyter.widget-view+json": {
              "version_major": 2,
              "version_minor": 0,
              "model_id": "1515369ca456482d8e2640675efe5911"
            }
          },
          "metadata": {}
        },
        {
          "output_type": "display_data",
          "data": {
            "text/plain": [
              "Validation: 0it [00:00, ?it/s]"
            ],
            "application/vnd.jupyter.widget-view+json": {
              "version_major": 2,
              "version_minor": 0,
              "model_id": "674a314e175f4e3aacdfca78d594f3f2"
            }
          },
          "metadata": {}
        },
        {
          "output_type": "display_data",
          "data": {
            "text/plain": [
              "Validation: 0it [00:00, ?it/s]"
            ],
            "application/vnd.jupyter.widget-view+json": {
              "version_major": 2,
              "version_minor": 0,
              "model_id": "d3ddb9b59208465e908e0251bd67e2ac"
            }
          },
          "metadata": {}
        },
        {
          "output_type": "display_data",
          "data": {
            "text/plain": [
              "Validation: 0it [00:00, ?it/s]"
            ],
            "application/vnd.jupyter.widget-view+json": {
              "version_major": 2,
              "version_minor": 0,
              "model_id": "63608a3b7f2747cfb7388a92164656f1"
            }
          },
          "metadata": {}
        }
      ],
      "source": [
        "hist = model.fit(x_train, y_train, validation_data=(x_valid, y_valid), batch_size=64, epochs=5, verbose=True)"
      ]
    },
    {
      "cell_type": "code",
      "execution_count": 15,
      "metadata": {
        "colab": {
          "base_uri": "https://localhost:8080/",
          "height": 305
        },
        "id": "mrpDjUkc91W4",
        "outputId": "cbe97992-dbd7-4129-8a71-e8a114238cb9"
      },
      "outputs": [
        {
          "output_type": "execute_result",
          "data": {
            "text/plain": [
              "<matplotlib.legend.Legend at 0x7f3f7ef5b850>"
            ]
          },
          "metadata": {},
          "execution_count": 15
        },
        {
          "output_type": "stream",
          "name": "stderr",
          "text": [
            "WARNING:matplotlib.font_manager:findfont: Font family ['serif'] not found. Falling back to DejaVu Sans.\n"
          ]
        },
        {
          "output_type": "display_data",
          "data": {
            "text/plain": [
              "<Figure size 432x288 with 1 Axes>"
            ],
            "image/png": "[encoded data removed]"
          },
          "metadata": {
            "needs_background": "light"
          }
        }
      ],
      "source": [
        "plt.plot(hist.history['train_loss'], label='train')\n",
        "plt.plot(hist.history['val_loss'], label='val')\n",
        "plt.xlabel('Epochs')\n",
        "plt.ylabel('Loss')\n",
        "plt.legend()"
      ]
    },
    {
      "cell_type": "markdown",
      "metadata": {
        "id": "ij95-IEWs9V7"
      },
      "source": [
        "# 3.Automated Search of Model Space"
      ]
    },
    {
      "cell_type": "code",
      "execution_count": 16,
      "metadata": {
        "id": "fZEhm0y7s9V7"
      },
      "outputs": [],
      "source": [
        "# define a search algorithm\n",
        "controller = architect.GeneralController(model_space=model_space)"
      ]
    },
    {
      "cell_type": "code",
      "execution_count": 17,
      "metadata": {
        "colab": {
          "base_uri": "https://localhost:8080/"
        },
        "id": "somZxxkls9V8",
        "outputId": "e1587e3a-6994-4dcc-ca07-41aa05f17ec9"
      },
      "outputs": [
        {
          "output_type": "execute_result",
          "data": {
            "text/plain": [
              "(array([4, 1, 0, 2], dtype=int32),\n",
              " [array([[0.16665466, 0.16665043, 0.166673  , 0.1666605 , 0.16669773,\n",
              "          0.16666366]], dtype=float32),\n",
              "  array([[0.33329216, 0.33331555, 0.33339226]], dtype=float32),\n",
              "  array([[0.14286055, 0.14285785, 0.14282915, 0.14282627, 0.14285736,\n",
              "          0.14287995, 0.14288886]], dtype=float32),\n",
              "  array([[0.33334982, 0.33333722, 0.33331293]], dtype=float32)])"
            ]
          },
          "metadata": {},
          "execution_count": 17
        }
      ],
      "source": [
        "# action=integers\n",
        "# probs=selection probabilities\n",
        "controller.get_action()"
      ]
    },
    {
      "cell_type": "code",
      "execution_count": 18,
      "metadata": {
        "colab": {
          "base_uri": "https://localhost:8080/"
        },
        "id": "43gT6B6Cs9V8",
        "outputId": "dc3b9b23-48ea-43a0-cc92-ccab0860be0b"
      },
      "outputs": [
        {
          "output_type": "stream",
          "name": "stderr",
          "text": [
            "2023-01-23 16:30:05,961 - AMBER - INFO -\n",
            " working directory: /content/amber_out\n",
            "INFO:AMBER:working directory: /content/amber_out\n",
            "2023-01-23 16:30:05,966 - AMBER - INFO -\n",
            " time budget set to: 00:05:00\n",
            "INFO:AMBER:time budget set to: 00:05:00\n"
          ]
        }
      ],
      "source": [
        "reward_fn = architect.reward.LossAucReward(method='auroc')\n",
        "manager = architect.GeneralManager(\n",
        "    train_data=(x_train, y_train),\n",
        "    validation_data=(x_valid, y_valid),\n",
        "    model_fn=model_builder,\n",
        "    reward_fn=reward_fn,\n",
        "    epochs=5,\n",
        "    working_dir=\"./amber_out\"\n",
        ")\n",
        "search_env = architect.ControllerTrainEnvironment(\n",
        "    controller=controller,\n",
        "    manager=manager,\n",
        "    time_budget='00:05:00',\n",
        "    initial_buffering_queue=5,  # start searching after this number of iters\n",
        "    early_stop_patience=5,      # stop searching if reward not increased by this number of iters\n",
        "    working_dir=\"./amber_out\",\n",
        "    verbose=False\n",
        ")"
      ]
    },
    {
      "cell_type": "code",
      "execution_count": 19,
      "metadata": {
        "scrolled": false,
        "colab": {
          "base_uri": "https://localhost:8080/",
          "height": 1000
        },
        "id": "Fz59kSibs9V9",
        "outputId": "0d3fcdff-2b6e-4b46-924b-f12827fd0545"
      },
      "outputs": [
        {
          "output_type": "stream",
          "name": "stderr",
          "text": [
            "2023-01-23 16:30:10,059 - AMBER - INFO -\n",
            " Iter 0, this reward: 2.385, best reward: 2.385, used time: 1.36 %\n",
            "INFO:AMBER:Iter 0, this reward: 2.385, best reward: 2.385, used time: 1.36 %\n",
            "2023-01-23 16:30:14,078 - AMBER - INFO -\n",
            " Iter 1, this reward: 2.687, best reward: 2.687, used time: 2.70 %\n",
            "INFO:AMBER:Iter 1, this reward: 2.687, best reward: 2.687, used time: 2.70 %\n",
            "2023-01-23 16:30:18,019 - AMBER - INFO -\n",
            " Iter 2, this reward: 2.180, best reward: 2.687, used time: 4.01 %\n",
            "INFO:AMBER:Iter 2, this reward: 2.180, best reward: 2.687, used time: 4.01 %\n",
            "2023-01-23 16:30:21,713 - AMBER - INFO -\n",
            " Iter 3, this reward: 2.467, best reward: 2.687, used time: 5.24 %\n",
            "INFO:AMBER:Iter 3, this reward: 2.467, best reward: 2.687, used time: 5.24 %\n",
            "2023-01-23 16:30:26,116 - AMBER - INFO -\n",
            " Iter 4, this reward: 2.654, best reward: 2.687, used time: 6.71 %\n",
            "INFO:AMBER:Iter 4, this reward: 2.654, best reward: 2.687, used time: 6.71 %\n",
            "2023-01-23 16:30:30,687 - AMBER - INFO -\n",
            " Iter 5, this reward: 2.701, best reward: 2.701, used time: 8.24 %\n",
            "INFO:AMBER:Iter 5, this reward: 2.701, best reward: 2.701, used time: 8.24 %\n",
            "2023-01-23 16:30:35,035 - AMBER - INFO -\n",
            " Iter 6, this reward: 2.443, best reward: 2.701, used time: 9.68 %\n",
            "INFO:AMBER:Iter 6, this reward: 2.443, best reward: 2.701, used time: 9.68 %\n",
            "2023-01-23 16:30:39,670 - AMBER - INFO -\n",
            " Iter 7, this reward: 2.891, best reward: 2.891, used time: 11.23 %\n",
            "INFO:AMBER:Iter 7, this reward: 2.891, best reward: 2.891, used time: 11.23 %\n",
            "2023-01-23 16:30:44,234 - AMBER - INFO -\n",
            " Iter 8, this reward: 2.901, best reward: 2.901, used time: 12.75 %\n",
            "INFO:AMBER:Iter 8, this reward: 2.901, best reward: 2.901, used time: 12.75 %\n",
            "2023-01-23 16:30:48,656 - AMBER - INFO -\n",
            " Iter 9, this reward: 2.948, best reward: 2.948, used time: 14.23 %\n",
            "INFO:AMBER:Iter 9, this reward: 2.948, best reward: 2.948, used time: 14.23 %\n",
            "2023-01-23 16:30:53,230 - AMBER - INFO -\n",
            " Iter 10, this reward: 2.952, best reward: 2.952, used time: 15.75 %\n",
            "INFO:AMBER:Iter 10, this reward: 2.952, best reward: 2.952, used time: 15.75 %\n",
            "2023-01-23 16:30:58,000 - AMBER - INFO -\n",
            " Iter 11, this reward: 2.904, best reward: 2.952, used time: 17.34 %\n",
            "INFO:AMBER:Iter 11, this reward: 2.904, best reward: 2.952, used time: 17.34 %\n",
            "2023-01-23 16:31:04,290 - AMBER - INFO -\n",
            " Iter 12, this reward: 2.922, best reward: 2.952, used time: 19.44 %\n",
            "INFO:AMBER:Iter 12, this reward: 2.922, best reward: 2.952, used time: 19.44 %\n",
            "2023-01-23 16:31:09,268 - AMBER - INFO -\n",
            " Iter 13, this reward: 2.877, best reward: 2.952, used time: 21.10 %\n",
            "INFO:AMBER:Iter 13, this reward: 2.877, best reward: 2.952, used time: 21.10 %\n",
            "2023-01-23 16:31:14,131 - AMBER - INFO -\n",
            " Iter 14, this reward: 2.929, best reward: 2.952, used time: 22.72 %\n",
            "INFO:AMBER:Iter 14, this reward: 2.929, best reward: 2.952, used time: 22.72 %\n",
            "2023-01-23 16:31:19,094 - AMBER - INFO -\n",
            " Iter 15, this reward: 2.905, best reward: 2.952, used time: 24.37 %\n",
            "INFO:AMBER:Iter 15, this reward: 2.905, best reward: 2.952, used time: 24.37 %\n",
            "2023-01-23 16:31:24,342 - AMBER - INFO -\n",
            " Iter 16, this reward: 2.883, best reward: 2.952, used time: 26.12 %\n",
            "INFO:AMBER:Iter 16, this reward: 2.883, best reward: 2.952, used time: 26.12 %\n",
            "2023-01-23 16:31:24,349 - AMBER - INFO -\n",
            " Controller search early-stopped at episode 16\n",
            "INFO:AMBER:Controller search early-stopped at episode 16\n"
          ]
        },
        {
          "output_type": "execute_result",
          "data": {
            "text/plain": [
              "[0, 0, 0, 2]"
            ]
          },
          "metadata": {},
          "execution_count": 19
        },
        {
          "output_type": "display_data",
          "data": {
            "text/plain": [
              "<Figure size 900x900 with 1 Axes>"
            ],
            "image/png": "[encoded data removed]"
          },
          "metadata": {
            "needs_background": "light"
          }
        }
      ],
      "source": [
        "search_env.train()"
      ]
    },
    {
      "cell_type": "markdown",
      "metadata": {
        "id": "eImuSByYs9V9"
      },
      "source": [
        "# 4.Understanding AutoML/NAS Principles\n"
      ]
    },
    {
      "cell_type": "code",
      "execution_count": 20,
      "metadata": {
        "scrolled": false,
        "colab": {
          "base_uri": "https://localhost:8080/",
          "height": 1000
        },
        "id": "zwilyhWbs9V9",
        "outputId": "32d5f59b-b8b6-4428-c336-b0a34892c2a5"
      },
      "outputs": [
        {
          "output_type": "stream",
          "name": "stdout",
          "text": [
            "['./amber_out/weight_at_layer_0.png', './amber_out/weight_at_layer_1.png', './amber_out/weight_at_layer_2.png', './amber_out/weight_at_layer_3.png']\n"
          ]
        },
        {
          "output_type": "display_data",
          "data": {
            "text/plain": [
              "<Figure size 1800x1800 with 4 Axes>"
            ],
            "image/png": "[encoded data removed]"
          },
          "metadata": {
            "needs_background": "light"
          }
        }
      ],
      "source": [
        "# visualizations\n",
        "import os\n",
        "import matplotlib.image as mpimg\n",
        "\n",
        "plt.figure(figsize=(25,25))\n",
        "columns = 1\n",
        "wd = \"./amber_out\"\n",
        "images = [os.path.join(wd,x) for x in sorted([x for x in os.listdir(wd) \\\n",
        "                                                            if x.startswith(\"weight\") and x.endswith(\"png\")])]\n",
        "print(images)\n",
        "images = [mpimg.imread(_) for _ in images]\n",
        "for i, image in enumerate(images):\n",
        "    plt.subplot(int(len(images) / columns + 1), columns, i + 1)\n",
        "    plt.imshow(image)\n"
      ]
    },
    {
      "cell_type": "markdown",
      "metadata": {
        "id": "XN4GaRODs9V-"
      },
      "source": [
        "# 5.In-Sillico Mutagenesis for Model Explanation"
      ]
    },
    {
      "cell_type": "code",
      "execution_count": 21,
      "metadata": {
        "colab": {
          "base_uri": "https://localhost:8080/",
          "height": 225
        },
        "id": "06Yxu8sfs9V-",
        "outputId": "5e95077b-252a-4c7e-9768-127486ccf47c"
      },
      "outputs": [
        {
          "output_type": "stream",
          "name": "stdout",
          "text": [
            "read 1 history files, total 51 lines \n"
          ]
        },
        {
          "output_type": "execute_result",
          "data": {
            "text/plain": [
              "    ID  L1  L2  L3  L4          dir       auc\n",
              "12  12   2   2   4   2  ./amber_out  0.999375\n",
              "10  10   1   2   6   2  ./amber_out  0.997725\n",
              "40  40   1   0   0   2  ./amber_out  0.989249\n",
              "46  46   1   0   0   2  ./amber_out  0.988524\n",
              "15  15   1   0   0   2  ./amber_out  0.986874"
            ],
            "text/html": [
              "\n",
              "  <div id=\"df-5bd0e6b3-9ced-4918-a0c8-fec35ddfa7e3\">\n",
              "    <div class=\"colab-df-container\">\n",
              "      <div>\n",
              "<style scoped>\n",
              "    .dataframe tbody tr th:only-of-type {\n",
              "        vertical-align: middle;\n",
              "    }\n",
              "\n",
              "    .dataframe tbody tr th {\n",
              "        vertical-align: top;\n",
              "    }\n",
              "\n",
              "    .dataframe thead th {\n",
              "        text-align: right;\n",
              "    }\n",
              "</style>\n",
              "<table border=\"1\" class=\"dataframe\">\n",
              "  <thead>\n",
              "    <tr style=\"text-align: right;\">\n",
              "      <th></th>\n",
              "      <th>ID</th>\n",
              "      <th>L1</th>\n",
              "      <th>L2</th>\n",
              "      <th>L3</th>\n",
              "      <th>L4</th>\n",
              "      <th>dir</th>\n",
              "      <th>auc</th>\n",
              "    </tr>\n",
              "  </thead>\n",
              "  <tbody>\n",
              "    <tr>\n",
              "      <th>12</th>\n",
              "      <td>12</td>\n",
              "      <td>2</td>\n",
              "      <td>2</td>\n",
              "      <td>4</td>\n",
              "      <td>2</td>\n",
              "      <td>./amber_out</td>\n",
              "      <td>0.999375</td>\n",
              "    </tr>\n",
              "    <tr>\n",
              "      <th>10</th>\n",
              "      <td>10</td>\n",
              "      <td>1</td>\n",
              "      <td>2</td>\n",
              "      <td>6</td>\n",
              "      <td>2</td>\n",
              "      <td>./amber_out</td>\n",
              "      <td>0.997725</td>\n",
              "    </tr>\n",
              "    <tr>\n",
              "      <th>40</th>\n",
              "      <td>40</td>\n",
              "      <td>1</td>\n",
              "      <td>0</td>\n",
              "      <td>0</td>\n",
              "      <td>2</td>\n",
              "      <td>./amber_out</td>\n",
              "      <td>0.989249</td>\n",
              "    </tr>\n",
              "    <tr>\n",
              "      <th>46</th>\n",
              "      <td>46</td>\n",
              "      <td>1</td>\n",
              "      <td>0</td>\n",
              "      <td>0</td>\n",
              "      <td>2</td>\n",
              "      <td>./amber_out</td>\n",
              "      <td>0.988524</td>\n",
              "    </tr>\n",
              "    <tr>\n",
              "      <th>15</th>\n",
              "      <td>15</td>\n",
              "      <td>1</td>\n",
              "      <td>0</td>\n",
              "      <td>0</td>\n",
              "      <td>2</td>\n",
              "      <td>./amber_out</td>\n",
              "      <td>0.986874</td>\n",
              "    </tr>\n",
              "  </tbody>\n",
              "</table>\n",
              "</div>\n",
              "      <button class=\"colab-df-convert\" onclick=\"convertToInteractive('df-5bd0e6b3-9ced-4918-a0c8-fec35ddfa7e3')\"\n",
              "              title=\"Convert this dataframe to an interactive table.\"\n",
              "              style=\"display:none;\">\n",
              "        \n",
              "  <svg xmlns=\"http://www.w3.org/2000/svg\" height=\"24px\"viewBox=\"0 0 24 24\"\n",
              "       width=\"24px\">\n",
              "    <path d=\"M0 0h24v24H0V0z\" fill=\"none\"/>\n",
              "    <path d=\"M18.56 5.44l.94 2.06.94-2.06 2.06-.94-2.06-.94-.94-2.06-.94 2.06-2.06.94zm-11 1L8.5 8.5l.94-2.06 2.06-.94-2.06-.94L8.5 2.5l-.94 2.06-2.06.94zm10 10l.94 2.06.94-2.06 2.06-.94-2.06-.94-.94-2.06-.94 2.06-2.06.94z\"/><path d=\"M17.41 7.96l-1.37-1.37c-.4-.4-.92-.59-1.43-.59-.52 0-1.04.2-1.43.59L10.3 9.45l-7.72 7.72c-.78.78-.78 2.05 0 2.83L4 21.41c.39.39.9.59 1.41.59.51 0 1.02-.2 1.41-.59l7.78-7.78 2.81-2.81c.8-.78.8-2.07 0-2.86zM5.41 20L4 18.59l7.72-7.72 1.47 1.35L5.41 20z\"/>\n",
              "  </svg>\n",
              "      </button>\n",
              "      \n",
              "  <style>\n",
              "    .colab-df-container {\n",
              "      display:flex;\n",
              "      flex-wrap:wrap;\n",
              "      gap: 12px;\n",
              "    }\n",
              "\n",
              "    .colab-df-convert {\n",
              "      background-color: #E8F0FE;\n",
              "      border: none;\n",
              "      border-radius: 50%;\n",
              "      cursor: pointer;\n",
              "      display: none;\n",
              "      fill: #1967D2;\n",
              "      height: 32px;\n",
              "      padding: 0 0 0 0;\n",
              "      width: 32px;\n",
              "    }\n",
              "\n",
              "    .colab-df-convert:hover {\n",
              "      background-color: #E2EBFA;\n",
              "      box-shadow: 0px 1px 2px rgba(60, 64, 67, 0.3), 0px 1px 3px 1px rgba(60, 64, 67, 0.15);\n",
              "      fill: #174EA6;\n",
              "    }\n",
              "\n",
              "    [theme=dark] .colab-df-convert {\n",
              "      background-color: #3B4455;\n",
              "      fill: #D2E3FC;\n",
              "    }\n",
              "\n",
              "    [theme=dark] .colab-df-convert:hover {\n",
              "      background-color: #434B5C;\n",
              "      box-shadow: 0px 1px 3px 1px rgba(0, 0, 0, 0.15);\n",
              "      filter: drop-shadow(0px 1px 2px rgba(0, 0, 0, 0.3));\n",
              "      fill: #FFFFFF;\n",
              "    }\n",
              "  </style>\n",
              "\n",
              "      <script>\n",
              "        const buttonEl =\n",
              "          document.querySelector('#df-5bd0e6b3-9ced-4918-a0c8-fec35ddfa7e3 button.colab-df-convert');\n",
              "        buttonEl.style.display =\n",
              "          google.colab.kernel.accessAllowed ? 'block' : 'none';\n",
              "\n",
              "        async function convertToInteractive(key) {\n",
              "          const element = document.querySelector('#df-5bd0e6b3-9ced-4918-a0c8-fec35ddfa7e3');\n",
              "          const dataTable =\n",
              "            await google.colab.kernel.invokeFunction('convertToInteractive',\n",
              "                                                     [key], {});\n",
              "          if (!dataTable) return;\n",
              "\n",
              "          const docLinkHtml = 'Like what you see? Visit the ' +\n",
              "            '<a target=\"_blank\" href=https://colab.research.google.com/notebooks/data_table.ipynb>data table notebook</a>'\n",
              "            + ' to learn more about interactive tables.';\n",
              "          element.innerHTML = '';\n",
              "          dataTable['output_type'] = 'display_data';\n",
              "          await google.colab.output.renderOutput(dataTable, element);\n",
              "          const docLink = document.createElement('div');\n",
              "          docLink.innerHTML = docLinkHtml;\n",
              "          element.appendChild(docLink);\n",
              "        }\n",
              "      </script>\n",
              "    </div>\n",
              "  </div>\n",
              "  "
            ]
          },
          "metadata": {},
          "execution_count": 21
        }
      ],
      "source": [
        "# read in history\n",
        "import amber\n",
        "amb_hist = amber.utils.io.read_history(\"./amber_out/train_history.csv\", metric_name_dict={'auc':1})\n",
        "amb_hist.sort_values('auc', ascending=False).head(5)"
      ]
    },
    {
      "cell_type": "code",
      "execution_count": 22,
      "metadata": {
        "id": "WhPDrZAGs9V-"
      },
      "outputs": [],
      "source": [
        "bestarc = amb_hist.sort_values('auc', ascending=False).iloc[0][['L1', 'L2', 'L3', 'L4']].to_list()\n",
        "trial_id = amb_hist.sort_values('auc', ascending=False).iloc[0]['ID']\n",
        "bestmodel = model_builder(bestarc)\n",
        "bestmodel = bestmodel.load(f\"./amber_out/weights/trial_{trial_id}/bestmodel.h5\")"
      ]
    },
    {
      "cell_type": "code",
      "execution_count": 23,
      "metadata": {
        "colab": {
          "base_uri": "https://localhost:8080/"
        },
        "id": "qcQFzvUks9V_",
        "outputId": "1de6c36f-8bca-434a-b033-8714615b2b3c"
      },
      "outputs": [
        {
          "output_type": "execute_result",
          "data": {
            "text/plain": [
              "(0.9993749374937493, [0.9993749374937493], {'knowledge': 0})"
            ]
          },
          "metadata": {},
          "execution_count": 23
        }
      ],
      "source": [
        "# confirm the model weights are reloaded\n",
        "reward_fn(bestmodel, (x_valid, y_valid))"
      ]
    },
    {
      "cell_type": "code",
      "execution_count": 24,
      "metadata": {
        "id": "F6kMbL98s9WA"
      },
      "outputs": [],
      "source": [
        "def in_sillico_mutagenesis(model, input):\n",
        "    score = np.zeros(input.shape)\n",
        "    old_pred = model.predict(input[np.newaxis, :]).flatten()\n",
        "    print(\"input pred\", old_pred)\n",
        "    for i in range(len(input)):\n",
        "        for j in range(len(input[i])):\n",
        "            input_ = input.copy()\n",
        "            # first, set this nucleotide to 0\n",
        "            input_[i] = 0\n",
        "            # then, change the j-th to one-hot encoded\n",
        "            input_[i, j] = 1\n",
        "            # insert a new axis for batch dim\n",
        "            input_ = input_[np.newaxis, :]\n",
        "            # get importance by taking difference\n",
        "            new_pred = model.predict(input_).flatten()\n",
        "            score[i,j] = old_pred - new_pred\n",
        "    return score.T"
      ]
    },
    {
      "cell_type": "code",
      "execution_count": 25,
      "metadata": {
        "colab": {
          "base_uri": "https://localhost:8080/"
        },
        "id": "97bDDRC-s9WA",
        "outputId": "50aa7798-bcdf-4f44-9ba2-a8739a02f42a"
      },
      "outputs": [
        {
          "output_type": "stream",
          "name": "stdout",
          "text": [
            "confirm this is a positive labelled sequence [1]\n",
            "input pred [0.9932289]\n"
          ]
        }
      ],
      "source": [
        "# select a target sequence (positive labelled)\n",
        "target_idx = 4\n",
        "print(\"confirm this is a positive labelled sequence\", y_valid[target_idx])\n",
        "scores = in_sillico_mutagenesis(model=bestmodel, input=x_valid[target_idx])"
      ]
    },
    {
      "cell_type": "code",
      "execution_count": 26,
      "metadata": {
        "colab": {
          "base_uri": "https://localhost:8080/",
          "height": 209
        },
        "id": "1_b-6KGds9WA",
        "outputId": "973f7e39-f7bf-425b-d2f1-0c84169ddb77"
      },
      "outputs": [
        {
          "output_type": "execute_result",
          "data": {
            "text/plain": [
              "Text(0.5, -7.0, 'Position')"
            ]
          },
          "metadata": {},
          "execution_count": 26
        },
        {
          "output_type": "display_data",
          "data": {
            "text/plain": [
              "<Figure size 1440x144 with 2 Axes>"
            ],
            "image/png": "[encoded data removed]"
          },
          "metadata": {
            "needs_background": "light"
          }
        }
      ],
      "source": [
        "# visualization\n",
        "fig, ax = plt.subplots(1,1, figsize=(20, 2))\n",
        "sns.heatmap(scores, ax=ax, cmap='Reds', linewidths=0.1, linecolor='white')\n",
        "ax.set_yticklabels(['A', 'C', 'G', 'T'])\n",
        "ax.set_xlabel('Position')"
      ]
    },
    {
      "cell_type": "code",
      "execution_count": 27,
      "metadata": {
        "colab": {
          "base_uri": "https://localhost:8080/",
          "height": 308
        },
        "id": "hQbZN3-is9WB",
        "outputId": "c2ee4ebe-7644-41ee-910b-8a7a5e1d7adf"
      },
      "outputs": [
        {
          "output_type": "stream",
          "name": "stderr",
          "text": [
            "WARNING:matplotlib.font_manager:findfont: Font family ['serif'] not found. Falling back to DejaVu Sans.\n"
          ]
        },
        {
          "output_type": "stream",
          "name": "stdout",
          "text": [
            "149 [1 2 3 1 0 0 0 2 0 2 0 3 2 1 0 3 0 0 2 2 2 3 3 0 3 1 1 1 1 3 2 2 3 3 2 3 3\n",
            " 3 1 2 1 3 3 1 0 0 1 0 2 2 0 3 0 3 0 3 0 2 0 3 0 3 1 1 0 3 1 2 3 3 0 1 2 2\n",
            " 3 0 2 0 2 3 2 2 1 3 0 3 2 0 2 0 2 3 0 1 0 1 1 3 3 1 0 0 0 0 0 2 3 1 3 0 3\n",
            " 0 0 0 3 1 2 1 0 1 0 0 0 1 3 2 3 0 0 3 1 1 0 3 3 2 1 1 0 3 2 2 0 1 1 0 0 1\n",
            " 0 2 2 2 2 2 1 2 2 3 2 3 0 1 0 0 3 3 0 0 3 1 0 3 1 1 1 0 0 3 3 1 3 1 3 2 2\n",
            " 2 3 3 2 0 0 1 3 3 2 0 1 0 2 1]\n",
            "TGGACCAACAGGGGGCGGTG\n"
          ]
        },
        {
          "output_type": "display_data",
          "data": {
            "text/plain": [
              "<Figure size 720x144 with 1 Axes>"
            ],
            "image/png": "[encoded data removed]"
          },
          "metadata": {
            "needs_background": "light"
          }
        }
      ],
      "source": [
        "# inspect the DNA by converting matrix to sequence\n",
        "reverse_lookup = {\n",
        "    0: 'A', \n",
        "    1: 'C', \n",
        "    2: 'G', \n",
        "    3: 'T'\n",
        "}\n",
        "\n",
        "focus = np.argmax(scores.mean(axis=0))\n",
        "id = np.where(x_valid[target_idx] == 1)[1]\n",
        "print(focus, id)\n",
        "seq = [reverse_lookup[i] for i in id]\n",
        "focus_region = seq[(focus-10):(focus+10)]\n",
        "\n",
        "plt.figure(figsize=(10, 2))\n",
        "plt.imshow(scores[:, (focus-10):(focus+10)], cmap='Reds', aspect=\"auto\", interpolation='nearest', alpha=0.5)\n",
        "for i, word in enumerate(focus_region):\n",
        "    plt.text(i, 0, word, fontsize=12)\n",
        "\n",
        "print(f''.join(focus_region))"
      ]
    },
    {
      "cell_type": "markdown",
      "metadata": {
        "id": "38_ub92cs9WB"
      },
      "source": [
        "**Compare to CTCF_known1 motif (ground truth)**\n",
        "\n",
        "<img src=\"https://raw.githubusercontent.com/zhanglab-aim/ucla-automl-workshop/main/assets/CTCF_known1_MA0139.1.svg\" alt=\"CTCF_known1 motif\" style=\"height: 300px;\"/>\n"
      ]
    },
    {
      "cell_type": "markdown",
      "metadata": {
        "id": "sybW6xIQs9WB"
      },
      "source": [
        "# 6.Extended Practices\n",
        "\n"
      ]
    },
    {
      "cell_type": "markdown",
      "metadata": {
        "id": "qG8EtN5gs9WB"
      },
      "source": [
        "6.1 Write a Python function to assess the feature importance for all positive-labelled test sequences. \n",
        "*(hint: re-use the code we've developed for a single test sequence).*\n",
        "\n",
        "6.2 Visualize the feature importance for some negative-labelled test sequences. How do they compare to positive-labelled sequences, and why?\n",
        "\n",
        "6.3 Explore and implement other model space for AMBER. Can you prune the model space for more efficient search?\n",
        "\n",
        "6.4 Explore other metrics (e.g. negative loss, accuracy) as the reward to maximize during AMBER model search.\n",
        "\n",
        "6.5 Explore other model explanation methods, e.g. Integrated Gradients (implemented in [Captum](https://captum.ai/) python package), SHAP values (implemented in [SHAP](https://shap-lrjball.readthedocs.io/en/latest/index.html) python package).\n"
      ]
    },
    {
      "cell_type": "code",
      "execution_count": 27,
      "metadata": {
        "id": "64o9bhg1s9WC"
      },
      "outputs": [],
      "source": []
    }
  ],
  "metadata": {
    "colab": {
      "provenance": [],
      "include_colab_link": true
    },
    "kernelspec": {
      "display_name": "Python 3 (ipykernel)",
      "language": "python",
      "name": "python3"
    },
    "language_info": {
      "codemirror_mode": {
        "name": "ipython",
        "version": 3
      },
      "file_extension": ".py",
      "mimetype": "text/x-python",
      "name": "python",
      "nbconvert_exporter": "python",
      "pygments_lexer": "ipython3",
      "version": "3.10.8"
    },
    "vscode": {
      "interpreter": {
        "hash": "563deb41fb903fc21f20f9f2855698fa30ab9974cda74658693d8fd877578937"
      }
    },
    "accelerator": "GPU",
    "gpuClass": "standard",
    "widgets": {
      "application/vnd.jupyter.widget-state+json": {
        "456a2a79a3cf49c98f02e0c4891b2f10": {
          "model_module": "@jupyter-widgets/controls",
          "model_name": "HBoxModel",
          "model_module_version": "1.5.0",
          "state": {
            "_dom_classes": [],
            "_model_module": "@jupyter-widgets/controls",
            "_model_module_version": "1.5.0",
            "_model_name": "HBoxModel",
            "_view_count": null,
            "_view_module": "@jupyter-widgets/controls",
            "_view_module_version": "1.5.0",
            "_view_name": "HBoxView",
            "box_style": "",
            "children": [
              "IPY_MODEL_5648711802c34387b81746e2f0ad94ab",
              "IPY_MODEL_28e6ecdecbfc4296a11ab0ecccaf76c7",
              "IPY_MODEL_a9632f152f0c4f7fb9da004406964d52"
            ],
            "layout": "IPY_MODEL_f03ab69428a0437abc13dff03b87790e"
          }
        },
        "5648711802c34387b81746e2f0ad94ab": {
          "model_module": "@jupyter-widgets/controls",
          "model_name": "HTMLModel",
          "model_module_version": "1.5.0",
          "state": {
            "_dom_classes": [],
            "_model_module": "@jupyter-widgets/controls",
            "_model_module_version": "1.5.0",
            "_model_name": "HTMLModel",
            "_view_count": null,
            "_view_module": "@jupyter-widgets/controls",
            "_view_module_version": "1.5.0",
            "_view_name": "HTMLView",
            "description": "",
            "description_tooltip": null,
            "layout": "IPY_MODEL_8ca07c3dd8db4ffd8d05da30399e9850",
            "placeholder": "​",
            "style": "IPY_MODEL_2c449d710004446991141b9dee535f7e",
            "value": "Sanity Checking DataLoader 0: 100%"
          }
        },
        "28e6ecdecbfc4296a11ab0ecccaf76c7": {
          "model_module": "@jupyter-widgets/controls",
          "model_name": "FloatProgressModel",
          "model_module_version": "1.5.0",
          "state": {
            "_dom_classes": [],
            "_model_module": "@jupyter-widgets/controls",
            "_model_module_version": "1.5.0",
            "_model_name": "FloatProgressModel",
            "_view_count": null,
            "_view_module": "@jupyter-widgets/controls",
            "_view_module_version": "1.5.0",
            "_view_name": "ProgressView",
            "bar_style": "",
            "description": "",
            "description_tooltip": null,
            "layout": "IPY_MODEL_1eef3168b9e34b0a81ee03ff0b334d9c",
            "max": 2,
            "min": 0,
            "orientation": "horizontal",
            "style": "IPY_MODEL_660df66274a94b33a24ad2864391aff4",
            "value": 2
          }
        },
        "a9632f152f0c4f7fb9da004406964d52": {
          "model_module": "@jupyter-widgets/controls",
          "model_name": "HTMLModel",
          "model_module_version": "1.5.0",
          "state": {
            "_dom_classes": [],
            "_model_module": "@jupyter-widgets/controls",
            "_model_module_version": "1.5.0",
            "_model_name": "HTMLModel",
            "_view_count": null,
            "_view_module": "@jupyter-widgets/controls",
            "_view_module_version": "1.5.0",
            "_view_name": "HTMLView",
            "description": "",
            "description_tooltip": null,
            "layout": "IPY_MODEL_c02033a6519a404591f6958bac48f188",
            "placeholder": "​",
            "style": "IPY_MODEL_bedc343a0889433a93d966c3ef26c471",
            "value": " 2/2 [00:06&lt;00:00,  6.50s/it]"
          }
        },
        "f03ab69428a0437abc13dff03b87790e": {
          "model_module": "@jupyter-widgets/base",
          "model_name": "LayoutModel",
          "model_module_version": "1.2.0",
          "state": {
            "_model_module": "@jupyter-widgets/base",
            "_model_module_version": "1.2.0",
            "_model_name": "LayoutModel",
            "_view_count": null,
            "_view_module": "@jupyter-widgets/base",
            "_view_module_version": "1.2.0",
            "_view_name": "LayoutView",
            "align_content": null,
            "align_items": null,
            "align_self": null,
            "border": null,
            "bottom": null,
            "display": "inline-flex",
            "flex": null,
            "flex_flow": "row wrap",
            "grid_area": null,
            "grid_auto_columns": null,
            "grid_auto_flow": null,
            "grid_auto_rows": null,
            "grid_column": null,
            "grid_gap": null,
            "grid_row": null,
            "grid_template_areas": null,
            "grid_template_columns": null,
            "grid_template_rows": null,
            "height": null,
            "justify_content": null,
            "justify_items": null,
            "left": null,
            "margin": null,
            "max_height": null,
            "max_width": null,
            "min_height": null,
            "min_width": null,
            "object_fit": null,
            "object_position": null,
            "order": null,
            "overflow": null,
            "overflow_x": null,
            "overflow_y": null,
            "padding": null,
            "right": null,
            "top": null,
            "visibility": "hidden",
            "width": "100%"
          }
        },
        "8ca07c3dd8db4ffd8d05da30399e9850": {
          "model_module": "@jupyter-widgets/base",
          "model_name": "LayoutModel",
          "model_module_version": "1.2.0",
          "state": {
            "_model_module": "@jupyter-widgets/base",
            "_model_module_version": "1.2.0",
            "_model_name": "LayoutModel",
            "_view_count": null,
            "_view_module": "@jupyter-widgets/base",
            "_view_module_version": "1.2.0",
            "_view_name": "LayoutView",
            "align_content": null,
            "align_items": null,
            "align_self": null,
            "border": null,
            "bottom": null,
            "display": null,
            "flex": null,
            "flex_flow": null,
            "grid_area": null,
            "grid_auto_columns": null,
            "grid_auto_flow": null,
            "grid_auto_rows": null,
            "grid_column": null,
            "grid_gap": null,
            "grid_row": null,
            "grid_template_areas": null,
            "grid_template_columns": null,
            "grid_template_rows": null,
            "height": null,
            "justify_content": null,
            "justify_items": null,
            "left": null,
            "margin": null,
            "max_height": null,
            "max_width": null,
            "min_height": null,
            "min_width": null,
            "object_fit": null,
            "object_position": null,
            "order": null,
            "overflow": null,
            "overflow_x": null,
            "overflow_y": null,
            "padding": null,
            "right": null,
            "top": null,
            "visibility": null,
            "width": null
          }
        },
        "2c449d710004446991141b9dee535f7e": {
          "model_module": "@jupyter-widgets/controls",
          "model_name": "DescriptionStyleModel",
          "model_module_version": "1.5.0",
          "state": {
            "_model_module": "@jupyter-widgets/controls",
            "_model_module_version": "1.5.0",
            "_model_name": "DescriptionStyleModel",
            "_view_count": null,
            "_view_module": "@jupyter-widgets/base",
            "_view_module_version": "1.2.0",
            "_view_name": "StyleView",
            "description_width": ""
          }
        },
        "1eef3168b9e34b0a81ee03ff0b334d9c": {
          "model_module": "@jupyter-widgets/base",
          "model_name": "LayoutModel",
          "model_module_version": "1.2.0",
          "state": {
            "_model_module": "@jupyter-widgets/base",
            "_model_module_version": "1.2.0",
            "_model_name": "LayoutModel",
            "_view_count": null,
            "_view_module": "@jupyter-widgets/base",
            "_view_module_version": "1.2.0",
            "_view_name": "LayoutView",
            "align_content": null,
            "align_items": null,
            "align_self": null,
            "border": null,
            "bottom": null,
            "display": null,
            "flex": "2",
            "flex_flow": null,
            "grid_area": null,
            "grid_auto_columns": null,
            "grid_auto_flow": null,
            "grid_auto_rows": null,
            "grid_column": null,
            "grid_gap": null,
            "grid_row": null,
            "grid_template_areas": null,
            "grid_template_columns": null,
            "grid_template_rows": null,
            "height": null,
            "justify_content": null,
            "justify_items": null,
            "left": null,
            "margin": null,
            "max_height": null,
            "max_width": null,
            "min_height": null,
            "min_width": null,
            "object_fit": null,
            "object_position": null,
            "order": null,
            "overflow": null,
            "overflow_x": null,
            "overflow_y": null,
            "padding": null,
            "right": null,
            "top": null,
            "visibility": null,
            "width": null
          }
        },
        "660df66274a94b33a24ad2864391aff4": {
          "model_module": "@jupyter-widgets/controls",
          "model_name": "ProgressStyleModel",
          "model_module_version": "1.5.0",
          "state": {
            "_model_module": "@jupyter-widgets/controls",
            "_model_module_version": "1.5.0",
            "_model_name": "ProgressStyleModel",
            "_view_count": null,
            "_view_module": "@jupyter-widgets/base",
            "_view_module_version": "1.2.0",
            "_view_name": "StyleView",
            "bar_color": null,
            "description_width": ""
          }
        },
        "c02033a6519a404591f6958bac48f188": {
          "model_module": "@jupyter-widgets/base",
          "model_name": "LayoutModel",
          "model_module_version": "1.2.0",
          "state": {
            "_model_module": "@jupyter-widgets/base",
            "_model_module_version": "1.2.0",
            "_model_name": "LayoutModel",
            "_view_count": null,
            "_view_module": "@jupyter-widgets/base",
            "_view_module_version": "1.2.0",
            "_view_name": "LayoutView",
            "align_content": null,
            "align_items": null,
            "align_self": null,
            "border": null,
            "bottom": null,
            "display": null,
            "flex": null,
            "flex_flow": null,
            "grid_area": null,
            "grid_auto_columns": null,
            "grid_auto_flow": null,
            "grid_auto_rows": null,
            "grid_column": null,
            "grid_gap": null,
            "grid_row": null,
            "grid_template_areas": null,
            "grid_template_columns": null,
            "grid_template_rows": null,
            "height": null,
            "justify_content": null,
            "justify_items": null,
            "left": null,
            "margin": null,
            "max_height": null,
            "max_width": null,
            "min_height": null,
            "min_width": null,
            "object_fit": null,
            "object_position": null,
            "order": null,
            "overflow": null,
            "overflow_x": null,
            "overflow_y": null,
            "padding": null,
            "right": null,
            "top": null,
            "visibility": null,
            "width": null
          }
        },
        "bedc343a0889433a93d966c3ef26c471": {
          "model_module": "@jupyter-widgets/controls",
          "model_name": "DescriptionStyleModel",
          "model_module_version": "1.5.0",
          "state": {
            "_model_module": "@jupyter-widgets/controls",
            "_model_module_version": "1.5.0",
            "_model_name": "DescriptionStyleModel",
            "_view_count": null,
            "_view_module": "@jupyter-widgets/base",
            "_view_module_version": "1.2.0",
            "_view_name": "StyleView",
            "description_width": ""
          }
        },
        "cc0568a8d7f542c781c552ef70e9f39a": {
          "model_module": "@jupyter-widgets/controls",
          "model_name": "HBoxModel",
          "model_module_version": "1.5.0",
          "state": {
            "_dom_classes": [],
            "_model_module": "@jupyter-widgets/controls",
            "_model_module_version": "1.5.0",
            "_model_name": "HBoxModel",
            "_view_count": null,
            "_view_module": "@jupyter-widgets/controls",
            "_view_module_version": "1.5.0",
            "_view_name": "HBoxView",
            "box_style": "",
            "children": [
              "IPY_MODEL_d6fb31ed7dc840f486f8112ece77de8d",
              "IPY_MODEL_24d1dfeb74a74b5293a2df9078069096",
              "IPY_MODEL_fd63fcda6e024b949e35c7f2ffb4edc6"
            ],
            "layout": "IPY_MODEL_fd3d3595fee4423da79b49996de103e6"
          }
        },
        "d6fb31ed7dc840f486f8112ece77de8d": {
          "model_module": "@jupyter-widgets/controls",
          "model_name": "HTMLModel",
          "model_module_version": "1.5.0",
          "state": {
            "_dom_classes": [],
            "_model_module": "@jupyter-widgets/controls",
            "_model_module_version": "1.5.0",
            "_model_name": "HTMLModel",
            "_view_count": null,
            "_view_module": "@jupyter-widgets/controls",
            "_view_module_version": "1.5.0",
            "_view_name": "HTMLView",
            "description": "",
            "description_tooltip": null,
            "layout": "IPY_MODEL_3aab2f09bb5e42b2813b77109cf1c69e",
            "placeholder": "​",
            "style": "IPY_MODEL_4806def36d014082a8d8577d6c888796",
            "value": "Epoch 4: 100%"
          }
        },
        "24d1dfeb74a74b5293a2df9078069096": {
          "model_module": "@jupyter-widgets/controls",
          "model_name": "FloatProgressModel",
          "model_module_version": "1.5.0",
          "state": {
            "_dom_classes": [],
            "_model_module": "@jupyter-widgets/controls",
            "_model_module_version": "1.5.0",
            "_model_name": "FloatProgressModel",
            "_view_count": null,
            "_view_module": "@jupyter-widgets/controls",
            "_view_module_version": "1.5.0",
            "_view_name": "ProgressView",
            "bar_style": "success",
            "description": "",
            "description_tooltip": null,
            "layout": "IPY_MODEL_a7f68c82bd054f46b54700643669409d",
            "max": 64,
            "min": 0,
            "orientation": "horizontal",
            "style": "IPY_MODEL_423bc0a1be184207baee2fc9a621ac8e",
            "value": 64
          }
        },
        "fd63fcda6e024b949e35c7f2ffb4edc6": {
          "model_module": "@jupyter-widgets/controls",
          "model_name": "HTMLModel",
          "model_module_version": "1.5.0",
          "state": {
            "_dom_classes": [],
            "_model_module": "@jupyter-widgets/controls",
            "_model_module_version": "1.5.0",
            "_model_name": "HTMLModel",
            "_view_count": null,
            "_view_module": "@jupyter-widgets/controls",
            "_view_module_version": "1.5.0",
            "_view_name": "HTMLView",
            "description": "",
            "description_tooltip": null,
            "layout": "IPY_MODEL_b30fefda1f4b4155bb43f2f2b62bf33e",
            "placeholder": "​",
            "style": "IPY_MODEL_65a5bb32a8504c10a158b54fd31b125c",
            "value": " 64/64 [00:00&lt;00:00, 74.85it/s, loss=0.659, v_num=0, lr=0.001, val_loss=0.655, val_auc=0.749, train_loss=0.660, train_auc=0.749]"
          }
        },
        "fd3d3595fee4423da79b49996de103e6": {
          "model_module": "@jupyter-widgets/base",
          "model_name": "LayoutModel",
          "model_module_version": "1.2.0",
          "state": {
            "_model_module": "@jupyter-widgets/base",
            "_model_module_version": "1.2.0",
            "_model_name": "LayoutModel",
            "_view_count": null,
            "_view_module": "@jupyter-widgets/base",
            "_view_module_version": "1.2.0",
            "_view_name": "LayoutView",
            "align_content": null,
            "align_items": null,
            "align_self": null,
            "border": null,
            "bottom": null,
            "display": "inline-flex",
            "flex": null,
            "flex_flow": "row wrap",
            "grid_area": null,
            "grid_auto_columns": null,
            "grid_auto_flow": null,
            "grid_auto_rows": null,
            "grid_column": null,
            "grid_gap": null,
            "grid_row": null,
            "grid_template_areas": null,
            "grid_template_columns": null,
            "grid_template_rows": null,
            "height": null,
            "justify_content": null,
            "justify_items": null,
            "left": null,
            "margin": null,
            "max_height": null,
            "max_width": null,
            "min_height": null,
            "min_width": null,
            "object_fit": null,
            "object_position": null,
            "order": null,
            "overflow": null,
            "overflow_x": null,
            "overflow_y": null,
            "padding": null,
            "right": null,
            "top": null,
            "visibility": null,
            "width": "100%"
          }
        },
        "3aab2f09bb5e42b2813b77109cf1c69e": {
          "model_module": "@jupyter-widgets/base",
          "model_name": "LayoutModel",
          "model_module_version": "1.2.0",
          "state": {
            "_model_module": "@jupyter-widgets/base",
            "_model_module_version": "1.2.0",
            "_model_name": "LayoutModel",
            "_view_count": null,
            "_view_module": "@jupyter-widgets/base",
            "_view_module_version": "1.2.0",
            "_view_name": "LayoutView",
            "align_content": null,
            "align_items": null,
            "align_self": null,
            "border": null,
            "bottom": null,
            "display": null,
            "flex": null,
            "flex_flow": null,
            "grid_area": null,
            "grid_auto_columns": null,
            "grid_auto_flow": null,
            "grid_auto_rows": null,
            "grid_column": null,
            "grid_gap": null,
            "grid_row": null,
            "grid_template_areas": null,
            "grid_template_columns": null,
            "grid_template_rows": null,
            "height": null,
            "justify_content": null,
            "justify_items": null,
            "left": null,
            "margin": null,
            "max_height": null,
            "max_width": null,
            "min_height": null,
            "min_width": null,
            "object_fit": null,
            "object_position": null,
            "order": null,
            "overflow": null,
            "overflow_x": null,
            "overflow_y": null,
            "padding": null,
            "right": null,
            "top": null,
            "visibility": null,
            "width": null
          }
        },
        "4806def36d014082a8d8577d6c888796": {
          "model_module": "@jupyter-widgets/controls",
          "model_name": "DescriptionStyleModel",
          "model_module_version": "1.5.0",
          "state": {
            "_model_module": "@jupyter-widgets/controls",
            "_model_module_version": "1.5.0",
            "_model_name": "DescriptionStyleModel",
            "_view_count": null,
            "_view_module": "@jupyter-widgets/base",
            "_view_module_version": "1.2.0",
            "_view_name": "StyleView",
            "description_width": ""
          }
        },
        "a7f68c82bd054f46b54700643669409d": {
          "model_module": "@jupyter-widgets/base",
          "model_name": "LayoutModel",
          "model_module_version": "1.2.0",
          "state": {
            "_model_module": "@jupyter-widgets/base",
            "_model_module_version": "1.2.0",
            "_model_name": "LayoutModel",
            "_view_count": null,
            "_view_module": "@jupyter-widgets/base",
            "_view_module_version": "1.2.0",
            "_view_name": "LayoutView",
            "align_content": null,
            "align_items": null,
            "align_self": null,
            "border": null,
            "bottom": null,
            "display": null,
            "flex": "2",
            "flex_flow": null,
            "grid_area": null,
            "grid_auto_columns": null,
            "grid_auto_flow": null,
            "grid_auto_rows": null,
            "grid_column": null,
            "grid_gap": null,
            "grid_row": null,
            "grid_template_areas": null,
            "grid_template_columns": null,
            "grid_template_rows": null,
            "height": null,
            "justify_content": null,
            "justify_items": null,
            "left": null,
            "margin": null,
            "max_height": null,
            "max_width": null,
            "min_height": null,
            "min_width": null,
            "object_fit": null,
            "object_position": null,
            "order": null,
            "overflow": null,
            "overflow_x": null,
            "overflow_y": null,
            "padding": null,
            "right": null,
            "top": null,
            "visibility": null,
            "width": null
          }
        },
        "423bc0a1be184207baee2fc9a621ac8e": {
          "model_module": "@jupyter-widgets/controls",
          "model_name": "ProgressStyleModel",
          "model_module_version": "1.5.0",
          "state": {
            "_model_module": "@jupyter-widgets/controls",
            "_model_module_version": "1.5.0",
            "_model_name": "ProgressStyleModel",
            "_view_count": null,
            "_view_module": "@jupyter-widgets/base",
            "_view_module_version": "1.2.0",
            "_view_name": "StyleView",
            "bar_color": null,
            "description_width": ""
          }
        },
        "b30fefda1f4b4155bb43f2f2b62bf33e": {
          "model_module": "@jupyter-widgets/base",
          "model_name": "LayoutModel",
          "model_module_version": "1.2.0",
          "state": {
            "_model_module": "@jupyter-widgets/base",
            "_model_module_version": "1.2.0",
            "_model_name": "LayoutModel",
            "_view_count": null,
            "_view_module": "@jupyter-widgets/base",
            "_view_module_version": "1.2.0",
            "_view_name": "LayoutView",
            "align_content": null,
            "align_items": null,
            "align_self": null,
            "border": null,
            "bottom": null,
            "display": null,
            "flex": null,
            "flex_flow": null,
            "grid_area": null,
            "grid_auto_columns": null,
            "grid_auto_flow": null,
            "grid_auto_rows": null,
            "grid_column": null,
            "grid_gap": null,
            "grid_row": null,
            "grid_template_areas": null,
            "grid_template_columns": null,
            "grid_template_rows": null,
            "height": null,
            "justify_content": null,
            "justify_items": null,
            "left": null,
            "margin": null,
            "max_height": null,
            "max_width": null,
            "min_height": null,
            "min_width": null,
            "object_fit": null,
            "object_position": null,
            "order": null,
            "overflow": null,
            "overflow_x": null,
            "overflow_y": null,
            "padding": null,
            "right": null,
            "top": null,
            "visibility": null,
            "width": null
          }
        },
        "65a5bb32a8504c10a158b54fd31b125c": {
          "model_module": "@jupyter-widgets/controls",
          "model_name": "DescriptionStyleModel",
          "model_module_version": "1.5.0",
          "state": {
            "_model_module": "@jupyter-widgets/controls",
            "_model_module_version": "1.5.0",
            "_model_name": "DescriptionStyleModel",
            "_view_count": null,
            "_view_module": "@jupyter-widgets/base",
            "_view_module_version": "1.2.0",
            "_view_name": "StyleView",
            "description_width": ""
          }
        },
        "56162123fe4042b28272159d893acfa9": {
          "model_module": "@jupyter-widgets/controls",
          "model_name": "HBoxModel",
          "model_module_version": "1.5.0",
          "state": {
            "_dom_classes": [],
            "_model_module": "@jupyter-widgets/controls",
            "_model_module_version": "1.5.0",
            "_model_name": "HBoxModel",
            "_view_count": null,
            "_view_module": "@jupyter-widgets/controls",
            "_view_module_version": "1.5.0",
            "_view_name": "HBoxView",
            "box_style": "",
            "children": [
              "IPY_MODEL_fb77fe209a924203891ffd7ab05cbb62",
              "IPY_MODEL_20b5854c0e724bab8badcf8029e41843",
              "IPY_MODEL_f4b13b08f30c49acbaed311f79fe0ad2"
            ],
            "layout": "IPY_MODEL_ad81fce062c9496288609554f827cd28"
          }
        },
        "fb77fe209a924203891ffd7ab05cbb62": {
          "model_module": "@jupyter-widgets/controls",
          "model_name": "HTMLModel",
          "model_module_version": "1.5.0",
          "state": {
            "_dom_classes": [],
            "_model_module": "@jupyter-widgets/controls",
            "_model_module_version": "1.5.0",
            "_model_name": "HTMLModel",
            "_view_count": null,
            "_view_module": "@jupyter-widgets/controls",
            "_view_module_version": "1.5.0",
            "_view_name": "HTMLView",
            "description": "",
            "description_tooltip": null,
            "layout": "IPY_MODEL_419e7d533269480da34852ffe211b434",
            "placeholder": "​",
            "style": "IPY_MODEL_130da069f5ba41f8bc9c35f4a9c17036",
            "value": "Validation DataLoader 0: 100%"
          }
        },
        "20b5854c0e724bab8badcf8029e41843": {
          "model_module": "@jupyter-widgets/controls",
          "model_name": "FloatProgressModel",
          "model_module_version": "1.5.0",
          "state": {
            "_dom_classes": [],
            "_model_module": "@jupyter-widgets/controls",
            "_model_module_version": "1.5.0",
            "_model_name": "FloatProgressModel",
            "_view_count": null,
            "_view_module": "@jupyter-widgets/controls",
            "_view_module_version": "1.5.0",
            "_view_name": "ProgressView",
            "bar_style": "",
            "description": "",
            "description_tooltip": null,
            "layout": "IPY_MODEL_d2140e74769b454c8f023482b0434add",
            "max": 7,
            "min": 0,
            "orientation": "horizontal",
            "style": "IPY_MODEL_c658fc078cbb4b68a4d3e7f76a27bb4f",
            "value": 7
          }
        },
        "f4b13b08f30c49acbaed311f79fe0ad2": {
          "model_module": "@jupyter-widgets/controls",
          "model_name": "HTMLModel",
          "model_module_version": "1.5.0",
          "state": {
            "_dom_classes": [],
            "_model_module": "@jupyter-widgets/controls",
            "_model_module_version": "1.5.0",
            "_model_name": "HTMLModel",
            "_view_count": null,
            "_view_module": "@jupyter-widgets/controls",
            "_view_module_version": "1.5.0",
            "_view_name": "HTMLView",
            "description": "",
            "description_tooltip": null,
            "layout": "IPY_MODEL_ef3ff36785f74103bc0db18129060ef2",
            "placeholder": "​",
            "style": "IPY_MODEL_50fadb1c58b341028b173d0262aece5a",
            "value": " 7/7 [00:00&lt;00:00, 80.75it/s]"
          }
        },
        "ad81fce062c9496288609554f827cd28": {
          "model_module": "@jupyter-widgets/base",
          "model_name": "LayoutModel",
          "model_module_version": "1.2.0",
          "state": {
            "_model_module": "@jupyter-widgets/base",
            "_model_module_version": "1.2.0",
            "_model_name": "LayoutModel",
            "_view_count": null,
            "_view_module": "@jupyter-widgets/base",
            "_view_module_version": "1.2.0",
            "_view_name": "LayoutView",
            "align_content": null,
            "align_items": null,
            "align_self": null,
            "border": null,
            "bottom": null,
            "display": "inline-flex",
            "flex": null,
            "flex_flow": "row wrap",
            "grid_area": null,
            "grid_auto_columns": null,
            "grid_auto_flow": null,
            "grid_auto_rows": null,
            "grid_column": null,
            "grid_gap": null,
            "grid_row": null,
            "grid_template_areas": null,
            "grid_template_columns": null,
            "grid_template_rows": null,
            "height": null,
            "justify_content": null,
            "justify_items": null,
            "left": null,
            "margin": null,
            "max_height": null,
            "max_width": null,
            "min_height": null,
            "min_width": null,
            "object_fit": null,
            "object_position": null,
            "order": null,
            "overflow": null,
            "overflow_x": null,
            "overflow_y": null,
            "padding": null,
            "right": null,
            "top": null,
            "visibility": "hidden",
            "width": "100%"
          }
        },
        "419e7d533269480da34852ffe211b434": {
          "model_module": "@jupyter-widgets/base",
          "model_name": "LayoutModel",
          "model_module_version": "1.2.0",
          "state": {
            "_model_module": "@jupyter-widgets/base",
            "_model_module_version": "1.2.0",
            "_model_name": "LayoutModel",
            "_view_count": null,
            "_view_module": "@jupyter-widgets/base",
            "_view_module_version": "1.2.0",
            "_view_name": "LayoutView",
            "align_content": null,
            "align_items": null,
            "align_self": null,
            "border": null,
            "bottom": null,
            "display": null,
            "flex": null,
            "flex_flow": null,
            "grid_area": null,
            "grid_auto_columns": null,
            "grid_auto_flow": null,
            "grid_auto_rows": null,
            "grid_column": null,
            "grid_gap": null,
            "grid_row": null,
            "grid_template_areas": null,
            "grid_template_columns": null,
            "grid_template_rows": null,
            "height": null,
            "justify_content": null,
            "justify_items": null,
            "left": null,
            "margin": null,
            "max_height": null,
            "max_width": null,
            "min_height": null,
            "min_width": null,
            "object_fit": null,
            "object_position": null,
            "order": null,
            "overflow": null,
            "overflow_x": null,
            "overflow_y": null,
            "padding": null,
            "right": null,
            "top": null,
            "visibility": null,
            "width": null
          }
        },
        "130da069f5ba41f8bc9c35f4a9c17036": {
          "model_module": "@jupyter-widgets/controls",
          "model_name": "DescriptionStyleModel",
          "model_module_version": "1.5.0",
          "state": {
            "_model_module": "@jupyter-widgets/controls",
            "_model_module_version": "1.5.0",
            "_model_name": "DescriptionStyleModel",
            "_view_count": null,
            "_view_module": "@jupyter-widgets/base",
            "_view_module_version": "1.2.0",
            "_view_name": "StyleView",
            "description_width": ""
          }
        },
        "d2140e74769b454c8f023482b0434add": {
          "model_module": "@jupyter-widgets/base",
          "model_name": "LayoutModel",
          "model_module_version": "1.2.0",
          "state": {
            "_model_module": "@jupyter-widgets/base",
            "_model_module_version": "1.2.0",
            "_model_name": "LayoutModel",
            "_view_count": null,
            "_view_module": "@jupyter-widgets/base",
            "_view_module_version": "1.2.0",
            "_view_name": "LayoutView",
            "align_content": null,
            "align_items": null,
            "align_self": null,
            "border": null,
            "bottom": null,
            "display": null,
            "flex": "2",
            "flex_flow": null,
            "grid_area": null,
            "grid_auto_columns": null,
            "grid_auto_flow": null,
            "grid_auto_rows": null,
            "grid_column": null,
            "grid_gap": null,
            "grid_row": null,
            "grid_template_areas": null,
            "grid_template_columns": null,
            "grid_template_rows": null,
            "height": null,
            "justify_content": null,
            "justify_items": null,
            "left": null,
            "margin": null,
            "max_height": null,
            "max_width": null,
            "min_height": null,
            "min_width": null,
            "object_fit": null,
            "object_position": null,
            "order": null,
            "overflow": null,
            "overflow_x": null,
            "overflow_y": null,
            "padding": null,
            "right": null,
            "top": null,
            "visibility": null,
            "width": null
          }
        },
        "c658fc078cbb4b68a4d3e7f76a27bb4f": {
          "model_module": "@jupyter-widgets/controls",
          "model_name": "ProgressStyleModel",
          "model_module_version": "1.5.0",
          "state": {
            "_model_module": "@jupyter-widgets/controls",
            "_model_module_version": "1.5.0",
            "_model_name": "ProgressStyleModel",
            "_view_count": null,
            "_view_module": "@jupyter-widgets/base",
            "_view_module_version": "1.2.0",
            "_view_name": "StyleView",
            "bar_color": null,
            "description_width": ""
          }
        },
        "ef3ff36785f74103bc0db18129060ef2": {
          "model_module": "@jupyter-widgets/base",
          "model_name": "LayoutModel",
          "model_module_version": "1.2.0",
          "state": {
            "_model_module": "@jupyter-widgets/base",
            "_model_module_version": "1.2.0",
            "_model_name": "LayoutModel",
            "_view_count": null,
            "_view_module": "@jupyter-widgets/base",
            "_view_module_version": "1.2.0",
            "_view_name": "LayoutView",
            "align_content": null,
            "align_items": null,
            "align_self": null,
            "border": null,
            "bottom": null,
            "display": null,
            "flex": null,
            "flex_flow": null,
            "grid_area": null,
            "grid_auto_columns": null,
            "grid_auto_flow": null,
            "grid_auto_rows": null,
            "grid_column": null,
            "grid_gap": null,
            "grid_row": null,
            "grid_template_areas": null,
            "grid_template_columns": null,
            "grid_template_rows": null,
            "height": null,
            "justify_content": null,
            "justify_items": null,
            "left": null,
            "margin": null,
            "max_height": null,
            "max_width": null,
            "min_height": null,
            "min_width": null,
            "object_fit": null,
            "object_position": null,
            "order": null,
            "overflow": null,
            "overflow_x": null,
            "overflow_y": null,
            "padding": null,
            "right": null,
            "top": null,
            "visibility": null,
            "width": null
          }
        },
        "50fadb1c58b341028b173d0262aece5a": {
          "model_module": "@jupyter-widgets/controls",
          "model_name": "DescriptionStyleModel",
          "model_module_version": "1.5.0",
          "state": {
            "_model_module": "@jupyter-widgets/controls",
            "_model_module_version": "1.5.0",
            "_model_name": "DescriptionStyleModel",
            "_view_count": null,
            "_view_module": "@jupyter-widgets/base",
            "_view_module_version": "1.2.0",
            "_view_name": "StyleView",
            "description_width": ""
          }
        },
        "1515369ca456482d8e2640675efe5911": {
          "model_module": "@jupyter-widgets/controls",
          "model_name": "HBoxModel",
          "model_module_version": "1.5.0",
          "state": {
            "_dom_classes": [],
            "_model_module": "@jupyter-widgets/controls",
            "_model_module_version": "1.5.0",
            "_model_name": "HBoxModel",
            "_view_count": null,
            "_view_module": "@jupyter-widgets/controls",
            "_view_module_version": "1.5.0",
            "_view_name": "HBoxView",
            "box_style": "",
            "children": [
              "IPY_MODEL_fab82a0d0c974469ac35aaf52ded5082",
              "IPY_MODEL_3cc94556c4dd4ed3be869944fd8d3257",
              "IPY_MODEL_b9517fac72e04326a52cb3ef11cd6bdd"
            ],
            "layout": "IPY_MODEL_f539a9aed3ce40dd9e5e298d0ffd0a1f"
          }
        },
        "fab82a0d0c974469ac35aaf52ded5082": {
          "model_module": "@jupyter-widgets/controls",
          "model_name": "HTMLModel",
          "model_module_version": "1.5.0",
          "state": {
            "_dom_classes": [],
            "_model_module": "@jupyter-widgets/controls",
            "_model_module_version": "1.5.0",
            "_model_name": "HTMLModel",
            "_view_count": null,
            "_view_module": "@jupyter-widgets/controls",
            "_view_module_version": "1.5.0",
            "_view_name": "HTMLView",
            "description": "",
            "description_tooltip": null,
            "layout": "IPY_MODEL_ee1097cc7b5f4ced8830d4c84b1ca02b",
            "placeholder": "​",
            "style": "IPY_MODEL_882c730f8ab546a49e82210995ff7fb2",
            "value": "Validation DataLoader 0: 100%"
          }
        },
        "3cc94556c4dd4ed3be869944fd8d3257": {
          "model_module": "@jupyter-widgets/controls",
          "model_name": "FloatProgressModel",
          "model_module_version": "1.5.0",
          "state": {
            "_dom_classes": [],
            "_model_module": "@jupyter-widgets/controls",
            "_model_module_version": "1.5.0",
            "_model_name": "FloatProgressModel",
            "_view_count": null,
            "_view_module": "@jupyter-widgets/controls",
            "_view_module_version": "1.5.0",
            "_view_name": "ProgressView",
            "bar_style": "",
            "description": "",
            "description_tooltip": null,
            "layout": "IPY_MODEL_9490147d254447718015c0dde79275ea",
            "max": 7,
            "min": 0,
            "orientation": "horizontal",
            "style": "IPY_MODEL_956155c415364ff79410e40669cf84da",
            "value": 7
          }
        },
        "b9517fac72e04326a52cb3ef11cd6bdd": {
          "model_module": "@jupyter-widgets/controls",
          "model_name": "HTMLModel",
          "model_module_version": "1.5.0",
          "state": {
            "_dom_classes": [],
            "_model_module": "@jupyter-widgets/controls",
            "_model_module_version": "1.5.0",
            "_model_name": "HTMLModel",
            "_view_count": null,
            "_view_module": "@jupyter-widgets/controls",
            "_view_module_version": "1.5.0",
            "_view_name": "HTMLView",
            "description": "",
            "description_tooltip": null,
            "layout": "IPY_MODEL_47b13c5421a1403b8e54df90f8eb0aa4",
            "placeholder": "​",
            "style": "IPY_MODEL_444ff883e2a3467b987e5018ab02472f",
            "value": " 7/7 [00:00&lt;00:00, 95.96it/s]"
          }
        },
        "f539a9aed3ce40dd9e5e298d0ffd0a1f": {
          "model_module": "@jupyter-widgets/base",
          "model_name": "LayoutModel",
          "model_module_version": "1.2.0",
          "state": {
            "_model_module": "@jupyter-widgets/base",
            "_model_module_version": "1.2.0",
            "_model_name": "LayoutModel",
            "_view_count": null,
            "_view_module": "@jupyter-widgets/base",
            "_view_module_version": "1.2.0",
            "_view_name": "LayoutView",
            "align_content": null,
            "align_items": null,
            "align_self": null,
            "border": null,
            "bottom": null,
            "display": "inline-flex",
            "flex": null,
            "flex_flow": "row wrap",
            "grid_area": null,
            "grid_auto_columns": null,
            "grid_auto_flow": null,
            "grid_auto_rows": null,
            "grid_column": null,
            "grid_gap": null,
            "grid_row": null,
            "grid_template_areas": null,
            "grid_template_columns": null,
            "grid_template_rows": null,
            "height": null,
            "justify_content": null,
            "justify_items": null,
            "left": null,
            "margin": null,
            "max_height": null,
            "max_width": null,
            "min_height": null,
            "min_width": null,
            "object_fit": null,
            "object_position": null,
            "order": null,
            "overflow": null,
            "overflow_x": null,
            "overflow_y": null,
            "padding": null,
            "right": null,
            "top": null,
            "visibility": "hidden",
            "width": "100%"
          }
        },
        "ee1097cc7b5f4ced8830d4c84b1ca02b": {
          "model_module": "@jupyter-widgets/base",
          "model_name": "LayoutModel",
          "model_module_version": "1.2.0",
          "state": {
            "_model_module": "@jupyter-widgets/base",
            "_model_module_version": "1.2.0",
            "_model_name": "LayoutModel",
            "_view_count": null,
            "_view_module": "@jupyter-widgets/base",
            "_view_module_version": "1.2.0",
            "_view_name": "LayoutView",
            "align_content": null,
            "align_items": null,
            "align_self": null,
            "border": null,
            "bottom": null,
            "display": null,
            "flex": null,
            "flex_flow": null,
            "grid_area": null,
            "grid_auto_columns": null,
            "grid_auto_flow": null,
            "grid_auto_rows": null,
            "grid_column": null,
            "grid_gap": null,
            "grid_row": null,
            "grid_template_areas": null,
            "grid_template_columns": null,
            "grid_template_rows": null,
            "height": null,
            "justify_content": null,
            "justify_items": null,
            "left": null,
            "margin": null,
            "max_height": null,
            "max_width": null,
            "min_height": null,
            "min_width": null,
            "object_fit": null,
            "object_position": null,
            "order": null,
            "overflow": null,
            "overflow_x": null,
            "overflow_y": null,
            "padding": null,
            "right": null,
            "top": null,
            "visibility": null,
            "width": null
          }
        },
        "882c730f8ab546a49e82210995ff7fb2": {
          "model_module": "@jupyter-widgets/controls",
          "model_name": "DescriptionStyleModel",
          "model_module_version": "1.5.0",
          "state": {
            "_model_module": "@jupyter-widgets/controls",
            "_model_module_version": "1.5.0",
            "_model_name": "DescriptionStyleModel",
            "_view_count": null,
            "_view_module": "@jupyter-widgets/base",
            "_view_module_version": "1.2.0",
            "_view_name": "StyleView",
            "description_width": ""
          }
        },
        "9490147d254447718015c0dde79275ea": {
          "model_module": "@jupyter-widgets/base",
          "model_name": "LayoutModel",
          "model_module_version": "1.2.0",
          "state": {
            "_model_module": "@jupyter-widgets/base",
            "_model_module_version": "1.2.0",
            "_model_name": "LayoutModel",
            "_view_count": null,
            "_view_module": "@jupyter-widgets/base",
            "_view_module_version": "1.2.0",
            "_view_name": "LayoutView",
            "align_content": null,
            "align_items": null,
            "align_self": null,
            "border": null,
            "bottom": null,
            "display": null,
            "flex": "2",
            "flex_flow": null,
            "grid_area": null,
            "grid_auto_columns": null,
            "grid_auto_flow": null,
            "grid_auto_rows": null,
            "grid_column": null,
            "grid_gap": null,
            "grid_row": null,
            "grid_template_areas": null,
            "grid_template_columns": null,
            "grid_template_rows": null,
            "height": null,
            "justify_content": null,
            "justify_items": null,
            "left": null,
            "margin": null,
            "max_height": null,
            "max_width": null,
            "min_height": null,
            "min_width": null,
            "object_fit": null,
            "object_position": null,
            "order": null,
            "overflow": null,
            "overflow_x": null,
            "overflow_y": null,
            "padding": null,
            "right": null,
            "top": null,
            "visibility": null,
            "width": null
          }
        },
        "956155c415364ff79410e40669cf84da": {
          "model_module": "@jupyter-widgets/controls",
          "model_name": "ProgressStyleModel",
          "model_module_version": "1.5.0",
          "state": {
            "_model_module": "@jupyter-widgets/controls",
            "_model_module_version": "1.5.0",
            "_model_name": "ProgressStyleModel",
            "_view_count": null,
            "_view_module": "@jupyter-widgets/base",
            "_view_module_version": "1.2.0",
            "_view_name": "StyleView",
            "bar_color": null,
            "description_width": ""
          }
        },
        "47b13c5421a1403b8e54df90f8eb0aa4": {
          "model_module": "@jupyter-widgets/base",
          "model_name": "LayoutModel",
          "model_module_version": "1.2.0",
          "state": {
            "_model_module": "@jupyter-widgets/base",
            "_model_module_version": "1.2.0",
            "_model_name": "LayoutModel",
            "_view_count": null,
            "_view_module": "@jupyter-widgets/base",
            "_view_module_version": "1.2.0",
            "_view_name": "LayoutView",
            "align_content": null,
            "align_items": null,
            "align_self": null,
            "border": null,
            "bottom": null,
            "display": null,
            "flex": null,
            "flex_flow": null,
            "grid_area": null,
            "grid_auto_columns": null,
            "grid_auto_flow": null,
            "grid_auto_rows": null,
            "grid_column": null,
            "grid_gap": null,
            "grid_row": null,
            "grid_template_areas": null,
            "grid_template_columns": null,
            "grid_template_rows": null,
            "height": null,
            "justify_content": null,
            "justify_items": null,
            "left": null,
            "margin": null,
            "max_height": null,
            "max_width": null,
            "min_height": null,
            "min_width": null,
            "object_fit": null,
            "object_position": null,
            "order": null,
            "overflow": null,
            "overflow_x": null,
            "overflow_y": null,
            "padding": null,
            "right": null,
            "top": null,
            "visibility": null,
            "width": null
          }
        },
        "444ff883e2a3467b987e5018ab02472f": {
          "model_module": "@jupyter-widgets/controls",
          "model_name": "DescriptionStyleModel",
          "model_module_version": "1.5.0",
          "state": {
            "_model_module": "@jupyter-widgets/controls",
            "_model_module_version": "1.5.0",
            "_model_name": "DescriptionStyleModel",
            "_view_count": null,
            "_view_module": "@jupyter-widgets/base",
            "_view_module_version": "1.2.0",
            "_view_name": "StyleView",
            "description_width": ""
          }
        },
        "674a314e175f4e3aacdfca78d594f3f2": {
          "model_module": "@jupyter-widgets/controls",
          "model_name": "HBoxModel",
          "model_module_version": "1.5.0",
          "state": {
            "_dom_classes": [],
            "_model_module": "@jupyter-widgets/controls",
            "_model_module_version": "1.5.0",
            "_model_name": "HBoxModel",
            "_view_count": null,
            "_view_module": "@jupyter-widgets/controls",
            "_view_module_version": "1.5.0",
            "_view_name": "HBoxView",
            "box_style": "",
            "children": [
              "IPY_MODEL_3918a2a0e21f48559dfc893cfe04758b",
              "IPY_MODEL_a8aa29a8e8304d3389eae14a0ab935ea",
              "IPY_MODEL_283eada2ebc84fd8b7879f040614a1d7"
            ],
            "layout": "IPY_MODEL_87c7c40e7d2048009165db81eb302b0d"
          }
        },
        "3918a2a0e21f48559dfc893cfe04758b": {
          "model_module": "@jupyter-widgets/controls",
          "model_name": "HTMLModel",
          "model_module_version": "1.5.0",
          "state": {
            "_dom_classes": [],
            "_model_module": "@jupyter-widgets/controls",
            "_model_module_version": "1.5.0",
            "_model_name": "HTMLModel",
            "_view_count": null,
            "_view_module": "@jupyter-widgets/controls",
            "_view_module_version": "1.5.0",
            "_view_name": "HTMLView",
            "description": "",
            "description_tooltip": null,
            "layout": "IPY_MODEL_e1807981404e43c3ae2cc3bfb95218d1",
            "placeholder": "​",
            "style": "IPY_MODEL_0ed19c25d7f34584a585e1fb988a3fab",
            "value": "Validation DataLoader 0: 100%"
          }
        },
        "a8aa29a8e8304d3389eae14a0ab935ea": {
          "model_module": "@jupyter-widgets/controls",
          "model_name": "FloatProgressModel",
          "model_module_version": "1.5.0",
          "state": {
            "_dom_classes": [],
            "_model_module": "@jupyter-widgets/controls",
            "_model_module_version": "1.5.0",
            "_model_name": "FloatProgressModel",
            "_view_count": null,
            "_view_module": "@jupyter-widgets/controls",
            "_view_module_version": "1.5.0",
            "_view_name": "ProgressView",
            "bar_style": "",
            "description": "",
            "description_tooltip": null,
            "layout": "IPY_MODEL_28537273b41f40b388a0df7a4026e977",
            "max": 7,
            "min": 0,
            "orientation": "horizontal",
            "style": "IPY_MODEL_742a80b3df5449e3ae10c38326bce8dd",
            "value": 7
          }
        },
        "283eada2ebc84fd8b7879f040614a1d7": {
          "model_module": "@jupyter-widgets/controls",
          "model_name": "HTMLModel",
          "model_module_version": "1.5.0",
          "state": {
            "_dom_classes": [],
            "_model_module": "@jupyter-widgets/controls",
            "_model_module_version": "1.5.0",
            "_model_name": "HTMLModel",
            "_view_count": null,
            "_view_module": "@jupyter-widgets/controls",
            "_view_module_version": "1.5.0",
            "_view_name": "HTMLView",
            "description": "",
            "description_tooltip": null,
            "layout": "IPY_MODEL_8d340b011baf455fa1e1b934a292e1ce",
            "placeholder": "​",
            "style": "IPY_MODEL_f5130f5308994164a39613a2a5655295",
            "value": " 7/7 [00:00&lt;00:00, 90.67it/s]"
          }
        },
        "87c7c40e7d2048009165db81eb302b0d": {
          "model_module": "@jupyter-widgets/base",
          "model_name": "LayoutModel",
          "model_module_version": "1.2.0",
          "state": {
            "_model_module": "@jupyter-widgets/base",
            "_model_module_version": "1.2.0",
            "_model_name": "LayoutModel",
            "_view_count": null,
            "_view_module": "@jupyter-widgets/base",
            "_view_module_version": "1.2.0",
            "_view_name": "LayoutView",
            "align_content": null,
            "align_items": null,
            "align_self": null,
            "border": null,
            "bottom": null,
            "display": "inline-flex",
            "flex": null,
            "flex_flow": "row wrap",
            "grid_area": null,
            "grid_auto_columns": null,
            "grid_auto_flow": null,
            "grid_auto_rows": null,
            "grid_column": null,
            "grid_gap": null,
            "grid_row": null,
            "grid_template_areas": null,
            "grid_template_columns": null,
            "grid_template_rows": null,
            "height": null,
            "justify_content": null,
            "justify_items": null,
            "left": null,
            "margin": null,
            "max_height": null,
            "max_width": null,
            "min_height": null,
            "min_width": null,
            "object_fit": null,
            "object_position": null,
            "order": null,
            "overflow": null,
            "overflow_x": null,
            "overflow_y": null,
            "padding": null,
            "right": null,
            "top": null,
            "visibility": "hidden",
            "width": "100%"
          }
        },
        "e1807981404e43c3ae2cc3bfb95218d1": {
          "model_module": "@jupyter-widgets/base",
          "model_name": "LayoutModel",
          "model_module_version": "1.2.0",
          "state": {
            "_model_module": "@jupyter-widgets/base",
            "_model_module_version": "1.2.0",
            "_model_name": "LayoutModel",
            "_view_count": null,
            "_view_module": "@jupyter-widgets/base",
            "_view_module_version": "1.2.0",
            "_view_name": "LayoutView",
            "align_content": null,
            "align_items": null,
            "align_self": null,
            "border": null,
            "bottom": null,
            "display": null,
            "flex": null,
            "flex_flow": null,
            "grid_area": null,
            "grid_auto_columns": null,
            "grid_auto_flow": null,
            "grid_auto_rows": null,
            "grid_column": null,
            "grid_gap": null,
            "grid_row": null,
            "grid_template_areas": null,
            "grid_template_columns": null,
            "grid_template_rows": null,
            "height": null,
            "justify_content": null,
            "justify_items": null,
            "left": null,
            "margin": null,
            "max_height": null,
            "max_width": null,
            "min_height": null,
            "min_width": null,
            "object_fit": null,
            "object_position": null,
            "order": null,
            "overflow": null,
            "overflow_x": null,
            "overflow_y": null,
            "padding": null,
            "right": null,
            "top": null,
            "visibility": null,
            "width": null
          }
        },
        "0ed19c25d7f34584a585e1fb988a3fab": {
          "model_module": "@jupyter-widgets/controls",
          "model_name": "DescriptionStyleModel",
          "model_module_version": "1.5.0",
          "state": {
            "_model_module": "@jupyter-widgets/controls",
            "_model_module_version": "1.5.0",
            "_model_name": "DescriptionStyleModel",
            "_view_count": null,
            "_view_module": "@jupyter-widgets/base",
            "_view_module_version": "1.2.0",
            "_view_name": "StyleView",
            "description_width": ""
          }
        },
        "28537273b41f40b388a0df7a4026e977": {
          "model_module": "@jupyter-widgets/base",
          "model_name": "LayoutModel",
          "model_module_version": "1.2.0",
          "state": {
            "_model_module": "@jupyter-widgets/base",
            "_model_module_version": "1.2.0",
            "_model_name": "LayoutModel",
            "_view_count": null,
            "_view_module": "@jupyter-widgets/base",
            "_view_module_version": "1.2.0",
            "_view_name": "LayoutView",
            "align_content": null,
            "align_items": null,
            "align_self": null,
            "border": null,
            "bottom": null,
            "display": null,
            "flex": "2",
            "flex_flow": null,
            "grid_area": null,
            "grid_auto_columns": null,
            "grid_auto_flow": null,
            "grid_auto_rows": null,
            "grid_column": null,
            "grid_gap": null,
            "grid_row": null,
            "grid_template_areas": null,
            "grid_template_columns": null,
            "grid_template_rows": null,
            "height": null,
            "justify_content": null,
            "justify_items": null,
            "left": null,
            "margin": null,
            "max_height": null,
            "max_width": null,
            "min_height": null,
            "min_width": null,
            "object_fit": null,
            "object_position": null,
            "order": null,
            "overflow": null,
            "overflow_x": null,
            "overflow_y": null,
            "padding": null,
            "right": null,
            "top": null,
            "visibility": null,
            "width": null
          }
        },
        "742a80b3df5449e3ae10c38326bce8dd": {
          "model_module": "@jupyter-widgets/controls",
          "model_name": "ProgressStyleModel",
          "model_module_version": "1.5.0",
          "state": {
            "_model_module": "@jupyter-widgets/controls",
            "_model_module_version": "1.5.0",
            "_model_name": "ProgressStyleModel",
            "_view_count": null,
            "_view_module": "@jupyter-widgets/base",
            "_view_module_version": "1.2.0",
            "_view_name": "StyleView",
            "bar_color": null,
            "description_width": ""
          }
        },
        "8d340b011baf455fa1e1b934a292e1ce": {
          "model_module": "@jupyter-widgets/base",
          "model_name": "LayoutModel",
          "model_module_version": "1.2.0",
          "state": {
            "_model_module": "@jupyter-widgets/base",
            "_model_module_version": "1.2.0",
            "_model_name": "LayoutModel",
            "_view_count": null,
            "_view_module": "@jupyter-widgets/base",
            "_view_module_version": "1.2.0",
            "_view_name": "LayoutView",
            "align_content": null,
            "align_items": null,
            "align_self": null,
            "border": null,
            "bottom": null,
            "display": null,
            "flex": null,
            "flex_flow": null,
            "grid_area": null,
            "grid_auto_columns": null,
            "grid_auto_flow": null,
            "grid_auto_rows": null,
            "grid_column": null,
            "grid_gap": null,
            "grid_row": null,
            "grid_template_areas": null,
            "grid_template_columns": null,
            "grid_template_rows": null,
            "height": null,
            "justify_content": null,
            "justify_items": null,
            "left": null,
            "margin": null,
            "max_height": null,
            "max_width": null,
            "min_height": null,
            "min_width": null,
            "object_fit": null,
            "object_position": null,
            "order": null,
            "overflow": null,
            "overflow_x": null,
            "overflow_y": null,
            "padding": null,
            "right": null,
            "top": null,
            "visibility": null,
            "width": null
          }
        },
        "f5130f5308994164a39613a2a5655295": {
          "model_module": "@jupyter-widgets/controls",
          "model_name": "DescriptionStyleModel",
          "model_module_version": "1.5.0",
          "state": {
            "_model_module": "@jupyter-widgets/controls",
            "_model_module_version": "1.5.0",
            "_model_name": "DescriptionStyleModel",
            "_view_count": null,
            "_view_module": "@jupyter-widgets/base",
            "_view_module_version": "1.2.0",
            "_view_name": "StyleView",
            "description_width": ""
          }
        },
        "d3ddb9b59208465e908e0251bd67e2ac": {
          "model_module": "@jupyter-widgets/controls",
          "model_name": "HBoxModel",
          "model_module_version": "1.5.0",
          "state": {
            "_dom_classes": [],
            "_model_module": "@jupyter-widgets/controls",
            "_model_module_version": "1.5.0",
            "_model_name": "HBoxModel",
            "_view_count": null,
            "_view_module": "@jupyter-widgets/controls",
            "_view_module_version": "1.5.0",
            "_view_name": "HBoxView",
            "box_style": "",
            "children": [
              "IPY_MODEL_5eb944664d8c4f95a3d3b8854c3bd1c1",
              "IPY_MODEL_24bf4c8c4d994fa9bf174eb36fd49d09",
              "IPY_MODEL_0d3db090d953414bb1a1eafc7c3bc8bd"
            ],
            "layout": "IPY_MODEL_3163ec193f2e4922b6454fedcb866191"
          }
        },
        "5eb944664d8c4f95a3d3b8854c3bd1c1": {
          "model_module": "@jupyter-widgets/controls",
          "model_name": "HTMLModel",
          "model_module_version": "1.5.0",
          "state": {
            "_dom_classes": [],
            "_model_module": "@jupyter-widgets/controls",
            "_model_module_version": "1.5.0",
            "_model_name": "HTMLModel",
            "_view_count": null,
            "_view_module": "@jupyter-widgets/controls",
            "_view_module_version": "1.5.0",
            "_view_name": "HTMLView",
            "description": "",
            "description_tooltip": null,
            "layout": "IPY_MODEL_b4555486be1c4b7ca7e2eb48926447d9",
            "placeholder": "​",
            "style": "IPY_MODEL_183eecfc7e2e4e3c8428a2c88f5cbe2c",
            "value": "Validation DataLoader 0: 100%"
          }
        },
        "24bf4c8c4d994fa9bf174eb36fd49d09": {
          "model_module": "@jupyter-widgets/controls",
          "model_name": "FloatProgressModel",
          "model_module_version": "1.5.0",
          "state": {
            "_dom_classes": [],
            "_model_module": "@jupyter-widgets/controls",
            "_model_module_version": "1.5.0",
            "_model_name": "FloatProgressModel",
            "_view_count": null,
            "_view_module": "@jupyter-widgets/controls",
            "_view_module_version": "1.5.0",
            "_view_name": "ProgressView",
            "bar_style": "",
            "description": "",
            "description_tooltip": null,
            "layout": "IPY_MODEL_14833c86e32c4f109386b09a8f835099",
            "max": 7,
            "min": 0,
            "orientation": "horizontal",
            "style": "IPY_MODEL_94a396bc09cf42ebb915ac17e042e607",
            "value": 7
          }
        },
        "0d3db090d953414bb1a1eafc7c3bc8bd": {
          "model_module": "@jupyter-widgets/controls",
          "model_name": "HTMLModel",
          "model_module_version": "1.5.0",
          "state": {
            "_dom_classes": [],
            "_model_module": "@jupyter-widgets/controls",
            "_model_module_version": "1.5.0",
            "_model_name": "HTMLModel",
            "_view_count": null,
            "_view_module": "@jupyter-widgets/controls",
            "_view_module_version": "1.5.0",
            "_view_name": "HTMLView",
            "description": "",
            "description_tooltip": null,
            "layout": "IPY_MODEL_612d3146b0314c36887d1f03117738f9",
            "placeholder": "​",
            "style": "IPY_MODEL_307e8d5582114ca7bb1cb733d56cd374",
            "value": " 7/7 [00:00&lt;00:00, 89.56it/s]"
          }
        },
        "3163ec193f2e4922b6454fedcb866191": {
          "model_module": "@jupyter-widgets/base",
          "model_name": "LayoutModel",
          "model_module_version": "1.2.0",
          "state": {
            "_model_module": "@jupyter-widgets/base",
            "_model_module_version": "1.2.0",
            "_model_name": "LayoutModel",
            "_view_count": null,
            "_view_module": "@jupyter-widgets/base",
            "_view_module_version": "1.2.0",
            "_view_name": "LayoutView",
            "align_content": null,
            "align_items": null,
            "align_self": null,
            "border": null,
            "bottom": null,
            "display": "inline-flex",
            "flex": null,
            "flex_flow": "row wrap",
            "grid_area": null,
            "grid_auto_columns": null,
            "grid_auto_flow": null,
            "grid_auto_rows": null,
            "grid_column": null,
            "grid_gap": null,
            "grid_row": null,
            "grid_template_areas": null,
            "grid_template_columns": null,
            "grid_template_rows": null,
            "height": null,
            "justify_content": null,
            "justify_items": null,
            "left": null,
            "margin": null,
            "max_height": null,
            "max_width": null,
            "min_height": null,
            "min_width": null,
            "object_fit": null,
            "object_position": null,
            "order": null,
            "overflow": null,
            "overflow_x": null,
            "overflow_y": null,
            "padding": null,
            "right": null,
            "top": null,
            "visibility": "hidden",
            "width": "100%"
          }
        },
        "b4555486be1c4b7ca7e2eb48926447d9": {
          "model_module": "@jupyter-widgets/base",
          "model_name": "LayoutModel",
          "model_module_version": "1.2.0",
          "state": {
            "_model_module": "@jupyter-widgets/base",
            "_model_module_version": "1.2.0",
            "_model_name": "LayoutModel",
            "_view_count": null,
            "_view_module": "@jupyter-widgets/base",
            "_view_module_version": "1.2.0",
            "_view_name": "LayoutView",
            "align_content": null,
            "align_items": null,
            "align_self": null,
            "border": null,
            "bottom": null,
            "display": null,
            "flex": null,
            "flex_flow": null,
            "grid_area": null,
            "grid_auto_columns": null,
            "grid_auto_flow": null,
            "grid_auto_rows": null,
            "grid_column": null,
            "grid_gap": null,
            "grid_row": null,
            "grid_template_areas": null,
            "grid_template_columns": null,
            "grid_template_rows": null,
            "height": null,
            "justify_content": null,
            "justify_items": null,
            "left": null,
            "margin": null,
            "max_height": null,
            "max_width": null,
            "min_height": null,
            "min_width": null,
            "object_fit": null,
            "object_position": null,
            "order": null,
            "overflow": null,
            "overflow_x": null,
            "overflow_y": null,
            "padding": null,
            "right": null,
            "top": null,
            "visibility": null,
            "width": null
          }
        },
        "183eecfc7e2e4e3c8428a2c88f5cbe2c": {
          "model_module": "@jupyter-widgets/controls",
          "model_name": "DescriptionStyleModel",
          "model_module_version": "1.5.0",
          "state": {
            "_model_module": "@jupyter-widgets/controls",
            "_model_module_version": "1.5.0",
            "_model_name": "DescriptionStyleModel",
            "_view_count": null,
            "_view_module": "@jupyter-widgets/base",
            "_view_module_version": "1.2.0",
            "_view_name": "StyleView",
            "description_width": ""
          }
        },
        "14833c86e32c4f109386b09a8f835099": {
          "model_module": "@jupyter-widgets/base",
          "model_name": "LayoutModel",
          "model_module_version": "1.2.0",
          "state": {
            "_model_module": "@jupyter-widgets/base",
            "_model_module_version": "1.2.0",
            "_model_name": "LayoutModel",
            "_view_count": null,
            "_view_module": "@jupyter-widgets/base",
            "_view_module_version": "1.2.0",
            "_view_name": "LayoutView",
            "align_content": null,
            "align_items": null,
            "align_self": null,
            "border": null,
            "bottom": null,
            "display": null,
            "flex": "2",
            "flex_flow": null,
            "grid_area": null,
            "grid_auto_columns": null,
            "grid_auto_flow": null,
            "grid_auto_rows": null,
            "grid_column": null,
            "grid_gap": null,
            "grid_row": null,
            "grid_template_areas": null,
            "grid_template_columns": null,
            "grid_template_rows": null,
            "height": null,
            "justify_content": null,
            "justify_items": null,
            "left": null,
            "margin": null,
            "max_height": null,
            "max_width": null,
            "min_height": null,
            "min_width": null,
            "object_fit": null,
            "object_position": null,
            "order": null,
            "overflow": null,
            "overflow_x": null,
            "overflow_y": null,
            "padding": null,
            "right": null,
            "top": null,
            "visibility": null,
            "width": null
          }
        },
        "94a396bc09cf42ebb915ac17e042e607": {
          "model_module": "@jupyter-widgets/controls",
          "model_name": "ProgressStyleModel",
          "model_module_version": "1.5.0",
          "state": {
            "_model_module": "@jupyter-widgets/controls",
            "_model_module_version": "1.5.0",
            "_model_name": "ProgressStyleModel",
            "_view_count": null,
            "_view_module": "@jupyter-widgets/base",
            "_view_module_version": "1.2.0",
            "_view_name": "StyleView",
            "bar_color": null,
            "description_width": ""
          }
        },
        "612d3146b0314c36887d1f03117738f9": {
          "model_module": "@jupyter-widgets/base",
          "model_name": "LayoutModel",
          "model_module_version": "1.2.0",
          "state": {
            "_model_module": "@jupyter-widgets/base",
            "_model_module_version": "1.2.0",
            "_model_name": "LayoutModel",
            "_view_count": null,
            "_view_module": "@jupyter-widgets/base",
            "_view_module_version": "1.2.0",
            "_view_name": "LayoutView",
            "align_content": null,
            "align_items": null,
            "align_self": null,
            "border": null,
            "bottom": null,
            "display": null,
            "flex": null,
            "flex_flow": null,
            "grid_area": null,
            "grid_auto_columns": null,
            "grid_auto_flow": null,
            "grid_auto_rows": null,
            "grid_column": null,
            "grid_gap": null,
            "grid_row": null,
            "grid_template_areas": null,
            "grid_template_columns": null,
            "grid_template_rows": null,
            "height": null,
            "justify_content": null,
            "justify_items": null,
            "left": null,
            "margin": null,
            "max_height": null,
            "max_width": null,
            "min_height": null,
            "min_width": null,
            "object_fit": null,
            "object_position": null,
            "order": null,
            "overflow": null,
            "overflow_x": null,
            "overflow_y": null,
            "padding": null,
            "right": null,
            "top": null,
            "visibility": null,
            "width": null
          }
        },
        "307e8d5582114ca7bb1cb733d56cd374": {
          "model_module": "@jupyter-widgets/controls",
          "model_name": "DescriptionStyleModel",
          "model_module_version": "1.5.0",
          "state": {
            "_model_module": "@jupyter-widgets/controls",
            "_model_module_version": "1.5.0",
            "_model_name": "DescriptionStyleModel",
            "_view_count": null,
            "_view_module": "@jupyter-widgets/base",
            "_view_module_version": "1.2.0",
            "_view_name": "StyleView",
            "description_width": ""
          }
        },
        "63608a3b7f2747cfb7388a92164656f1": {
          "model_module": "@jupyter-widgets/controls",
          "model_name": "HBoxModel",
          "model_module_version": "1.5.0",
          "state": {
            "_dom_classes": [],
            "_model_module": "@jupyter-widgets/controls",
            "_model_module_version": "1.5.0",
            "_model_name": "HBoxModel",
            "_view_count": null,
            "_view_module": "@jupyter-widgets/controls",
            "_view_module_version": "1.5.0",
            "_view_name": "HBoxView",
            "box_style": "",
            "children": [
              "IPY_MODEL_07b08fb32f8f4ebfbe7fa98bf372c358",
              "IPY_MODEL_784269f1b52a46f9bbab4639134b1714",
              "IPY_MODEL_6bea109851de42a488d3907603a5c291"
            ],
            "layout": "IPY_MODEL_24644ab2b45d47518baa37e341857591"
          }
        },
        "07b08fb32f8f4ebfbe7fa98bf372c358": {
          "model_module": "@jupyter-widgets/controls",
          "model_name": "HTMLModel",
          "model_module_version": "1.5.0",
          "state": {
            "_dom_classes": [],
            "_model_module": "@jupyter-widgets/controls",
            "_model_module_version": "1.5.0",
            "_model_name": "HTMLModel",
            "_view_count": null,
            "_view_module": "@jupyter-widgets/controls",
            "_view_module_version": "1.5.0",
            "_view_name": "HTMLView",
            "description": "",
            "description_tooltip": null,
            "layout": "IPY_MODEL_f0c9c34fb10c4b45b1170d0b8effb41c",
            "placeholder": "​",
            "style": "IPY_MODEL_f81bf86a39f54259b0253615ba8c9768",
            "value": "Validation DataLoader 0: 100%"
          }
        },
        "784269f1b52a46f9bbab4639134b1714": {
          "model_module": "@jupyter-widgets/controls",
          "model_name": "FloatProgressModel",
          "model_module_version": "1.5.0",
          "state": {
            "_dom_classes": [],
            "_model_module": "@jupyter-widgets/controls",
            "_model_module_version": "1.5.0",
            "_model_name": "FloatProgressModel",
            "_view_count": null,
            "_view_module": "@jupyter-widgets/controls",
            "_view_module_version": "1.5.0",
            "_view_name": "ProgressView",
            "bar_style": "",
            "description": "",
            "description_tooltip": null,
            "layout": "IPY_MODEL_11a9642793b3432b942725d2e5794be1",
            "max": 7,
            "min": 0,
            "orientation": "horizontal",
            "style": "IPY_MODEL_31dfd8a137ea4970842a9cb199a4b8c5",
            "value": 7
          }
        },
        "6bea109851de42a488d3907603a5c291": {
          "model_module": "@jupyter-widgets/controls",
          "model_name": "HTMLModel",
          "model_module_version": "1.5.0",
          "state": {
            "_dom_classes": [],
            "_model_module": "@jupyter-widgets/controls",
            "_model_module_version": "1.5.0",
            "_model_name": "HTMLModel",
            "_view_count": null,
            "_view_module": "@jupyter-widgets/controls",
            "_view_module_version": "1.5.0",
            "_view_name": "HTMLView",
            "description": "",
            "description_tooltip": null,
            "layout": "IPY_MODEL_4185b62ecf4e4facae53be7aede7a230",
            "placeholder": "​",
            "style": "IPY_MODEL_bcc7c624b3294deb99bc87e3990db173",
            "value": " 7/7 [00:00&lt;00:00, 84.44it/s]"
          }
        },
        "24644ab2b45d47518baa37e341857591": {
          "model_module": "@jupyter-widgets/base",
          "model_name": "LayoutModel",
          "model_module_version": "1.2.0",
          "state": {
            "_model_module": "@jupyter-widgets/base",
            "_model_module_version": "1.2.0",
            "_model_name": "LayoutModel",
            "_view_count": null,
            "_view_module": "@jupyter-widgets/base",
            "_view_module_version": "1.2.0",
            "_view_name": "LayoutView",
            "align_content": null,
            "align_items": null,
            "align_self": null,
            "border": null,
            "bottom": null,
            "display": "inline-flex",
            "flex": null,
            "flex_flow": "row wrap",
            "grid_area": null,
            "grid_auto_columns": null,
            "grid_auto_flow": null,
            "grid_auto_rows": null,
            "grid_column": null,
            "grid_gap": null,
            "grid_row": null,
            "grid_template_areas": null,
            "grid_template_columns": null,
            "grid_template_rows": null,
            "height": null,
            "justify_content": null,
            "justify_items": null,
            "left": null,
            "margin": null,
            "max_height": null,
            "max_width": null,
            "min_height": null,
            "min_width": null,
            "object_fit": null,
            "object_position": null,
            "order": null,
            "overflow": null,
            "overflow_x": null,
            "overflow_y": null,
            "padding": null,
            "right": null,
            "top": null,
            "visibility": "hidden",
            "width": "100%"
          }
        },
        "f0c9c34fb10c4b45b1170d0b8effb41c": {
          "model_module": "@jupyter-widgets/base",
          "model_name": "LayoutModel",
          "model_module_version": "1.2.0",
          "state": {
            "_model_module": "@jupyter-widgets/base",
            "_model_module_version": "1.2.0",
            "_model_name": "LayoutModel",
            "_view_count": null,
            "_view_module": "@jupyter-widgets/base",
            "_view_module_version": "1.2.0",
            "_view_name": "LayoutView",
            "align_content": null,
            "align_items": null,
            "align_self": null,
            "border": null,
            "bottom": null,
            "display": null,
            "flex": null,
            "flex_flow": null,
            "grid_area": null,
            "grid_auto_columns": null,
            "grid_auto_flow": null,
            "grid_auto_rows": null,
            "grid_column": null,
            "grid_gap": null,
            "grid_row": null,
            "grid_template_areas": null,
            "grid_template_columns": null,
            "grid_template_rows": null,
            "height": null,
            "justify_content": null,
            "justify_items": null,
            "left": null,
            "margin": null,
            "max_height": null,
            "max_width": null,
            "min_height": null,
            "min_width": null,
            "object_fit": null,
            "object_position": null,
            "order": null,
            "overflow": null,
            "overflow_x": null,
            "overflow_y": null,
            "padding": null,
            "right": null,
            "top": null,
            "visibility": null,
            "width": null
          }
        },
        "f81bf86a39f54259b0253615ba8c9768": {
          "model_module": "@jupyter-widgets/controls",
          "model_name": "DescriptionStyleModel",
          "model_module_version": "1.5.0",
          "state": {
            "_model_module": "@jupyter-widgets/controls",
            "_model_module_version": "1.5.0",
            "_model_name": "DescriptionStyleModel",
            "_view_count": null,
            "_view_module": "@jupyter-widgets/base",
            "_view_module_version": "1.2.0",
            "_view_name": "StyleView",
            "description_width": ""
          }
        },
        "11a9642793b3432b942725d2e5794be1": {
          "model_module": "@jupyter-widgets/base",
          "model_name": "LayoutModel",
          "model_module_version": "1.2.0",
          "state": {
            "_model_module": "@jupyter-widgets/base",
            "_model_module_version": "1.2.0",
            "_model_name": "LayoutModel",
            "_view_count": null,
            "_view_module": "@jupyter-widgets/base",
            "_view_module_version": "1.2.0",
            "_view_name": "LayoutView",
            "align_content": null,
            "align_items": null,
            "align_self": null,
            "border": null,
            "bottom": null,
            "display": null,
            "flex": "2",
            "flex_flow": null,
            "grid_area": null,
            "grid_auto_columns": null,
            "grid_auto_flow": null,
            "grid_auto_rows": null,
            "grid_column": null,
            "grid_gap": null,
            "grid_row": null,
            "grid_template_areas": null,
            "grid_template_columns": null,
            "grid_template_rows": null,
            "height": null,
            "justify_content": null,
            "justify_items": null,
            "left": null,
            "margin": null,
            "max_height": null,
            "max_width": null,
            "min_height": null,
            "min_width": null,
            "object_fit": null,
            "object_position": null,
            "order": null,
            "overflow": null,
            "overflow_x": null,
            "overflow_y": null,
            "padding": null,
            "right": null,
            "top": null,
            "visibility": null,
            "width": null
          }
        },
        "31dfd8a137ea4970842a9cb199a4b8c5": {
          "model_module": "@jupyter-widgets/controls",
          "model_name": "ProgressStyleModel",
          "model_module_version": "1.5.0",
          "state": {
            "_model_module": "@jupyter-widgets/controls",
            "_model_module_version": "1.5.0",
            "_model_name": "ProgressStyleModel",
            "_view_count": null,
            "_view_module": "@jupyter-widgets/base",
            "_view_module_version": "1.2.0",
            "_view_name": "StyleView",
            "bar_color": null,
            "description_width": ""
          }
        },
        "4185b62ecf4e4facae53be7aede7a230": {
          "model_module": "@jupyter-widgets/base",
          "model_name": "LayoutModel",
          "model_module_version": "1.2.0",
          "state": {
            "_model_module": "@jupyter-widgets/base",
            "_model_module_version": "1.2.0",
            "_model_name": "LayoutModel",
            "_view_count": null,
            "_view_module": "@jupyter-widgets/base",
            "_view_module_version": "1.2.0",
            "_view_name": "LayoutView",
            "align_content": null,
            "align_items": null,
            "align_self": null,
            "border": null,
            "bottom": null,
            "display": null,
            "flex": null,
            "flex_flow": null,
            "grid_area": null,
            "grid_auto_columns": null,
            "grid_auto_flow": null,
            "grid_auto_rows": null,
            "grid_column": null,
            "grid_gap": null,
            "grid_row": null,
            "grid_template_areas": null,
            "grid_template_columns": null,
            "grid_template_rows": null,
            "height": null,
            "justify_content": null,
            "justify_items": null,
            "left": null,
            "margin": null,
            "max_height": null,
            "max_width": null,
            "min_height": null,
            "min_width": null,
            "object_fit": null,
            "object_position": null,
            "order": null,
            "overflow": null,
            "overflow_x": null,
            "overflow_y": null,
            "padding": null,
            "right": null,
            "top": null,
            "visibility": null,
            "width": null
          }
        },
        "bcc7c624b3294deb99bc87e3990db173": {
          "model_module": "@jupyter-widgets/controls",
          "model_name": "DescriptionStyleModel",
          "model_module_version": "1.5.0",
          "state": {
            "_model_module": "@jupyter-widgets/controls",
            "_model_module_version": "1.5.0",
            "_model_name": "DescriptionStyleModel",
            "_view_count": null,
            "_view_module": "@jupyter-widgets/base",
            "_view_module_version": "1.2.0",
            "_view_name": "StyleView",
            "description_width": ""
          }
        }
      }
    }
  },
  "nbformat": 4,
  "nbformat_minor": 0
}